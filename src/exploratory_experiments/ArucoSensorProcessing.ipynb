{
 "cells": [
  {
   "cell_type": "markdown",
   "metadata": {},
   "source": [
    "### Aruco sensor processing\n",
    "\n",
    "Experimentation for the development of an Aruco tag based sensor processing system. "
   ]
  },
  {
   "cell_type": "code",
   "execution_count": 4,
   "metadata": {},
   "outputs": [],
   "source": [
    "import sys\n",
    "sys.path.append(\"..\")\n",
    "from settings import Config\n",
    "import numpy as np\n",
    "import cv2\n"
   ]
  },
  {
   "cell_type": "code",
   "execution_count": 5,
   "metadata": {},
   "outputs": [],
   "source": [
    "from sensorprocessing.aruco.utils import  aruco_display\n",
    "\n",
    "arucoDict = cv2.aruco.getPredefinedDictionary(cv2.aruco.DICT_5X5_100)\n",
    "arucoParams = cv2.aruco.DetectorParameters()"
   ]
  },
  {
   "cell_type": "code",
   "execution_count": 7,
   "metadata": {},
   "outputs": [
    {
     "name": "stdout",
     "output_type": "stream",
     "text": [
      "2\n",
      "[Inference] ArUco marker ID: 5\n",
      "[Inference] ArUco marker ID: 5\n",
      "[Inference] ArUco marker ID: 5\n",
      "[Inference] ArUco marker ID: 5\n",
      "[Inference] ArUco marker ID: 5\n",
      "[Inference] ArUco marker ID: 5\n",
      "[Inference] ArUco marker ID: 5\n",
      "[Inference] ArUco marker ID: 5\n",
      "[Inference] ArUco marker ID: 5\n",
      "[Inference] ArUco marker ID: 5\n",
      "[Inference] ArUco marker ID: 5\n",
      "[Inference] ArUco marker ID: 5\n",
      "[Inference] ArUco marker ID: 5\n",
      "[Inference] ArUco marker ID: 5\n",
      "[Inference] ArUco marker ID: 5\n",
      "[Inference] ArUco marker ID: 5\n",
      "[Inference] ArUco marker ID: 5\n",
      "[Inference] ArUco marker ID: 5\n",
      "[Inference] ArUco marker ID: 5\n",
      "[Inference] ArUco marker ID: 5\n",
      "[Inference] ArUco marker ID: 5\n",
      "[Inference] ArUco marker ID: 5\n",
      "[Inference] ArUco marker ID: 5\n"
     ]
    }
   ],
   "source": [
    "camera_number = Config().values[\"robot\"][\"active_camera_list\"][0]\n",
    "print(camera_number)\n",
    "#camera_number = 2\n",
    "cap = cv2.VideoCapture(camera_number)\n",
    "\n",
    "while(True):\n",
    "    ret, frame = cap.read()\n",
    "    if not ret:\n",
    "        print(\"Capture frame returned False, exiting the loop\")\n",
    "        break\n",
    "    frame = cv2.resize(frame, (640, 480))\n",
    "    # imgresized = frame\n",
    "\n",
    "    # insert ARUCO code here\n",
    "\n",
    "    marker_corners, marker_ids, rejected_candidates = cv2.aruco.detectMarkers(\n",
    "        frame, arucoDict, parameters=arucoParams)\n",
    "    \n",
    "    detected_markers = aruco_display(marker_corners, marker_ids, rejected_candidates, frame)\n",
    "\n",
    "    # end of ARUCO code\n",
    "\n",
    "    # cv2.imshow('Press q to exit', frame)\n",
    "    cv2.imshow('Press q to exit', detected_markers)\n",
    "    ret = cv2.waitKey(1)\n",
    "    if ret != -1:\n",
    "        ret2 = ret & 0xFF\n",
    "        if ret2 == ord('q'):\n",
    "            break\n",
    "# When everything done, release the capture\n",
    "cap.release()\n",
    "cv2.destroyAllWindows()"
   ]
  },
  {
   "cell_type": "markdown",
   "metadata": {},
   "source": []
  },
  {
   "cell_type": "code",
   "execution_count": 16,
   "metadata": {},
   "outputs": [
    {
     "name": "stdout",
     "output_type": "stream",
     "text": [
      "(array([[[587., 137.],\n",
      "        [608., 136.],\n",
      "        [608., 154.],\n",
      "        [587., 155.]]], dtype=float32), array([[[531., 203.],\n",
      "        [550., 203.],\n",
      "        [550., 221.],\n",
      "        [531., 221.]]], dtype=float32), array([[[533., 141.],\n",
      "        [550., 139.],\n",
      "        [550., 156.],\n",
      "        [533., 158.]]], dtype=float32))\n"
     ]
    }
   ],
   "source": [
    "print(marker_corners)"
   ]
  },
  {
   "cell_type": "code",
   "execution_count": 17,
   "metadata": {},
   "outputs": [
    {
     "data": {
      "text/plain": [
       "array([[2],\n",
       "       [9],\n",
       "       [1]], dtype=int32)"
      ]
     },
     "execution_count": 17,
     "metadata": {},
     "output_type": "execute_result"
    }
   ],
   "source": [
    "marker_ids"
   ]
  },
  {
   "cell_type": "code",
   "execution_count": 20,
   "metadata": {},
   "outputs": [
    {
     "data": {
      "text/plain": [
       "(480, 640, 3)"
      ]
     },
     "execution_count": 20,
     "metadata": {},
     "output_type": "execute_result"
    }
   ],
   "source": [
    "frame.shape"
   ]
  },
  {
   "cell_type": "markdown",
   "metadata": {},
   "source": [
    "This code creates the encoding for the Aruco markers because "
   ]
  },
  {
   "cell_type": "code",
   "execution_count": null,
   "metadata": {},
   "outputs": [],
   "source": [
    "MARKER_COUNT = 10\n",
    "XMAX = float(frame.shape[1])\n",
    "YMAX = float(frame.shape[0])\n",
    "NORMALIZER = np.tile([XMAX, YMAX], 4)\n",
    "\n",
    "z = np.ones(MARKER_COUNT * (8 + 1)) * -1.0\n",
    "for id, corners in zip(marker_ids, marker_corners):\n",
    "    detection = corners[0].flatten() / NORMALIZER\n",
    "    idn = id[0]\n",
    "    z[idn * (8+1):(idn+1) * (8+1)-1] = detection\n"
   ]
  },
  {
   "cell_type": "code",
   "execution_count": 36,
   "metadata": {},
   "outputs": [
    {
     "data": {
      "text/plain": [
       "array([-1., -1., -1., -1., -1., -1., -1., -1., -1.])"
      ]
     },
     "execution_count": 36,
     "metadata": {},
     "output_type": "execute_result"
    }
   ],
   "source": [
    "z[0:9]"
   ]
  },
  {
   "cell_type": "code",
   "execution_count": null,
   "metadata": {},
   "outputs": [],
   "source": []
  }
 ],
 "metadata": {
  "kernelspec": {
   "display_name": "venv",
   "language": "python",
   "name": "python3"
  },
  "language_info": {
   "codemirror_mode": {
    "name": "ipython",
    "version": 3
   },
   "file_extension": ".py",
   "mimetype": "text/x-python",
   "name": "python",
   "nbconvert_exporter": "python",
   "pygments_lexer": "ipython3",
   "version": "3.10.12"
  }
 },
 "nbformat": 4,
 "nbformat_minor": 2
}
