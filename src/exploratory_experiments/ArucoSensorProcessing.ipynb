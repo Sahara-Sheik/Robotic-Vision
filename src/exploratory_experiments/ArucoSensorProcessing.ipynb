{
 "cells": [
  {
   "cell_type": "markdown",
   "metadata": {},
   "source": [
    "### Aruco sensor processing\n",
    "\n",
    "Experimentation for the development of an Aruco tag based sensor processing system. "
   ]
  },
  {
   "cell_type": "code",
   "execution_count": 1,
   "metadata": {},
   "outputs": [],
   "source": [
    "import sys\n",
    "sys.path.append(\"..\")\n",
    "from settings import Config\n",
    "import numpy as np\n",
    "import cv2\n",
    "import torch\n",
    "import pprint\n",
    "\n",
    "from sensorprocessing import sp_aruco\n",
    "\n",
    "# Move data to GPU (if available)\n",
    "device = torch.device(\"cuda\" if torch.cuda.is_available() else \"cpu\")"
   ]
  },
  {
   "cell_type": "code",
   "execution_count": 2,
   "metadata": {},
   "outputs": [],
   "source": [
    "from sensorprocessing.aruco.utils import aruco_display\n",
    "\n",
    "arucoDict = cv2.aruco.getPredefinedDictionary(cv2.aruco.DICT_5X5_100)\n",
    "arucoParams = cv2.aruco.DetectorParameters()"
   ]
  },
  {
   "cell_type": "code",
   "execution_count": 3,
   "metadata": {},
   "outputs": [
    {
     "name": "stdout",
     "output_type": "stream",
     "text": [
      "Loading pointer config file: /home/lboloni/.config/BerryPicker/mainsettings.yaml\n",
      "Loading machine-specific config file: /home/lboloni/Insync/lotzi.boloni@gmail.com/Google Drive/LotziStudy/Code/PackageTracking/BerryPicker/settings/settings-tredy2.yaml\n",
      "No system dependent experiment file\n",
      " /home/lboloni/Insync/lotzi.boloni@gmail.com/Google Drive/LotziStudy/Code/PackageTracking/BerryPicker/settings/experiment-config/Tredy2/sensorprocessing_aruco/aruco_128_sysdep.yaml,\n",
      " that is ok, proceeding.\n",
      "Configuration for experiment: sensorprocessing_aruco/aruco_128 successfully loaded\n",
      "{'MARKER_COUNT': 10,\n",
      " 'XMAX': 1000,\n",
      " 'YMAX': None,\n",
      " 'data_dir': PosixPath('/home/lboloni/Documents/Hackingwork/__Temporary/BerryPicker-experiments/sensorprocessing_aruco/aruco_128'),\n",
      " 'exp_run_sys_indep_file': PosixPath('/home/lboloni/Documents/Hackingwork/_Checkouts/BerryPicker/BerryPicker/src/experiment_configs/sensorprocessing_aruco/aruco_128.yaml'),\n",
      " 'group_name': 'sensorprocessing_aruco',\n",
      " 'latent_size': 128,\n",
      " 'run_name': 'aruco_128',\n",
      " 'validation_demo': 'test',\n",
      " 'validation_task': 'proprioception-aruco'}\n"
     ]
    }
   ],
   "source": [
    "# Specify the experiment\n",
    "experiment = \"sensorprocessing_aruco\"\n",
    "run = \"aruco_128\" \n",
    "exp = Config().get_experiment(experiment, run)\n",
    "pprint.pprint(exp)\n",
    "sp = sp_aruco.ArucoSensorProcessing(exp, device)"
   ]
  },
  {
   "cell_type": "code",
   "execution_count": 4,
   "metadata": {},
   "outputs": [
    {
     "name": "stdout",
     "output_type": "stream",
     "text": [
      "2\n",
      "[[[ 69  81  79]\n",
      "  [ 67  79  77]\n",
      "  [ 61  80  77]\n",
      "  ...\n",
      "  [107 125 119]\n",
      "  [110 125 121]\n",
      "  [110 125 121]]\n",
      "\n",
      " [[ 62  77  74]\n",
      "  [ 65  79  77]\n",
      "  [ 59  80  77]\n",
      "  ...\n",
      "  [110 123 117]\n",
      "  [113 123 121]\n",
      "  [112 121 120]]\n",
      "\n",
      " [[ 60  79  76]\n",
      "  [ 61  80  77]\n",
      "  [ 63  85  81]\n",
      "  ...\n",
      "  [105 112 106]\n",
      "  [121 123 116]\n",
      "  [121 123 116]]\n",
      "\n",
      " ...\n",
      "\n",
      " [[  2   7   4]\n",
      "  [  0   2   0]\n",
      "  [  0   2   0]\n",
      "  ...\n",
      "  [ 36  49  45]\n",
      "  [ 31  45  43]\n",
      "  [ 32  47  44]]\n",
      "\n",
      " [[  0   2   0]\n",
      "  [  0   2   0]\n",
      "  [  0   2   0]\n",
      "  ...\n",
      "  [ 32  47  44]\n",
      "  [ 38  45  44]\n",
      "  [ 39  47  45]]\n",
      "\n",
      " [[  0   2   0]\n",
      "  [  0   2   0]\n",
      "  [  0   2   0]\n",
      "  ...\n",
      "  [ 32  47  44]\n",
      "  [ 42  45  44]\n",
      "  [ 43  46  45]]]\n",
      "(480, 640, 3)\n"
     ]
    },
    {
     "ename": "AttributeError",
     "evalue": "'numpy.ndarray' object has no attribute 'permute'",
     "output_type": "error",
     "traceback": [
      "\u001b[0;31m---------------------------------------------------------------------------\u001b[0m",
      "\u001b[0;31mAttributeError\u001b[0m                            Traceback (most recent call last)",
      "Cell \u001b[0;32mIn[4], line 16\u001b[0m\n\u001b[1;32m     12\u001b[0m \u001b[38;5;66;03m# imgresized = frame\u001b[39;00m\n\u001b[1;32m     14\u001b[0m \u001b[38;5;28mprint\u001b[39m(frame)\n\u001b[0;32m---> 16\u001b[0m z \u001b[38;5;241m=\u001b[39m \u001b[43msp\u001b[49m\u001b[38;5;241;43m.\u001b[39;49m\u001b[43mprocess\u001b[49m\u001b[43m(\u001b[49m\u001b[43mframe\u001b[49m\u001b[43m)\u001b[49m\n\u001b[1;32m     17\u001b[0m \u001b[38;5;28mprint\u001b[39m(z)\n\u001b[1;32m     19\u001b[0m \u001b[38;5;66;03m# insert ARUCO code here\u001b[39;00m\n",
      "File \u001b[0;32m~/Documents/Hackingwork/_Checkouts/BerryPicker/BerryPicker/src/exploratory_experiments/../sensorprocessing/sp_aruco.py:37\u001b[0m, in \u001b[0;36mArucoSensorProcessing.process\u001b[0;34m(self, sensor_image)\u001b[0m\n\u001b[1;32m     35\u001b[0m \u001b[38;5;28mprint\u001b[39m(sensor_image\u001b[38;5;241m.\u001b[39mshape)\n\u001b[1;32m     36\u001b[0m \u001b[38;5;66;03m# Convert to NumPy and rearrange dimensions\u001b[39;00m\n\u001b[0;32m---> 37\u001b[0m numpy_image \u001b[38;5;241m=\u001b[39m \u001b[43msensor_image\u001b[49m\u001b[43m[\u001b[49m\u001b[38;5;241;43m0\u001b[39;49m\u001b[43m]\u001b[49m\u001b[38;5;241;43m.\u001b[39;49m\u001b[43mpermute\u001b[49m(\u001b[38;5;241m1\u001b[39m, \u001b[38;5;241m2\u001b[39m, \u001b[38;5;241m0\u001b[39m)\u001b[38;5;241m.\u001b[39mcpu()\u001b[38;5;241m.\u001b[39mnumpy()  \u001b[38;5;66;03m# Convert to (H, W, C)\u001b[39;00m\n\u001b[1;32m     39\u001b[0m \u001b[38;5;28mprint\u001b[39m(numpy_image)\n\u001b[1;32m     41\u001b[0m \u001b[38;5;66;03m# Convert from float [0,1] to uint8 [0,255]\u001b[39;00m\n",
      "\u001b[0;31mAttributeError\u001b[0m: 'numpy.ndarray' object has no attribute 'permute'"
     ]
    }
   ],
   "source": [
    "camera_number = Config().values[\"robot\"][\"active_camera_list\"][0]\n",
    "print(camera_number)\n",
    "#camera_number = 2\n",
    "cap = cv2.VideoCapture(camera_number)\n",
    "\n",
    "while(True):\n",
    "    ret, frame = cap.read()\n",
    "    if not ret:\n",
    "        print(\"Capture frame returned False, exiting the loop\")\n",
    "        break\n",
    "    frame = cv2.resize(frame, (640, 480))\n",
    "    # imgresized = frame\n",
    "\n",
    "    print(frame)\n",
    "\n",
    "    z = sp.process(frame)\n",
    "    print(z)\n",
    "\n",
    "    # insert ARUCO code here\n",
    "\n",
    "    marker_corners, marker_ids, rejected_candidates = cv2.aruco.detectMarkers(\n",
    "        frame, arucoDict, parameters=arucoParams)\n",
    "    \n",
    "    detected_markers = aruco_display(marker_corners, marker_ids, rejected_candidates, frame)\n",
    "\n",
    "    # end of ARUCO code\n",
    "\n",
    "    # cv2.imshow('Press q to exit', frame)\n",
    "    cv2.imshow('Press q to exit', detected_markers)\n",
    "    ret = cv2.waitKey(1)\n",
    "    if ret != -1:\n",
    "        ret2 = ret & 0xFF\n",
    "        if ret2 == ord('q'):\n",
    "            break\n",
    "# When everything done, release the capture\n",
    "cap.release()\n",
    "cv2.destroyAllWindows()"
   ]
  },
  {
   "cell_type": "markdown",
   "metadata": {},
   "source": []
  },
  {
   "cell_type": "code",
   "execution_count": null,
   "metadata": {},
   "outputs": [
    {
     "name": "stdout",
     "output_type": "stream",
     "text": [
      "(array([[[587., 137.],\n",
      "        [608., 136.],\n",
      "        [608., 154.],\n",
      "        [587., 155.]]], dtype=float32), array([[[531., 203.],\n",
      "        [550., 203.],\n",
      "        [550., 221.],\n",
      "        [531., 221.]]], dtype=float32), array([[[533., 141.],\n",
      "        [550., 139.],\n",
      "        [550., 156.],\n",
      "        [533., 158.]]], dtype=float32))\n"
     ]
    }
   ],
   "source": [
    "print(marker_corners)"
   ]
  },
  {
   "cell_type": "code",
   "execution_count": null,
   "metadata": {},
   "outputs": [
    {
     "data": {
      "text/plain": [
       "array([[2],\n",
       "       [9],\n",
       "       [1]], dtype=int32)"
      ]
     },
     "execution_count": 17,
     "metadata": {},
     "output_type": "execute_result"
    }
   ],
   "source": [
    "marker_ids"
   ]
  },
  {
   "cell_type": "code",
   "execution_count": null,
   "metadata": {},
   "outputs": [
    {
     "data": {
      "text/plain": [
       "(480, 640, 3)"
      ]
     },
     "execution_count": 20,
     "metadata": {},
     "output_type": "execute_result"
    }
   ],
   "source": [
    "frame.shape"
   ]
  },
  {
   "cell_type": "markdown",
   "metadata": {},
   "source": [
    "This code creates the encoding for the Aruco markers because "
   ]
  },
  {
   "cell_type": "code",
   "execution_count": null,
   "metadata": {},
   "outputs": [],
   "source": [
    "MARKER_COUNT = 10\n",
    "XMAX = float(frame.shape[1])\n",
    "YMAX = float(frame.shape[0])\n",
    "NORMALIZER = np.tile([XMAX, YMAX], 4)\n",
    "\n",
    "z = np.ones(MARKER_COUNT * (8 + 1)) * -1.0\n",
    "for id, corners in zip(marker_ids, marker_corners):\n",
    "    detection = corners[0].flatten() / NORMALIZER\n",
    "    idn = id[0]\n",
    "    z[idn * (8+1):(idn+1) * (8+1)-1] = detection\n"
   ]
  },
  {
   "cell_type": "code",
   "execution_count": null,
   "metadata": {},
   "outputs": [
    {
     "data": {
      "text/plain": [
       "array([-1., -1., -1., -1., -1., -1., -1., -1., -1.])"
      ]
     },
     "execution_count": 36,
     "metadata": {},
     "output_type": "execute_result"
    }
   ],
   "source": [
    "z[0:9]"
   ]
  },
  {
   "cell_type": "code",
   "execution_count": null,
   "metadata": {},
   "outputs": [],
   "source": []
  }
 ],
 "metadata": {
  "kernelspec": {
   "display_name": "venv",
   "language": "python",
   "name": "python3"
  },
  "language_info": {
   "codemirror_mode": {
    "name": "ipython",
    "version": 3
   },
   "file_extension": ".py",
   "mimetype": "text/x-python",
   "name": "python",
   "nbconvert_exporter": "python",
   "pygments_lexer": "ipython3",
   "version": "3.10.12"
  }
 },
 "nbformat": 4,
 "nbformat_minor": 2
}
