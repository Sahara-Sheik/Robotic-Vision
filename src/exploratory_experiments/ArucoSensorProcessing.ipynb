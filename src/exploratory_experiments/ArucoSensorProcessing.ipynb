{
 "cells": [
  {
   "cell_type": "markdown",
   "metadata": {},
   "source": [
    "### Aruco sensor processing\n",
    "\n",
    "Experimentation for the development of an Aruco tag based sensor processing system. "
   ]
  },
  {
   "cell_type": "code",
   "execution_count": 1,
   "metadata": {},
   "outputs": [],
   "source": [
    "import sys\n",
    "sys.path.append(\"..\")\n",
    "from settings import Config\n",
    "import numpy as np\n",
    "import cv2\n",
    "import torch\n",
    "import pprint\n",
    "\n",
    "from sensorprocessing import sp_aruco\n",
    "\n",
    "# Move data to GPU (if available)\n",
    "device = torch.device(\"cuda\" if torch.cuda.is_available() else \"cpu\")"
   ]
  },
  {
   "cell_type": "code",
   "execution_count": 2,
   "metadata": {},
   "outputs": [
    {
     "name": "stdout",
     "output_type": "stream",
     "text": [
      "Training on GPU\n"
     ]
    }
   ],
   "source": [
    "if device.type == \"cuda\":\n",
    "    print(\"Training on GPU\")\n",
    "else:\n",
    "    print(\"Training on CPU\")"
   ]
  },
  {
   "cell_type": "code",
   "execution_count": 3,
   "metadata": {},
   "outputs": [],
   "source": [
    "from sensorprocessing.aruco.utils import aruco_display\n",
    "\n",
    "arucoDict = cv2.aruco.getPredefinedDictionary(cv2.aruco.DICT_5X5_100)\n",
    "arucoParams = cv2.aruco.DetectorParameters()"
   ]
  },
  {
   "cell_type": "code",
   "execution_count": 4,
   "metadata": {},
   "outputs": [
    {
     "name": "stdout",
     "output_type": "stream",
     "text": [
      "Loading pointer config file: /home/ssheikholeslami/.config/BerryPicker/mainsettings.yaml\n",
      "Loading machine-specific config file: /home/ssheikholeslami/SaharaBerryPickerData/settings-sahara.yaml\n",
      "No system dependent experiment file\n",
      " /home/ssheikholeslami/SaharaBerryPickerData/experiments-Config/sensorprocessing_aruco/aruco_128_sysdep.yaml,\n",
      " that is ok, proceeding.\n",
      "Configuration for experiment: sensorprocessing_aruco/aruco_128 successfully loaded\n",
      "{'MARKER_COUNT': 10,\n",
      " 'data_dir': PosixPath('/home/ssheikholeslami/SaharaBerryPickerData/experiment_data/sensorprocessing_aruco/aruco_128'),\n",
      " 'exp_run_sys_indep_file': PosixPath('/lustre/fs1/home/ssheikholeslami/BerryPicker/src/experiment_configs/sensorprocessing_aruco/aruco_128.yaml'),\n",
      " 'group_name': 'sensorprocessing_aruco',\n",
      " 'latent_size': 128,\n",
      " 'run_name': 'aruco_128',\n",
      " 'validation_demo': 'test',\n",
      " 'validation_task': 'proprioception-aruco'}\n"
     ]
    }
   ],
   "source": [
    "# Specify the experiment\n",
    "experiment = \"sensorprocessing_aruco\"\n",
    "run = \"aruco_128\"\n",
    "exp = Config().get_experiment(experiment, run)\n",
    "pprint.pprint(exp)\n",
    "sp = sp_aruco.ArucoSensorProcessing(exp, device)"
   ]
  },
  {
   "cell_type": "code",
   "execution_count": 5,
   "metadata": {},
   "outputs": [
    {
     "name": "stdout",
     "output_type": "stream",
     "text": [
      "2\n",
      "Capture frame returned False, exiting the loop\n"
     ]
    },
    {
     "name": "stderr",
     "output_type": "stream",
     "text": [
      "[ WARN:0@46.509] global cap_v4l.cpp:999 open VIDEOIO(V4L2:/dev/video2): can't open camera by index\n",
      "[ERROR:0@46.530] global obsensor_uvc_stream_channel.cpp:158 getStreamChannelGroup Camera index out of range\n"
     ]
    }
   ],
   "source": [
    "camera_number = Config().values[\"robot\"][\"active_camera_list\"][0]\n",
    "print(camera_number)\n",
    "#camera_number = 2\n",
    "cap = cv2.VideoCapture(camera_number)\n",
    "\n",
    "while(True):\n",
    "    ret, frame = cap.read()\n",
    "    if not ret:\n",
    "        print(\"Capture frame returned False, exiting the loop\")\n",
    "        break\n",
    "    frame = cv2.resize(frame, (256, 256))\n",
    "    # imgresized = frame\n",
    "\n",
    "    print(frame)\n",
    "\n",
    "    #z = sp.process(frame)\n",
    "    #print(z)\n",
    "\n",
    "    # insert ARUCO code here\n",
    "\n",
    "    marker_corners, marker_ids, rejected_candidates = cv2.aruco.detectMarkers(\n",
    "        frame, arucoDict, parameters=arucoParams)\n",
    "\n",
    "    detected_markers = aruco_display(marker_corners, marker_ids, rejected_candidates, frame)\n",
    "\n",
    "    # end of ARUCO code\n",
    "\n",
    "    # cv2.imshow('Press q to exit', frame)\n",
    "    cv2.imshow('Press q to exit', detected_markers)\n",
    "    ret = cv2.waitKey(1)\n",
    "    if ret != -1:\n",
    "        ret2 = ret & 0xFF\n",
    "        if ret2 == ord('q'):\n",
    "            break\n",
    "# When everything done, release the capture\n",
    "cap.release()\n",
    "cv2.destroyAllWindows()"
   ]
  },
  {
   "cell_type": "markdown",
   "metadata": {},
   "source": []
  },
  {
   "cell_type": "code",
   "execution_count": 6,
   "metadata": {},
   "outputs": [
    {
     "ename": "NameError",
     "evalue": "name 'marker_corners' is not defined",
     "output_type": "error",
     "traceback": [
      "\u001b[0;31m---------------------------------------------------------------------------\u001b[0m",
      "\u001b[0;31mNameError\u001b[0m                                 Traceback (most recent call last)",
      "Cell \u001b[0;32mIn[6], line 1\u001b[0m\n\u001b[0;32m----> 1\u001b[0m \u001b[38;5;28mprint\u001b[39m(marker_corners)\n",
      "\u001b[0;31mNameError\u001b[0m: name 'marker_corners' is not defined"
     ]
    }
   ],
   "source": [
    "print(marker_corners)"
   ]
  },
  {
   "cell_type": "code",
   "execution_count": 6,
   "metadata": {},
   "outputs": [],
   "source": [
    "marker_ids"
   ]
  },
  {
   "cell_type": "code",
   "execution_count": 7,
   "metadata": {},
   "outputs": [
    {
     "data": {
      "text/plain": [
       "(256, 256, 3)"
      ]
     },
     "execution_count": 7,
     "metadata": {},
     "output_type": "execute_result"
    }
   ],
   "source": [
    "frame.shape"
   ]
  },
  {
   "cell_type": "markdown",
   "metadata": {},
   "source": [
    "This code creates the encoding for the Aruco markers because "
   ]
  },
  {
   "cell_type": "code",
   "execution_count": 7,
   "metadata": {},
   "outputs": [
    {
     "ename": "AttributeError",
     "evalue": "'NoneType' object has no attribute 'shape'",
     "output_type": "error",
     "traceback": [
      "\u001b[0;31m---------------------------------------------------------------------------\u001b[0m",
      "\u001b[0;31mAttributeError\u001b[0m                            Traceback (most recent call last)",
      "Cell \u001b[0;32mIn[7], line 2\u001b[0m\n\u001b[1;32m      1\u001b[0m MARKER_COUNT \u001b[38;5;241m=\u001b[39m \u001b[38;5;241m10\u001b[39m\n\u001b[0;32m----> 2\u001b[0m XMAX \u001b[38;5;241m=\u001b[39m \u001b[38;5;28mfloat\u001b[39m(frame\u001b[38;5;241m.\u001b[39mshape[\u001b[38;5;241m1\u001b[39m])\n\u001b[1;32m      3\u001b[0m YMAX \u001b[38;5;241m=\u001b[39m \u001b[38;5;28mfloat\u001b[39m(frame\u001b[38;5;241m.\u001b[39mshape[\u001b[38;5;241m0\u001b[39m])\n\u001b[1;32m      4\u001b[0m NORMALIZER \u001b[38;5;241m=\u001b[39m np\u001b[38;5;241m.\u001b[39mtile([XMAX, YMAX], \u001b[38;5;241m4\u001b[39m)\n",
      "\u001b[0;31mAttributeError\u001b[0m: 'NoneType' object has no attribute 'shape'"
     ]
    }
   ],
   "source": [
    "MARKER_COUNT = 10\n",
    "XMAX = float(frame.shape[1])\n",
    "YMAX = float(frame.shape[0])\n",
    "NORMALIZER = np.tile([XMAX, YMAX], 4)\n",
    "\n",
    "z = np.ones(MARKER_COUNT * (8 + 1)) * -1.0\n",
    "for id, corners in zip(marker_ids, marker_corners):\n",
    "    detection = corners[0].flatten() / NORMALIZER\n",
    "    idn = id[0]\n",
    "    z[idn * (8+1):(idn+1) * (8+1)-1] = detection\n"
   ]
  },
  {
   "cell_type": "code",
   "execution_count": 8,
   "metadata": {},
   "outputs": [
    {
     "ename": "NameError",
     "evalue": "name 'z' is not defined",
     "output_type": "error",
     "traceback": [
      "\u001b[0;31m---------------------------------------------------------------------------\u001b[0m",
      "\u001b[0;31mNameError\u001b[0m                                 Traceback (most recent call last)",
      "Cell \u001b[0;32mIn[8], line 1\u001b[0m\n\u001b[0;32m----> 1\u001b[0m z[\u001b[38;5;241m0\u001b[39m:\u001b[38;5;241m9\u001b[39m]\n",
      "\u001b[0;31mNameError\u001b[0m: name 'z' is not defined"
     ]
    }
   ],
   "source": [
    "z[0:9]"
   ]
  },
  {
   "cell_type": "code",
   "execution_count": null,
   "metadata": {},
   "outputs": [],
   "source": []
  }
 ],
 "metadata": {
  "kernelspec": {
   "display_name": "Python 3",
   "language": "python",
   "name": "python3"
  },
  "language_info": {
   "codemirror_mode": {
    "name": "ipython",
    "version": 3
   },
   "file_extension": ".py",
   "mimetype": "text/x-python",
   "name": "python",
   "nbconvert_exporter": "python",
   "pygments_lexer": "ipython3",
   "version": "3.11.5"
  }
 },
 "nbformat": 4,
 "nbformat_minor": 2
}
