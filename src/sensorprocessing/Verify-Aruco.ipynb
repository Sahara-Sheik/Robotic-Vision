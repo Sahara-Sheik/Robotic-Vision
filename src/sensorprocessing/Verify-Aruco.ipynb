{
 "cells": [
  {
   "cell_type": "markdown",
   "metadata": {},
   "source": [
    "# Verify the Aruco sensorprocessing\n",
    "\n",
    "This notebook verifies that the Aruco sensorprocessing detects the markers in the images. "
   ]
  },
  {
   "cell_type": "markdown",
   "metadata": {},
   "source": []
  },
  {
   "cell_type": "code",
   "execution_count": 1,
   "metadata": {},
   "outputs": [],
   "source": [
    "import sys\n",
    "sys.path.append(\"..\")\n",
    "from settings import Config\n",
    "import os\n",
    "import pathlib\n",
    "import pprint\n",
    "import matplotlib.pyplot as plt\n",
    "\n",
    "from sensorprocessing import sp_helper\n",
    "from sensorprocessing import sp_aruco\n",
    "from helper import ui_choose_task, ui_choose_demo\n",
    "import random\n",
    "import torch\n",
    "# Move data to GPU (if available)\n",
    "device = torch.device(\"cuda\" if torch.cuda.is_available() else \"cpu\")"
   ]
  },
  {
   "cell_type": "code",
   "execution_count": null,
   "metadata": {},
   "outputs": [],
   "source": [
    "# Specify the experiment\n",
    "experiment = \"sensorprocessing_aruco\"\n",
    "run = \"aruco_128\" \n",
    "exp = Config().get_experiment(experiment, run)\n",
    "pprint.pprint(exp)\n",
    "sp = sp_aruco.ArucoSensorProcessing(exp, device)"
   ]
  },
  {
   "cell_type": "code",
   "execution_count": null,
   "metadata": {},
   "outputs": [],
   "source": [
    "# Choose the demonstration (interactively or the on in the exp)\n",
    "# choice == \"interactive\"\n",
    "choice = \"experiment-spec\"\n",
    "\n",
    "if choice == \"interactive\":\n",
    "    # task_id = None; demo_id = None\n",
    "    task_id = 5; demo_id = 0\n",
    "    _, task_dir = ui_choose_task(offer_task_creation=True, task_id=task_id)\n",
    "    print(task_dir)\n",
    "    demo_dir = ui_choose_demo(task_dir, demo_id=demo_id)\n",
    "if choice == \"experiment-spec\":\n",
    "    # FIXME write here the \n",
    "    demos_top = pathlib.Path(Config()[\"demos\"][\"directory\"])\n",
    "    demo_dir = pathlib.Path(demos_top, \"demos\", exp[\"validation_task\"], exp[\"validation_demo\"])\n",
    "\n",
    "# Choose n pictures from the validation set\n",
    "n = 4\n",
    "jpg_files = list(demo_dir.glob(\"*.jpg\"))\n",
    "randomjpg = random.sample(jpg_files, n)\n",
    "# Visualize the original and reconstructed pictures \n",
    "fig, axs = plt.subplots(2, n, figsize=(10, 5))\n",
    "for i in range(n):\n",
    "    z = sp.process_file(randomjpg[i])\n",
    "    print(z)\n"
   ]
  }
 ],
 "metadata": {
  "kernelspec": {
   "display_name": "venv",
   "language": "python",
   "name": "python3"
  },
  "language_info": {
   "codemirror_mode": {
    "name": "ipython",
    "version": 3
   },
   "file_extension": ".py",
   "mimetype": "text/x-python",
   "name": "python",
   "nbconvert_exporter": "python",
   "pygments_lexer": "ipython3",
   "version": "3.10.12"
  }
 },
 "nbformat": 4,
 "nbformat_minor": 2
}
