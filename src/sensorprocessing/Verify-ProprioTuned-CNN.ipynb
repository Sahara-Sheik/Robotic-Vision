{
 "cells": [
  {
   "cell_type": "markdown",
   "metadata": {},
   "source": [
    "# Verify the ProprioTunedCNN sensorprocessing\n",
    "\n",
    "Reload a pre-trained model specified by an experiment trained by the Train-ProprioTuned-CNN notebook.\n",
    "\n",
    "This notebook runs a number of experiments that illustrate the performance. "
   ]
  },
  {
   "cell_type": "code",
   "execution_count": 1,
   "metadata": {},
   "outputs": [
    {
     "name": "stdout",
     "output_type": "stream",
     "text": [
      "Using device: cuda\n"
     ]
    }
   ],
   "source": [
    "import sys\n",
    "sys.path.append(\"..\")\n",
    "from settings import Config\n",
    "\n",
    "import pathlib\n",
    "import matplotlib.pyplot as plt\n",
    "import torch\n",
    "import torch.nn as nn\n",
    "from torchvision import models, transforms\n",
    "import torch.optim as optim\n",
    "from torch.utils.data import DataLoader, TensorDataset\n",
    "from pprint import pprint\n",
    "\n",
    "from behavior_cloning.demo_to_trainingdata import BCDemonstration\n",
    "from sensorprocessing.sp_propriotuned_cnn import VGG19ProprioTunedRegression, VGG19ProprioTunedSensorProcessing, ResNetProprioTunedRegression, ResNetProprioTunedSensorProcessing\n",
    "from robot.al5d_position_controller import RobotPosition\n",
    "\n",
    "device = torch.device(\"cuda\" if torch.cuda.is_available() else \"cpu\")\n",
    "print(f\"Using device: {device}\")"
   ]
  },
  {
   "cell_type": "code",
   "execution_count": 2,
   "metadata": {},
   "outputs": [
    {
     "name": "stdout",
     "output_type": "stream",
     "text": [
      "Loading pointer config file: C:\\Users\\lboloni\\.config\\BerryPicker\\mainsettings.yaml\n",
      "Loading machine-specific config file: G:\\My Drive\\LotziStudy\\Code\\PackageTracking\\BerryPicker\\settings\\settings-LotziYoga.yaml\n",
      "No system dependent experiment file\n",
      " G:\\My Drive\\LotziStudy\\Code\\PackageTracking\\BerryPicker\\settings\\experiment-config\\LotziYoga\\sensorprocessing_propriotuned_cnn\\resnet50_128_sysdep.yaml,\n",
      " that is ok, proceeding.\n",
      "Configuration for experiment: sensorprocessing_propriotuned_cnn/resnet50_128 successfully loaded\n"
     ]
    }
   ],
   "source": [
    "# The experiment/run we are going to run: the specified model will be created\n",
    "experiment = \"sensorprocessing_propriotuned_cnn\"\n",
    "# run = \"vgg19_128\"\n",
    "run = \"resnet50_128\"\n",
    "exp = Config().get_experiment(experiment, run)"
   ]
  },
  {
   "cell_type": "markdown",
   "metadata": {},
   "source": [
    "### Check the model for an encoding mode\n",
    "\n",
    "Check whether we can load back the model. This loads back the model, not the sensor processing part. "
   ]
  },
  {
   "cell_type": "code",
   "execution_count": 3,
   "metadata": {},
   "outputs": [
    {
     "name": "stderr",
     "output_type": "stream",
     "text": [
      "c:\\Users\\lboloni\\Documents\\Code\\_VirtualEnvironments\\Robot\\Robot-venv\\Lib\\site-packages\\torchvision\\models\\_utils.py:208: UserWarning: The parameter 'pretrained' is deprecated since 0.13 and may be removed in the future, please use 'weights' instead.\n",
      "  warnings.warn(\n",
      "c:\\Users\\lboloni\\Documents\\Code\\_VirtualEnvironments\\Robot\\Robot-venv\\Lib\\site-packages\\torchvision\\models\\_utils.py:223: UserWarning: Arguments other than a weight enum or `None` for 'weights' are deprecated since 0.13 and may be removed in the future. The current behavior is equivalent to passing `weights=ResNet50_Weights.IMAGENET1K_V1`. You can also use `weights=ResNet50_Weights.DEFAULT` to get the most up-to-date weights.\n",
      "  warnings.warn(msg)\n"
     ]
    },
    {
     "name": "stdout",
     "output_type": "stream",
     "text": [
      "c:\\Users\\lboloni\\Documents\\Code\\_TempData\\BerryPicker-experiments\\sensorprocessing_propriotuned_cnn\\resnet50_128\\proprioception_mlp.pth\n"
     ]
    },
    {
     "name": "stderr",
     "output_type": "stream",
     "text": [
      "C:\\Users\\lboloni\\AppData\\Local\\Temp\\ipykernel_46868\\265961778.py:17: FutureWarning: You are using `torch.load` with `weights_only=False` (the current default value), which uses the default pickle module implicitly. It is possible to construct malicious pickle data which will execute arbitrary code during unpickling (See https://github.com/pytorch/pytorch/blob/main/SECURITY.md#untrusted-models for more details). In a future release, the default value for `weights_only` will be flipped to `True`. This limits the functions that could be executed during unpickling. Arbitrary objects will no longer be allowed to be loaded via this mode unless they are explicitly allowlisted by the user via `torch.serialization.add_safe_globals`. We recommend you start setting `weights_only=True` for any use case where you don't have full control of the loaded file. Please open an issue on GitHub for any issues related to this experimental feature.\n",
      "  model.load_state_dict(torch.load(modelfile))\n"
     ]
    },
    {
     "data": {
      "text/plain": [
       "<All keys matched successfully>"
      ]
     },
     "execution_count": 3,
     "metadata": {},
     "output_type": "execute_result"
    }
   ],
   "source": [
    "if exp['model'] == 'VGG19ProprioTunedRegression':\n",
    "    model = VGG19ProprioTunedRegression(exp, device)\n",
    "elif exp['model'] == 'ResNetProprioTunedRegression':\n",
    "    model = ResNetProprioTunedRegression(exp, device)\n",
    "else:\n",
    "    raise Exception(f\"Unknown model {exp['model']}\")\n",
    "\n",
    "if exp['loss'] == 'MSELoss':        \n",
    "    criterion = nn.MSELoss()\n",
    "elif exp['loss'] == 'L1Loss':\n",
    "    criterion = nn.L1Loss()\n",
    "\n",
    "modelfile = pathlib.Path(exp[\"data_dir\"], \n",
    "                         exp[\"proprioception_mlp_model_file\"])\n",
    "print(modelfile)\n",
    "assert modelfile.exists()\n",
    "model.load_state_dict(torch.load(modelfile))"
   ]
  },
  {
   "cell_type": "code",
   "execution_count": 4,
   "metadata": {},
   "outputs": [
    {
     "name": "stdout",
     "output_type": "stream",
     "text": [
      "Cameras found: ['dev2']\n",
      "There are 437 steps in this demonstration\n",
      "This demonstration was recorded by the following cameras: ['dev2']\n",
      "The shape of the output is: torch.Size([1, 128])\n",
      "One example z looks like this:\n",
      "tensor([[ 2.3152, -0.1103,  1.7146, -1.7730,  0.8909, -0.1392, -0.0121,  2.9516,\n",
      "          2.5552, -1.4907,  0.0206, -1.3278,  0.0786,  2.2975, -0.6504,  3.0318,\n",
      "         -0.3014,  2.7825,  0.7448, -0.1788,  1.1433,  0.6614,  0.3885,  0.7542,\n",
      "          0.0675, -0.3204,  1.5375,  0.6125, -2.9732,  0.4208, -0.4143,  1.5284,\n",
      "          3.4593, -3.9261,  1.3495,  0.9697,  0.2472, -0.5185, -0.3902, -0.4970,\n",
      "         -0.5684,  0.1397,  1.9090, -1.9924, -0.4889, -0.2138, -1.0084, -0.3670,\n",
      "         -0.1658, -0.5103, -0.0344,  0.6271,  1.3658,  0.9809,  0.5207, -3.0825,\n",
      "         -1.5802,  0.7739,  0.2504, -1.2143,  0.2969,  2.5938, -1.0063,  2.9440,\n",
      "          2.2842, -0.7862, -0.4598, -0.3031,  0.1334, -2.3332,  0.1624, -0.3035,\n",
      "         -1.0371,  1.4727,  2.0715,  1.0237,  2.7380,  0.4572, -4.6872,  0.0941,\n",
      "          1.2484, -2.6586, -0.8602,  0.5549,  0.3029, -0.7752,  0.6374,  0.0866,\n",
      "         -1.1691,  1.8559,  0.2459, -0.0679,  1.3959,  0.3273,  0.0888,  0.5501,\n",
      "          0.5363,  0.8583,  0.1607, -0.9198,  2.8569, -1.6332,  0.0188,  1.4261,\n",
      "          1.6811,  1.6757,  0.2588, -2.6567,  1.1259,  1.8948,  1.6170, -0.9823,\n",
      "          1.1519, -0.1272,  0.8289,  0.2567, -1.6329,  0.0353,  0.2187, -1.4644,\n",
      "          0.4761, -0.1382,  0.0301,  0.7864, -0.4789, -0.3516, -2.4752,  1.3349]],\n",
      "       device='cuda:0')\n"
     ]
    }
   ],
   "source": [
    "#\n",
    "#  FIXME: this does not work on the resnet maybe the image format is not good\n",
    "#\n",
    "\n",
    "# Run the loaded model on all the images in a specific demonstration\n",
    "task = exp[\"proprioception_testing_task\"]\n",
    "demos_dir = pathlib.Path(Config()[\"demos\"][\"directory\"])\n",
    "task_dir = pathlib.Path(demos_dir, \"demos\", task)\n",
    "# enc = model.to(device) # probably not need\n",
    "\n",
    "inputlist = []\n",
    "targetlist = []\n",
    "with torch.no_grad():\n",
    "    for demo_dir in task_dir.iterdir():\n",
    "        if not demo_dir.is_dir():\n",
    "            pass\n",
    "        bcd = BCDemonstration(demo_dir, sensorprocessor=None)\n",
    "        for i in range(bcd.trim_from, bcd.trim_to):\n",
    "            sensor_readings, _ = bcd.get_image(i)\n",
    "            z = model.encode(sensor_readings)\n",
    "            break\n",
    "\n",
    "print(f\"The shape of the output is: {z.shape}\")\n",
    "print(f\"One example z looks like this:\\n{z}\")\n"
   ]
  },
  {
   "cell_type": "markdown",
   "metadata": {},
   "source": [
    "### Show how to create and use a SensorProcessing object\n"
   ]
  },
  {
   "cell_type": "code",
   "execution_count": 5,
   "metadata": {},
   "outputs": [
    {
     "name": "stdout",
     "output_type": "stream",
     "text": [
      "{'batch_size': 32,\n",
      " 'data_dir': WindowsPath('c:/Users/lboloni/Documents/Code/_TempData/BerryPicker-experiments/sensorprocessing_propriotuned_cnn/resnet50_128'),\n",
      " 'epochs': 40,\n",
      " 'exp_run_sys_indep_file': WindowsPath('C:/Users/lboloni/Documents/Code/_Checkouts/BerryPicker/src/experiment_configs/sensorprocessing_propriotuned_cnn/resnet50_128.yaml'),\n",
      " 'freeze_feature_extractor': True,\n",
      " 'group_name': 'sensorprocessing_propriotuned_cnn',\n",
      " 'latent_size': 128,\n",
      " 'learning_rate': 0.001,\n",
      " 'loss': 'MSELoss',\n",
      " 'model': 'ResNetProprioTunedRegression',\n",
      " 'model_name': 'VGG-19',\n",
      " 'name': 'resnet-50',\n",
      " 'output_size': 6,\n",
      " 'proprio_step_1': 64,\n",
      " 'proprio_step_2': 16,\n",
      " 'proprioception_input_file': 'train_inputs.pt',\n",
      " 'proprioception_mlp_model_file': 'proprioception_mlp.pth',\n",
      " 'proprioception_target_file': 'train_targets.pt',\n",
      " 'proprioception_test_input_file': 'test_inputs.pt',\n",
      " 'proprioception_test_target_file': 'test_targets.pt',\n",
      " 'proprioception_testing_task': 'proprio_sp_validation',\n",
      " 'proprioception_training_task': 'proprio_sp_training',\n",
      " 'reductor_step_1': 512,\n",
      " 'run_name': 'resnet50_128'}\n"
     ]
    },
    {
     "name": "stderr",
     "output_type": "stream",
     "text": [
      "c:\\Users\\lboloni\\Documents\\Code\\_Checkouts\\BerryPicker\\src\\sensorprocessing\\..\\sensorprocessing\\sp_propriotuned_cnn.py:149: FutureWarning: You are using `torch.load` with `weights_only=False` (the current default value), which uses the default pickle module implicitly. It is possible to construct malicious pickle data which will execute arbitrary code during unpickling (See https://github.com/pytorch/pytorch/blob/main/SECURITY.md#untrusted-models for more details). In a future release, the default value for `weights_only` will be flipped to `True`. This limits the functions that could be executed during unpickling. Arbitrary objects will no longer be allowed to be loaded via this mode unless they are explicitly allowlisted by the user via `torch.serialization.add_safe_globals`. We recommend you start setting `weights_only=True` for any use case where you don't have full control of the loaded file. Please open an issue on GitHub for any issues related to this experimental feature.\n",
      "  self.enc.load_state_dict(torch.load(modelfile))\n"
     ]
    }
   ],
   "source": [
    "pprint(exp)\n",
    "# Create the sensor processing object\n",
    "\n",
    "# exp = Config().get_experiment(\"sensorprocessing_propriotuned_cnn\", run)\n",
    "\n",
    "sp = None\n",
    "if exp[\"model\"] == \"VGG19ProprioTunedRegression\":\n",
    "    sp = VGG19ProprioTunedSensorProcessing(exp, device)\n",
    "if exp[\"model\"] == \"ResNetProprioTunedRegression\":\n",
    "    sp = ResNetProprioTunedSensorProcessing(exp, device)\n",
    "if sp is None:\n",
    "    raise Exception(f\"Could not instantiate sp for {exp['model']}\")"
   ]
  },
  {
   "cell_type": "code",
   "execution_count": 6,
   "metadata": {},
   "outputs": [
    {
     "name": "stdout",
     "output_type": "stream",
     "text": [
      "Cameras found: ['dev2']\n",
      "There are 437 steps in this demonstration\n",
      "This demonstration was recorded by the following cameras: ['dev2']\n",
      "sensor readings shape torch.Size([1, 3, 256, 256])\n",
      "[ 2.3151774  -0.11025121  1.7145631  -1.7729801   0.8908653  -0.13919821\n",
      " -0.01207575  2.9515698   2.5551608  -1.4907382   0.02058187 -1.3277655\n",
      "  0.07862917  2.2975059  -0.6503787   3.0317743  -0.30136332  2.782528\n",
      "  0.7447879  -0.17877     1.1433121   0.66135246  0.38852423  0.75418967\n",
      "  0.06752508 -0.32043645  1.5374613   0.6125312  -2.9732194   0.42079338\n",
      " -0.41432655  1.5284318   3.4593182  -3.9261334   1.3495319   0.96971625\n",
      "  0.24715333 -0.51853585 -0.3901668  -0.49702907 -0.56835467  0.13966437\n",
      "  1.908995   -1.992428   -0.48889711 -0.21382123 -1.0084422  -0.36704603\n",
      " -0.16577998 -0.5102609  -0.03442331  0.627088    1.3658031   0.98089564\n",
      "  0.5206706  -3.0824513  -1.5802021   0.77388215  0.25041652 -1.2143217\n",
      "  0.2968935   2.5938103  -1.0062528   2.9439943   2.2841856  -0.7861655\n",
      " -0.45979652 -0.30312443  0.13338509 -2.3331673   0.16242146 -0.30345938\n",
      " -1.0371064   1.4726775   2.071483    1.0236804   2.7379725   0.457221\n",
      " -4.687192    0.09410692  1.248359   -2.658636   -0.86019564  0.5548701\n",
      "  0.30285436 -0.7751685   0.6374198   0.08655784 -1.1690781   1.8559474\n",
      "  0.2459214  -0.06793968  1.3959401   0.32732707  0.08883825  0.5501027\n",
      "  0.53629905  0.8582806   0.16073382 -0.9198244   2.8569362  -1.6331825\n",
      "  0.01879744  1.4260881   1.6810875   1.6757219   0.25877485 -2.6566615\n",
      "  1.1258861   1.8948087   1.6170357  -0.9822741   1.151927   -0.12724122\n",
      "  0.8288695   0.25668037 -1.6328722   0.03529518  0.21867365 -1.4644496\n",
      "  0.47606492 -0.13815925  0.03011328  0.7864096  -0.47894502 -0.35160786\n",
      " -2.4751847   1.3348767 ]\n",
      "(128,)\n"
     ]
    }
   ],
   "source": [
    "# Run the sensor processing package to process the images of a demonstration\n",
    "task = exp[\"proprioception_testing_task\"]\n",
    "demos_dir = pathlib.Path(Config()[\"demos\"][\"directory\"])\n",
    "task_dir = pathlib.Path(demos_dir, \"demos\", task)\n",
    "with torch.no_grad():\n",
    "    for demo_dir in task_dir.iterdir():\n",
    "        if not demo_dir.is_dir():\n",
    "            pass\n",
    "        bcd = BCDemonstration(demo_dir, sensorprocessor=None)\n",
    "        for i in range(bcd.trim_from, bcd.trim_to):\n",
    "            sensor_readings, _ = bcd.get_image(i)\n",
    "            sensor_readings = sensor_readings.to(device)\n",
    "            z = sp.process(sensor_readings)\n",
    "            break\n",
    "\n",
    "print(z)\n",
    "print(z.shape)"
   ]
  },
  {
   "cell_type": "code",
   "execution_count": 7,
   "metadata": {},
   "outputs": [
    {
     "name": "stdout",
     "output_type": "stream",
     "text": [
      "Cameras found: ['dev2']\n",
      "There are 437 steps in this demonstration\n",
      "This demonstration was recorded by the following cameras: ['dev2']\n",
      "sensor readings shape torch.Size([1, 3, 256, 256])\n",
      "[ 2.3151774  -0.11025121  1.7145631  -1.7729801   0.8908653  -0.13919821\n",
      " -0.01207575  2.9515698   2.5551608  -1.4907382   0.02058187 -1.3277655\n",
      "  0.07862917  2.2975059  -0.6503787   3.0317743  -0.30136332  2.782528\n",
      "  0.7447879  -0.17877     1.1433121   0.66135246  0.38852423  0.75418967\n",
      "  0.06752508 -0.32043645  1.5374613   0.6125312  -2.9732194   0.42079338\n",
      " -0.41432655  1.5284318   3.4593182  -3.9261334   1.3495319   0.96971625\n",
      "  0.24715333 -0.51853585 -0.3901668  -0.49702907 -0.56835467  0.13966437\n",
      "  1.908995   -1.992428   -0.48889711 -0.21382123 -1.0084422  -0.36704603\n",
      " -0.16577998 -0.5102609  -0.03442331  0.627088    1.3658031   0.98089564\n",
      "  0.5206706  -3.0824513  -1.5802021   0.77388215  0.25041652 -1.2143217\n",
      "  0.2968935   2.5938103  -1.0062528   2.9439943   2.2841856  -0.7861655\n",
      " -0.45979652 -0.30312443  0.13338509 -2.3331673   0.16242146 -0.30345938\n",
      " -1.0371064   1.4726775   2.071483    1.0236804   2.7379725   0.457221\n",
      " -4.687192    0.09410692  1.248359   -2.658636   -0.86019564  0.5548701\n",
      "  0.30285436 -0.7751685   0.6374198   0.08655784 -1.1690781   1.8559474\n",
      "  0.2459214  -0.06793968  1.3959401   0.32732707  0.08883825  0.5501027\n",
      "  0.53629905  0.8582806   0.16073382 -0.9198244   2.8569362  -1.6331825\n",
      "  0.01879744  1.4260881   1.6810875   1.6757219   0.25877485 -2.6566615\n",
      "  1.1258861   1.8948087   1.6170357  -0.9822741   1.151927   -0.12724122\n",
      "  0.8288695   0.25668037 -1.6328722   0.03529518  0.21867365 -1.4644496\n",
      "  0.47606492 -0.13815925  0.03011328  0.7864096  -0.47894502 -0.35160786\n",
      " -2.4751847   1.3348767 ]\n",
      "(128,)\n"
     ]
    }
   ],
   "source": [
    "# Run the sensor processing inside the BCDemonstration\n",
    "task = exp[\"proprioception_testing_task\"]\n",
    "demos_dir = pathlib.Path(Config()[\"demos\"][\"directory\"])\n",
    "task_dir = pathlib.Path(demos_dir, \"demos\", task)\n",
    "with torch.no_grad():\n",
    "    for demo_dir in task_dir.iterdir():\n",
    "        if not demo_dir.is_dir():\n",
    "            pass\n",
    "        bcd = BCDemonstration(demo_dir, sensorprocessor=sp)\n",
    "        for i in range(bcd.trim_from, bcd.trim_to):\n",
    "            #sensor_readings, _ = bcd.get_image(i)\n",
    "            #sensor_readings = sensor_readings.to(device)\n",
    "            #z = sp.process(sensor_readings)\n",
    "            z = bcd.get_z(i)\n",
    "            break\n",
    "\n",
    "print(z)\n",
    "print(z.shape)"
   ]
  }
 ],
 "metadata": {
  "kernelspec": {
   "display_name": "Robot-venv",
   "language": "python",
   "name": "python3"
  },
  "language_info": {
   "codemirror_mode": {
    "name": "ipython",
    "version": 3
   },
   "file_extension": ".py",
   "mimetype": "text/x-python",
   "name": "python",
   "nbconvert_exporter": "python",
   "pygments_lexer": "ipython3",
   "version": "3.11.4"
  }
 },
 "nbformat": 4,
 "nbformat_minor": 2
}
