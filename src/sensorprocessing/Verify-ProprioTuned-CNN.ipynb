{
 "cells": [
  {
   "cell_type": "markdown",
   "metadata": {},
   "source": [
    "# Verify the ProprioTunedCNN sensorprocessing\n",
    "\n",
    "Reload a pre-trained model specified by an experiment trained by the Train-ProprioTuned-CNN notebook.\n",
    "\n",
    "This notebook runs a number of experiments that illustrate the performance. "
   ]
  },
  {
   "cell_type": "code",
   "execution_count": 1,
   "metadata": {},
   "outputs": [],
   "source": [
    "import sys\n",
    "sys.path.append(\"..\")\n",
    "from settings import Config\n",
    "\n",
    "import pathlib\n",
    "import matplotlib.pyplot as plt\n",
    "import torch\n",
    "import torch.nn as nn\n",
    "from torchvision import models, transforms\n",
    "import torch.optim as optim\n",
    "from torch.utils.data import DataLoader, TensorDataset\n",
    "\n",
    "from behavior_cloning.demo_to_trainingdata import BCDemonstration\n",
    "from sensorprocessing.sp_propriotuned_cnn import VGG19ProprioTunedRegression, VGG19ProprioTunedSensorProcessing, ResNetProprioTunedRegression, ResNetProprioTunedSensorProcessing\n",
    "from robot.al5d_position_controller import RobotPosition\n",
    "\n",
    "# Move data to GPU (if available)\n",
    "device = torch.device(\"cuda\" if torch.cuda.is_available() else \"cpu\")"
   ]
  },
  {
   "cell_type": "code",
   "execution_count": 2,
   "metadata": {},
   "outputs": [
    {
     "name": "stdout",
     "output_type": "stream",
     "text": [
      "Loading pointer config file: C:\\Users\\lboloni\\.config\\BerryPicker\\mainsettings.yaml\n",
      "Loading machine-specific config file: G:\\My Drive\\LotziStudy\\Code\\PackageTracking\\BerryPicker\\settings\\settings-LotziYoga.yaml\n",
      "No system dependent experiment file\n",
      " G:\\My Drive\\LotziStudy\\Code\\PackageTracking\\BerryPicker\\settings\\experiment-config\\LotziYoga\\sensorprocessing_propriotuned_cnn\\vgg19_128_sysdep.yaml,\n",
      " that is ok, proceeding.\n",
      "Configuration for experiment: sensorprocessing_propriotuned_cnn/vgg19_128 successfully loaded\n"
     ]
    }
   ],
   "source": [
    "# The experiment/run we are going to run: the specified model will be created\n",
    "experiment = \"sensorprocessing_propriotuned_cnn\"\n",
    "run = \"vgg19_128\"\n",
    "# run = \"resnet50_128\"\n",
    "exp = Config().get_experiment(experiment, run)"
   ]
  },
  {
   "cell_type": "markdown",
   "metadata": {},
   "source": [
    "### Check the model for an encoding mode\n",
    "\n",
    "Check whether we can load back the model"
   ]
  },
  {
   "cell_type": "code",
   "execution_count": 3,
   "metadata": {},
   "outputs": [
    {
     "name": "stderr",
     "output_type": "stream",
     "text": [
      "c:\\Users\\lboloni\\Documents\\Code\\_VirtualEnvironments\\Robot\\Robot-venv\\Lib\\site-packages\\torchvision\\models\\_utils.py:208: UserWarning: The parameter 'pretrained' is deprecated since 0.13 and may be removed in the future, please use 'weights' instead.\n",
      "  warnings.warn(\n",
      "c:\\Users\\lboloni\\Documents\\Code\\_VirtualEnvironments\\Robot\\Robot-venv\\Lib\\site-packages\\torchvision\\models\\_utils.py:223: UserWarning: Arguments other than a weight enum or `None` for 'weights' are deprecated since 0.13 and may be removed in the future. The current behavior is equivalent to passing `weights=VGG19_Weights.IMAGENET1K_V1`. You can also use `weights=VGG19_Weights.DEFAULT` to get the most up-to-date weights.\n",
      "  warnings.warn(msg)\n"
     ]
    },
    {
     "name": "stdout",
     "output_type": "stream",
     "text": [
      "c:\\Users\\lboloni\\Documents\\Code\\_TempData\\BerryPicker-experiments\\sensorprocessing_propriotuned_cnn\\vgg19_128\\proprioception_mlp.pth\n"
     ]
    },
    {
     "name": "stderr",
     "output_type": "stream",
     "text": [
      "C:\\Users\\lboloni\\AppData\\Local\\Temp\\ipykernel_54712\\182585803.py:22: FutureWarning: You are using `torch.load` with `weights_only=False` (the current default value), which uses the default pickle module implicitly. It is possible to construct malicious pickle data which will execute arbitrary code during unpickling (See https://github.com/pytorch/pytorch/blob/main/SECURITY.md#untrusted-models for more details). In a future release, the default value for `weights_only` will be flipped to `True`. This limits the functions that could be executed during unpickling. Arbitrary objects will no longer be allowed to be loaded via this mode unless they are explicitly allowlisted by the user via `torch.serialization.add_safe_globals`. We recommend you start setting `weights_only=True` for any use case where you don't have full control of the loaded file. Please open an issue on GitHub for any issues related to this experimental feature.\n",
      "  model.load_state_dict(torch.load(modelfile))\n"
     ]
    },
    {
     "data": {
      "text/plain": [
       "<All keys matched successfully>"
      ]
     },
     "execution_count": 3,
     "metadata": {},
     "output_type": "execute_result"
    }
   ],
   "source": [
    "if exp['model'] == 'VGG19ProprioTunedRegression':\n",
    "    hidden_size = exp[\"latent_size\"]\n",
    "    output_size = Config()[\"robot\"][\"action_space_size\"]\n",
    "    model = VGG19ProprioTunedRegression(hidden_size, output_size)\n",
    "    if exp['loss'] == 'MSELoss':        \n",
    "        criterion = nn.MSELoss()\n",
    "    elif exp['loss'] == 'L1Loss':\n",
    "        criterion = nn.L1Loss()\n",
    "elif exp['model'] == 'ResNetProprioTunedRegression':\n",
    "    model = ResNetProprioTunedRegression(exp, device)\n",
    "    if exp['loss'] == 'MSELoss':        \n",
    "        criterion = nn.MSELoss()\n",
    "    elif exp['loss'] == 'L1Loss':\n",
    "        criterion = nn.L1Loss()\n",
    "else:\n",
    "    raise Exception(f\"Unknown model {exp['model']}\")\n",
    "\n",
    "modelfile = pathlib.Path(exp[\"data_dir\"], \n",
    "                         exp[\"proprioception_mlp_model_file\"])\n",
    "print(modelfile)\n",
    "assert modelfile.exists()\n",
    "model.load_state_dict(torch.load(modelfile))"
   ]
  },
  {
   "cell_type": "code",
   "execution_count": 4,
   "metadata": {},
   "outputs": [
    {
     "name": "stdout",
     "output_type": "stream",
     "text": [
      "Cameras found: ['dev2']\n",
      "There are 437 steps in this demonstration\n",
      "This demonstration was recorded by the following cameras: ['dev2']\n",
      "tensor([[-2.9732, -1.9004, -4.9308,  2.0603, -1.4342, -1.7257, -0.1114,  2.1723,\n",
      "         -4.7429, -5.8317, -1.4768, -6.2447, -1.5482,  3.8438, -6.5623, -5.2360,\n",
      "          1.5520,  1.9094,  3.0570, -4.4211, -0.9991, -2.9235, -0.8717, -0.4044,\n",
      "         -3.8335, -2.1707, -2.4310,  2.9685, -1.4171,  3.7674, -0.7322, -3.4720,\n",
      "         -0.7621,  5.4394, -4.5618,  1.3335, -3.2449, -2.4954, -0.2929, -0.6073,\n",
      "         -0.1083, -2.6737, -4.5848, -4.1543,  0.4905, -0.6414, -1.7205, -3.0285,\n",
      "         -2.5272, -2.2324, -0.0562, -3.1220, -4.1446,  1.3693,  3.8048, -2.0927,\n",
      "          1.9655,  0.6850,  0.5560,  1.6852, -0.1277, -1.6638,  1.7602, -2.5111,\n",
      "         -2.0892,  0.2119,  4.3101,  3.6563, -3.9038,  1.0110,  1.6067, -0.7569,\n",
      "          1.9169,  4.7758, -2.7652, -1.8752,  3.2790, -1.9834,  0.3034, -2.3938,\n",
      "         -6.9657, -4.4372, -1.4296, -2.3853, -4.3761, -3.6708, -2.0984,  2.7077,\n",
      "         -4.2665, -3.5640,  0.9772,  0.5591, -2.3477, -1.0989, -0.0422,  0.7152,\n",
      "         -4.4249, -3.4425,  4.5929, -0.6238,  3.2164,  0.9953, -5.5710, -3.1049,\n",
      "         -5.8603,  2.1576,  5.5524,  0.3165, -3.9439,  0.8076, -0.3211, -0.1744,\n",
      "         -1.7565,  2.1798,  1.2912, -6.4569, -3.5363, -1.3732, -1.0331,  5.1180,\n",
      "         -6.6937, -0.8665, -0.5295, -2.7643, -7.5825, -3.0934,  0.2681,  1.6724]],\n",
      "       device='cuda:0')\n",
      "torch.Size([1, 128])\n"
     ]
    }
   ],
   "source": [
    "task = exp[\"proprioception_testing_task\"]\n",
    "demos_dir = pathlib.Path(Config()[\"demos\"][\"directory\"])\n",
    "task_dir = pathlib.Path(demos_dir, \"demos\", task)\n",
    "enc = model.to(device)\n",
    "\n",
    "inputlist = []\n",
    "targetlist = []\n",
    "with torch.no_grad():\n",
    "    for demo_dir in task_dir.iterdir():\n",
    "        if not demo_dir.is_dir():\n",
    "            pass\n",
    "        bcd = BCDemonstration(demo_dir, sensorprocessor=None)\n",
    "        for i in range(bcd.trim_from, bcd.trim_to):\n",
    "            sensor_readings, _ = bcd.get_image(i)\n",
    "            z = enc.encode(sensor_readings)\n",
    "            break\n",
    "\n",
    "print(z)\n",
    "print(z.shape)\n"
   ]
  },
  {
   "cell_type": "markdown",
   "metadata": {},
   "source": [
    "### Show how to use an SensorProcessing object\n",
    "\n",
    "FIXME: this is VGG19 dependent"
   ]
  },
  {
   "cell_type": "code",
   "execution_count": 5,
   "metadata": {},
   "outputs": [
    {
     "name": "stdout",
     "output_type": "stream",
     "text": [
      "No system dependent experiment file\n",
      " G:\\My Drive\\LotziStudy\\Code\\PackageTracking\\BerryPicker\\settings\\experiment-config\\LotziYoga\\sensorprocessing_propriotuned_cnn\\vgg19_128_sysdep.yaml,\n",
      " that is ok, proceeding.\n",
      "Configuration for experiment: sensorprocessing_propriotuned_cnn/vgg19_128 successfully loaded\n"
     ]
    },
    {
     "name": "stderr",
     "output_type": "stream",
     "text": [
      "c:\\Users\\lboloni\\Documents\\Code\\_Checkouts\\BerryPicker\\src\\sensorprocessing\\..\\sensorprocessing\\sp_propriotuned_cnn.py:78: FutureWarning: You are using `torch.load` with `weights_only=False` (the current default value), which uses the default pickle module implicitly. It is possible to construct malicious pickle data which will execute arbitrary code during unpickling (See https://github.com/pytorch/pytorch/blob/main/SECURITY.md#untrusted-models for more details). In a future release, the default value for `weights_only` will be flipped to `True`. This limits the functions that could be executed during unpickling. Arbitrary objects will no longer be allowed to be loaded via this mode unless they are explicitly allowlisted by the user via `torch.serialization.add_safe_globals`. We recommend you start setting `weights_only=True` for any use case where you don't have full control of the loaded file. Please open an issue on GitHub for any issues related to this experimental feature.\n",
      "  self.enc.load_state_dict(torch.load(modelfile))\n"
     ]
    }
   ],
   "source": [
    "# Create the sensor processing package\n",
    "\n",
    "exp = Config().get_experiment(\"sensorprocessing_propriotuned_cnn\", run)\n",
    "sp = VGG19ProprioTunedSensorProcessing(exp, device=device)"
   ]
  },
  {
   "cell_type": "code",
   "execution_count": 6,
   "metadata": {},
   "outputs": [
    {
     "name": "stdout",
     "output_type": "stream",
     "text": [
      "Cameras found: ['dev2']\n",
      "There are 437 steps in this demonstration\n",
      "This demonstration was recorded by the following cameras: ['dev2']\n",
      "sensor readings shape torch.Size([1, 3, 256, 256])\n",
      "[-2.9731896  -1.9003732  -4.930805    2.060348   -1.4342488  -1.7257458\n",
      " -0.1114385   2.1723168  -4.742881   -5.831705   -1.4768347  -6.2447257\n",
      " -1.5481517   3.8437572  -6.5623317  -5.236012    1.5520467   1.9094057\n",
      "  3.0569563  -4.4211493  -0.9991176  -2.9234872  -0.87173915 -0.4043593\n",
      " -3.8335443  -2.170678   -2.4310002   2.9685373  -1.4171333   3.767417\n",
      " -0.7321997  -3.4720159  -0.76205915  5.439384   -4.5618114   1.3335418\n",
      " -3.2448993  -2.4954402  -0.29288012 -0.60725766 -0.1083415  -2.6737127\n",
      " -4.5848293  -4.1542573   0.49052358 -0.64144444 -1.7204938  -3.028482\n",
      " -2.5272453  -2.232398   -0.05623122 -3.1219704  -4.1446085   1.3693383\n",
      "  3.8048067  -2.0926747   1.9654616   0.68498003  0.5559831   1.6852123\n",
      " -0.12765948 -1.663783    1.7601906  -2.5111487  -2.0891857   0.21188208\n",
      "  4.3100896   3.6563284  -3.9038446   1.0109951   1.6066576  -0.75694454\n",
      "  1.916888    4.775834   -2.7651618  -1.8751789   3.278969   -1.983439\n",
      "  0.30341816 -2.3937957  -6.9657283  -4.437174   -1.4295725  -2.3852694\n",
      " -4.3761153  -3.670768   -2.0984418   2.7076957  -4.266545   -3.5639544\n",
      "  0.97719157  0.5590622  -2.3476655  -1.098883   -0.04223629  0.71522087\n",
      " -4.424937   -3.4425452   4.592867   -0.62375426  3.2164242   0.9953487\n",
      " -5.5709715  -3.1048872  -5.860341    2.1576335   5.552439    0.3164891\n",
      " -3.9438965   0.8076155  -0.3210881  -0.17439869 -1.7564927   2.1797726\n",
      "  1.2911943  -6.456918   -3.536257   -1.3731624  -1.0330882   5.118049\n",
      " -6.693726   -0.8664796  -0.5294607  -2.7643073  -7.5824933  -3.093355\n",
      "  0.26808155  1.6723504 ]\n",
      "(128,)\n"
     ]
    }
   ],
   "source": [
    "# Run the sensor processing package to process the images of a demonstration\n",
    "task = exp[\"proprioception_testing_task\"]\n",
    "demos_dir = pathlib.Path(Config()[\"demos\"][\"directory\"])\n",
    "task_dir = pathlib.Path(demos_dir, \"demos\", task)\n",
    "with torch.no_grad():\n",
    "    for demo_dir in task_dir.iterdir():\n",
    "        if not demo_dir.is_dir():\n",
    "            pass\n",
    "        bcd = BCDemonstration(demo_dir, sensorprocessor=None)\n",
    "        for i in range(bcd.trim_from, bcd.trim_to):\n",
    "            sensor_readings, _ = bcd.get_image(i)\n",
    "            sensor_readings = sensor_readings.to(device)\n",
    "            z = sp.process(sensor_readings)\n",
    "            break\n",
    "\n",
    "print(z)\n",
    "print(z.shape)"
   ]
  },
  {
   "cell_type": "code",
   "execution_count": 7,
   "metadata": {},
   "outputs": [
    {
     "name": "stdout",
     "output_type": "stream",
     "text": [
      "Cameras found: ['dev2']\n",
      "There are 437 steps in this demonstration\n",
      "This demonstration was recorded by the following cameras: ['dev2']\n",
      "sensor readings shape torch.Size([1, 3, 256, 256])\n",
      "[-2.9731896  -1.9003732  -4.930805    2.060348   -1.4342488  -1.7257458\n",
      " -0.1114385   2.1723168  -4.742881   -5.831705   -1.4768347  -6.2447257\n",
      " -1.5481517   3.8437572  -6.5623317  -5.236012    1.5520467   1.9094057\n",
      "  3.0569563  -4.4211493  -0.9991176  -2.9234872  -0.87173915 -0.4043593\n",
      " -3.8335443  -2.170678   -2.4310002   2.9685373  -1.4171333   3.767417\n",
      " -0.7321997  -3.4720159  -0.76205915  5.439384   -4.5618114   1.3335418\n",
      " -3.2448993  -2.4954402  -0.29288012 -0.60725766 -0.1083415  -2.6737127\n",
      " -4.5848293  -4.1542573   0.49052358 -0.64144444 -1.7204938  -3.028482\n",
      " -2.5272453  -2.232398   -0.05623122 -3.1219704  -4.1446085   1.3693383\n",
      "  3.8048067  -2.0926747   1.9654616   0.68498003  0.5559831   1.6852123\n",
      " -0.12765948 -1.663783    1.7601906  -2.5111487  -2.0891857   0.21188208\n",
      "  4.3100896   3.6563284  -3.9038446   1.0109951   1.6066576  -0.75694454\n",
      "  1.916888    4.775834   -2.7651618  -1.8751789   3.278969   -1.983439\n",
      "  0.30341816 -2.3937957  -6.9657283  -4.437174   -1.4295725  -2.3852694\n",
      " -4.3761153  -3.670768   -2.0984418   2.7076957  -4.266545   -3.5639544\n",
      "  0.97719157  0.5590622  -2.3476655  -1.098883   -0.04223629  0.71522087\n",
      " -4.424937   -3.4425452   4.592867   -0.62375426  3.2164242   0.9953487\n",
      " -5.5709715  -3.1048872  -5.860341    2.1576335   5.552439    0.3164891\n",
      " -3.9438965   0.8076155  -0.3210881  -0.17439869 -1.7564927   2.1797726\n",
      "  1.2911943  -6.456918   -3.536257   -1.3731624  -1.0330882   5.118049\n",
      " -6.693726   -0.8664796  -0.5294607  -2.7643073  -7.5824933  -3.093355\n",
      "  0.26808155  1.6723504 ]\n",
      "(128,)\n"
     ]
    }
   ],
   "source": [
    "# Run the sensor processing inside the BCDemonstration\n",
    "task = exp[\"proprioception_testing_task\"]\n",
    "demos_dir = pathlib.Path(Config()[\"demos\"][\"directory\"])\n",
    "task_dir = pathlib.Path(demos_dir, \"demos\", task)\n",
    "with torch.no_grad():\n",
    "    for demo_dir in task_dir.iterdir():\n",
    "        if not demo_dir.is_dir():\n",
    "            pass\n",
    "        bcd = BCDemonstration(demo_dir, sensorprocessor=sp)\n",
    "        for i in range(bcd.trim_from, bcd.trim_to):\n",
    "            #sensor_readings, _ = bcd.get_image(i)\n",
    "            #sensor_readings = sensor_readings.to(device)\n",
    "            #z = sp.process(sensor_readings)\n",
    "            z = bcd.get_z(i)\n",
    "            break\n",
    "\n",
    "print(z)\n",
    "print(z.shape)"
   ]
  }
 ],
 "metadata": {
  "kernelspec": {
   "display_name": "Robot-venv",
   "language": "python",
   "name": "python3"
  },
  "language_info": {
   "codemirror_mode": {
    "name": "ipython",
    "version": 3
   },
   "file_extension": ".py",
   "mimetype": "text/x-python",
   "name": "python",
   "nbconvert_exporter": "python",
   "pygments_lexer": "ipython3",
   "version": "3.11.4"
  }
 },
 "nbformat": 4,
 "nbformat_minor": 2
}
