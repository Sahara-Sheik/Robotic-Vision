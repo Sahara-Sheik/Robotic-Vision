{
 "cells": [
  {
   "cell_type": "markdown",
   "metadata": {},
   "source": [
    "# Verify the ProprioTunedCNN sensorprocessing\n",
    "\n",
    "Reload a pre-trained model specified by an experiment trained by the Train-ProprioTuned-CNN notebook.\n",
    "\n",
    "This notebook runs a number of experiments that illustrate the performance. "
   ]
  },
  {
   "cell_type": "code",
   "execution_count": 1,
   "metadata": {},
   "outputs": [
    {
     "name": "stdout",
     "output_type": "stream",
     "text": [
      "Using device: cuda\n"
     ]
    }
   ],
   "source": [
    "import sys\n",
    "sys.path.append(\"..\")\n",
    "from settings import Config\n",
    "\n",
    "import pathlib\n",
    "import matplotlib.pyplot as plt\n",
    "import torch\n",
    "import torch.nn as nn\n",
    "from torchvision import models, transforms\n",
    "import torch.optim as optim\n",
    "from torch.utils.data import DataLoader, TensorDataset\n",
    "from pprint import pprint\n",
    "\n",
    "from behavior_cloning.demo_to_trainingdata import BCDemonstration\n",
    "from sensorprocessing.sp_propriotuned_cnn import VGG19ProprioTunedRegression, VGG19ProprioTunedSensorProcessing, ResNetProprioTunedRegression, ResNetProprioTunedSensorProcessing\n",
    "from robot.al5d_position_controller import RobotPosition\n",
    "\n",
    "device = torch.device(\"cuda\" if torch.cuda.is_available() else \"cpu\")\n",
    "print(f\"Using device: {device}\")"
   ]
  },
  {
   "cell_type": "code",
   "execution_count": 2,
   "metadata": {},
   "outputs": [
    {
     "name": "stdout",
     "output_type": "stream",
     "text": [
      "Loading pointer config file: C:\\Users\\lboloni\\.config\\BerryPicker\\mainsettings.yaml\n",
      "Loading machine-specific config file: G:\\My Drive\\LotziStudy\\Code\\PackageTracking\\BerryPicker\\settings\\settings-LotziYoga.yaml\n",
      "No system dependent experiment file\n",
      " G:\\My Drive\\LotziStudy\\Code\\PackageTracking\\BerryPicker\\settings\\experiment-config\\LotziYoga\\sensorprocessing_propriotuned_cnn\\resnet50_256_sysdep.yaml,\n",
      " that is ok, proceeding.\n",
      "Configuration for experiment: sensorprocessing_propriotuned_cnn/resnet50_256 successfully loaded\n"
     ]
    }
   ],
   "source": [
    "# The experiment/run we are going to run: the specified model will be created\n",
    "experiment = \"sensorprocessing_propriotuned_cnn\"\n",
    "# run = \"vgg19_128\"\n",
    "# run = \"resnet50_128\"\n",
    "# run = \"vgg19_256\"\n",
    "run = \"resnet50_256\"\n",
    "\n",
    "exp = Config().get_experiment(experiment, run)"
   ]
  },
  {
   "cell_type": "markdown",
   "metadata": {},
   "source": [
    "### Check the model for an encoding mode\n",
    "\n",
    "Check whether we can load back the model. This loads back the model, not the sensor processing part. "
   ]
  },
  {
   "cell_type": "code",
   "execution_count": 3,
   "metadata": {},
   "outputs": [
    {
     "name": "stderr",
     "output_type": "stream",
     "text": [
      "c:\\Users\\lboloni\\Documents\\Code\\_VirtualEnvironments\\Robot\\Robot-venv\\Lib\\site-packages\\torchvision\\models\\_utils.py:208: UserWarning: The parameter 'pretrained' is deprecated since 0.13 and may be removed in the future, please use 'weights' instead.\n",
      "  warnings.warn(\n",
      "c:\\Users\\lboloni\\Documents\\Code\\_VirtualEnvironments\\Robot\\Robot-venv\\Lib\\site-packages\\torchvision\\models\\_utils.py:223: UserWarning: Arguments other than a weight enum or `None` for 'weights' are deprecated since 0.13 and may be removed in the future. The current behavior is equivalent to passing `weights=ResNet50_Weights.IMAGENET1K_V1`. You can also use `weights=ResNet50_Weights.DEFAULT` to get the most up-to-date weights.\n",
      "  warnings.warn(msg)\n"
     ]
    },
    {
     "name": "stdout",
     "output_type": "stream",
     "text": [
      "c:\\Users\\lboloni\\Documents\\Code\\_TempData\\BerryPicker-experiments\\sensorprocessing_propriotuned_cnn\\resnet50_256\\proprioception_mlp.pth\n"
     ]
    },
    {
     "name": "stderr",
     "output_type": "stream",
     "text": [
      "C:\\Users\\lboloni\\AppData\\Local\\Temp\\ipykernel_3312\\265961778.py:17: FutureWarning: You are using `torch.load` with `weights_only=False` (the current default value), which uses the default pickle module implicitly. It is possible to construct malicious pickle data which will execute arbitrary code during unpickling (See https://github.com/pytorch/pytorch/blob/main/SECURITY.md#untrusted-models for more details). In a future release, the default value for `weights_only` will be flipped to `True`. This limits the functions that could be executed during unpickling. Arbitrary objects will no longer be allowed to be loaded via this mode unless they are explicitly allowlisted by the user via `torch.serialization.add_safe_globals`. We recommend you start setting `weights_only=True` for any use case where you don't have full control of the loaded file. Please open an issue on GitHub for any issues related to this experimental feature.\n",
      "  model.load_state_dict(torch.load(modelfile))\n"
     ]
    },
    {
     "data": {
      "text/plain": [
       "<All keys matched successfully>"
      ]
     },
     "execution_count": 3,
     "metadata": {},
     "output_type": "execute_result"
    }
   ],
   "source": [
    "if exp['model'] == 'VGG19ProprioTunedRegression':\n",
    "    model = VGG19ProprioTunedRegression(exp, device)\n",
    "elif exp['model'] == 'ResNetProprioTunedRegression':\n",
    "    model = ResNetProprioTunedRegression(exp, device)\n",
    "else:\n",
    "    raise Exception(f\"Unknown model {exp['model']}\")\n",
    "\n",
    "if exp['loss'] == 'MSELoss':        \n",
    "    criterion = nn.MSELoss()\n",
    "elif exp['loss'] == 'L1Loss':\n",
    "    criterion = nn.L1Loss()\n",
    "\n",
    "modelfile = pathlib.Path(exp[\"data_dir\"], \n",
    "                         exp[\"proprioception_mlp_model_file\"])\n",
    "print(modelfile)\n",
    "assert modelfile.exists()\n",
    "model.load_state_dict(torch.load(modelfile))"
   ]
  },
  {
   "cell_type": "code",
   "execution_count": 4,
   "metadata": {},
   "outputs": [
    {
     "name": "stdout",
     "output_type": "stream",
     "text": [
      "Cameras found: ['dev2']\n",
      "There are 437 steps in this demonstration\n",
      "This demonstration was recorded by the following cameras: ['dev2']\n",
      "The shape of the output is: torch.Size([1, 256])\n",
      "One example z looks like this:\n",
      "tensor([[-1.3334, -0.1345,  0.1154,  0.0816,  0.2175,  0.1926, -0.1940,  0.3807,\n",
      "         -1.1284, -0.1088, -0.0457,  0.2652, -0.7553,  0.6069,  0.0619, -0.2752,\n",
      "          0.8798,  0.2714, -2.0240,  0.1219, -0.3050, -0.0519, -0.0819,  0.2011,\n",
      "          0.1430, -0.1386, -2.1422,  0.1663, -0.1422, -0.1606,  0.1884,  0.6170,\n",
      "          0.4101, -0.8599, -0.1836,  0.8553, -0.0917,  0.2900, -0.2457, -0.7923,\n",
      "          0.9542, -0.2464, -0.2466, -1.8020,  0.0466, -0.4877, -0.6147,  0.4019,\n",
      "          0.7293, -0.6386,  0.0033,  0.2603,  0.2057,  0.0245,  0.3468, -0.9068,\n",
      "          0.4963,  0.8772,  0.2232, -1.2107, -0.0134, -0.1352, -0.0656, -0.2550,\n",
      "          0.1642,  0.0904, -0.0896,  0.0657, -0.4264, -0.5959, -0.1977,  0.0032,\n",
      "         -0.1222, -0.5683, -1.4436, -0.0161, -0.7926, -1.9424,  0.1641,  0.1298,\n",
      "          0.1772, -0.2249,  0.5726,  0.4167,  0.1027,  0.0871, -0.4700, -0.3094,\n",
      "          0.6835,  0.4407, -0.6034, -1.5214, -0.1254, -0.5263,  0.2228,  0.4253,\n",
      "         -0.1198,  0.4098,  0.0514, -0.0353, -0.8906,  0.5126, -0.6565, -0.3422,\n",
      "          0.3378,  0.6162, -0.1572, -0.4971, -0.2085,  0.5304,  0.4407, -0.2731,\n",
      "          0.2206, -0.6741, -0.1002, -0.0572, -0.8832, -0.5538,  0.2912,  0.0184,\n",
      "          0.2453,  0.1106, -1.5103, -0.1931, -0.2050,  0.1112, -0.2380, -0.5230,\n",
      "          0.1507, -0.9429,  0.6315, -0.4877,  0.2687,  0.3894,  1.0000, -0.2916,\n",
      "          1.5030, -0.0386,  0.3832,  0.1435, -0.6255,  0.4715,  0.4248,  0.6264,\n",
      "          0.2399, -0.0539,  0.6797,  0.4025, -0.3536,  0.0638, -0.3934, -0.1722,\n",
      "         -0.1218, -0.0710,  1.4466,  0.2015,  1.4257, -0.0913,  0.5065,  1.3746,\n",
      "         -0.0406, -0.0582, -0.0883, -0.0865, -0.0592,  0.3094,  0.2847,  0.5366,\n",
      "         -0.3637, -0.2484,  0.2088, -0.2051, -0.4857, -0.1310, -0.2401, -0.0044,\n",
      "          0.3175,  0.7286, -1.6477, -0.1548, -0.1515,  0.9973,  0.2736, -1.4414,\n",
      "          0.1715,  0.4573,  0.8839,  0.1135,  0.4068, -0.3679, -0.6501, -0.5971,\n",
      "         -0.1565, -0.4361,  0.2149,  0.0804,  0.2484, -0.0427, -0.4392, -0.1275,\n",
      "         -0.9612, -0.4418, -0.3881, -0.8040, -0.1554,  0.4671, -0.1322, -0.3185,\n",
      "         -1.3830,  0.1941,  0.6562, -0.2438,  0.3237,  0.1881,  0.9908,  0.5943,\n",
      "          0.5433, -1.2532,  0.4643, -0.0822,  0.5400, -0.4534, -0.2383, -0.2568,\n",
      "         -0.0669,  0.0379,  0.2000,  0.3667, -0.2187,  0.4057, -0.0380,  0.9956,\n",
      "         -0.1963,  0.1420, -0.1463,  0.3508, -0.3932,  0.0970,  1.6256,  0.1312,\n",
      "         -0.0462,  0.6441, -0.3642,  0.0511,  0.4667, -0.4779,  0.7848,  0.3825,\n",
      "          0.0714, -0.5241, -0.3400, -0.1486,  0.3071,  0.1051, -0.4103, -0.6426]],\n",
      "       device='cuda:0')\n"
     ]
    }
   ],
   "source": [
    "#\n",
    "#  FIXME: this does not work on the resnet maybe the image format is not good\n",
    "#\n",
    "\n",
    "# Run the loaded model on all the images in a specific demonstration\n",
    "task = exp[\"proprioception_testing_task\"]\n",
    "demos_dir = pathlib.Path(Config()[\"demos\"][\"directory\"])\n",
    "task_dir = pathlib.Path(demos_dir, \"demos\", task)\n",
    "# enc = model.to(device) # probably not need\n",
    "\n",
    "inputlist = []\n",
    "targetlist = []\n",
    "with torch.no_grad():\n",
    "    for demo_dir in task_dir.iterdir():\n",
    "        if not demo_dir.is_dir():\n",
    "            pass\n",
    "        bcd = BCDemonstration(demo_dir, sensorprocessor=None)\n",
    "        for i in range(bcd.trim_from, bcd.trim_to):\n",
    "            sensor_readings, _ = bcd.get_image(i)\n",
    "            z = model.encode(sensor_readings)\n",
    "            break\n",
    "\n",
    "print(f\"The shape of the output is: {z.shape}\")\n",
    "print(f\"One example z looks like this:\\n{z}\")\n"
   ]
  },
  {
   "cell_type": "markdown",
   "metadata": {},
   "source": [
    "### Show how to create and use a SensorProcessing object\n"
   ]
  },
  {
   "cell_type": "code",
   "execution_count": 5,
   "metadata": {},
   "outputs": [
    {
     "name": "stdout",
     "output_type": "stream",
     "text": [
      "{'batch_size': 32,\n",
      " 'data_dir': WindowsPath('c:/Users/lboloni/Documents/Code/_TempData/BerryPicker-experiments/sensorprocessing_propriotuned_cnn/resnet50_256'),\n",
      " 'epochs': 100,\n",
      " 'exp_run_sys_indep_file': WindowsPath('C:/Users/lboloni/Documents/Code/_Checkouts/BerryPicker/src/experiment_configs/sensorprocessing_propriotuned_cnn/resnet50_256.yaml'),\n",
      " 'freeze_feature_extractor': True,\n",
      " 'group_name': 'sensorprocessing_propriotuned_cnn',\n",
      " 'latent_size': 256,\n",
      " 'learning_rate': 0.002,\n",
      " 'loss': 'MSELoss',\n",
      " 'model': 'ResNetProprioTunedRegression',\n",
      " 'model_name': 'VGG-19',\n",
      " 'name': 'resnet-50-256',\n",
      " 'output_size': 6,\n",
      " 'proprio_step_1': 64,\n",
      " 'proprio_step_2': 16,\n",
      " 'proprioception_input_file': 'train_inputs.pt',\n",
      " 'proprioception_mlp_model_file': 'proprioception_mlp.pth',\n",
      " 'proprioception_target_file': 'train_targets.pt',\n",
      " 'proprioception_test_input_file': 'test_inputs.pt',\n",
      " 'proprioception_test_target_file': 'test_targets.pt',\n",
      " 'proprioception_testing_task': 'proprio_sp_validation',\n",
      " 'proprioception_training_task': 'proprio_sp_training',\n",
      " 'reductor_step_1': 512,\n",
      " 'run_name': 'resnet50_256'}\n"
     ]
    },
    {
     "name": "stderr",
     "output_type": "stream",
     "text": [
      "c:\\Users\\lboloni\\Documents\\Code\\_Checkouts\\BerryPicker\\src\\sensorprocessing\\..\\sensorprocessing\\sp_propriotuned_cnn.py:149: FutureWarning: You are using `torch.load` with `weights_only=False` (the current default value), which uses the default pickle module implicitly. It is possible to construct malicious pickle data which will execute arbitrary code during unpickling (See https://github.com/pytorch/pytorch/blob/main/SECURITY.md#untrusted-models for more details). In a future release, the default value for `weights_only` will be flipped to `True`. This limits the functions that could be executed during unpickling. Arbitrary objects will no longer be allowed to be loaded via this mode unless they are explicitly allowlisted by the user via `torch.serialization.add_safe_globals`. We recommend you start setting `weights_only=True` for any use case where you don't have full control of the loaded file. Please open an issue on GitHub for any issues related to this experimental feature.\n",
      "  self.enc.load_state_dict(torch.load(modelfile))\n"
     ]
    }
   ],
   "source": [
    "pprint(exp)\n",
    "# Create the sensor processing object\n",
    "\n",
    "# exp = Config().get_experiment(\"sensorprocessing_propriotuned_cnn\", run)\n",
    "\n",
    "sp = None\n",
    "if exp[\"model\"] == \"VGG19ProprioTunedRegression\":\n",
    "    sp = VGG19ProprioTunedSensorProcessing(exp, device)\n",
    "if exp[\"model\"] == \"ResNetProprioTunedRegression\":\n",
    "    sp = ResNetProprioTunedSensorProcessing(exp, device)\n",
    "if sp is None:\n",
    "    raise Exception(f\"Could not instantiate sp for {exp['model']}\")"
   ]
  },
  {
   "cell_type": "code",
   "execution_count": 6,
   "metadata": {},
   "outputs": [
    {
     "name": "stdout",
     "output_type": "stream",
     "text": [
      "Cameras found: ['dev2']\n",
      "There are 437 steps in this demonstration\n",
      "This demonstration was recorded by the following cameras: ['dev2']\n",
      "[-1.3333772  -0.13453625  0.11544248  0.08157025  0.21745595  0.19263117\n",
      " -0.1939899   0.38074875 -1.1284058  -0.10883851 -0.04566706  0.26518828\n",
      " -0.7553371   0.60693103  0.06194327 -0.27515033  0.8797972   0.27140316\n",
      " -2.0240388   0.12191691 -0.304985   -0.05190174 -0.08188991  0.20107561\n",
      "  0.14298907 -0.1386063  -2.1422384   0.16631186 -0.14223978 -0.16057381\n",
      "  0.18842216  0.6169895   0.41014445 -0.85994744 -0.18359515  0.8552574\n",
      " -0.09166812  0.29004693 -0.2457342  -0.7922906   0.9541924  -0.24640244\n",
      " -0.24664524 -1.8020042   0.04662093 -0.4877024  -0.6146694   0.40185812\n",
      "  0.7293241  -0.63863     0.0033437   0.26028037  0.2056734   0.0244971\n",
      "  0.3467614  -0.90679455  0.49632847  0.87716794  0.22315413 -1.2106816\n",
      " -0.01343979 -0.1351868  -0.06555691 -0.25496584  0.16421692  0.09040243\n",
      " -0.0895507   0.0656828  -0.42644554 -0.59592056 -0.1976696   0.00315235\n",
      " -0.12222238 -0.5683281  -1.4435802  -0.01608795 -0.7926371  -1.9423912\n",
      "  0.16408323  0.12983558  0.1771941  -0.22486556  0.5726104   0.4167321\n",
      "  0.10272427  0.08708018 -0.46996674 -0.30937994  0.68352133  0.4407323\n",
      " -0.60335505 -1.5214305  -0.12541378 -0.5262804   0.22277445  0.42526656\n",
      " -0.11975747  0.40983588  0.05141407 -0.03531161 -0.8905935   0.5126267\n",
      " -0.6564979  -0.342183    0.33784294  0.61615044 -0.15717986 -0.49708295\n",
      " -0.20845905  0.53045     0.44068292 -0.2731422   0.22062765 -0.6740713\n",
      " -0.10022105 -0.05716299 -0.88322574 -0.553756    0.2911749   0.01839457\n",
      "  0.2452879   0.11056544 -1.5102884  -0.1931169  -0.20499459  0.11121403\n",
      " -0.23804279 -0.52302635  0.1507065  -0.94292265  0.63151836 -0.48770753\n",
      "  0.26868868  0.38939148  0.9999723  -0.29159397  1.5029998  -0.03858867\n",
      "  0.3832067   0.14347292 -0.62553     0.47145882  0.42480618  0.6263969\n",
      "  0.23985344 -0.05392171  0.679693    0.4024984  -0.35359913  0.06380907\n",
      " -0.3933999  -0.17220785 -0.12176204 -0.07099053  1.4466138   0.20150946\n",
      "  1.4257394  -0.09128598  0.5065191   1.3745822  -0.04057377 -0.05823351\n",
      " -0.08830154 -0.08654167 -0.05919211  0.30939606  0.28465298  0.53663987\n",
      " -0.36372215 -0.2483638   0.20875397 -0.20514028 -0.48567232 -0.1310379\n",
      " -0.24014494 -0.00441687  0.3175166   0.728576   -1.64769    -0.15476373\n",
      " -0.1515285   0.9972711   0.27357388 -1.4414303   0.17152628  0.45729342\n",
      "  0.8839462   0.11348022  0.4068079  -0.36787936 -0.65005267 -0.5971103\n",
      " -0.15649503 -0.43611833  0.21488322  0.08040845  0.24836306 -0.04274644\n",
      " -0.43922287 -0.12745562 -0.96115136 -0.44180298 -0.38812712 -0.8040229\n",
      " -0.15535851  0.4671198  -0.13215552 -0.31851617 -1.3830466   0.19413885\n",
      "  0.65618247 -0.24377787  0.3236788   0.1880801   0.99081606  0.5943068\n",
      "  0.54326123 -1.2532446   0.46431518 -0.08223445  0.54004645 -0.45344028\n",
      " -0.23828447 -0.25675374 -0.0668868   0.03785034  0.20000114  0.3666697\n",
      " -0.21867682  0.4056854  -0.03802607  0.99559134 -0.19628549  0.14196208\n",
      " -0.14626575  0.35083845 -0.39315367  0.09700114  1.6255963   0.13117668\n",
      " -0.04620832  0.64405125 -0.36416757  0.05105274  0.46670204 -0.47791806\n",
      "  0.78475714  0.38248572  0.07144369 -0.52410454 -0.3399734  -0.1486318\n",
      "  0.30706197  0.1050735  -0.4103399  -0.6425725 ]\n",
      "(256,)\n"
     ]
    }
   ],
   "source": [
    "# Run the sensor processing package to process the images of a demonstration\n",
    "task = exp[\"proprioception_testing_task\"]\n",
    "demos_dir = pathlib.Path(Config()[\"demos\"][\"directory\"])\n",
    "task_dir = pathlib.Path(demos_dir, \"demos\", task)\n",
    "with torch.no_grad():\n",
    "    for demo_dir in task_dir.iterdir():\n",
    "        if not demo_dir.is_dir():\n",
    "            pass\n",
    "        bcd = BCDemonstration(demo_dir, sensorprocessor=None)\n",
    "        for i in range(bcd.trim_from, bcd.trim_to):\n",
    "            sensor_readings, _ = bcd.get_image(i)\n",
    "            sensor_readings = sensor_readings.to(device)\n",
    "            z = sp.process(sensor_readings)\n",
    "            break\n",
    "\n",
    "print(z)\n",
    "print(z.shape)"
   ]
  },
  {
   "cell_type": "code",
   "execution_count": 7,
   "metadata": {},
   "outputs": [
    {
     "name": "stdout",
     "output_type": "stream",
     "text": [
      "Cameras found: ['dev2']\n",
      "There are 437 steps in this demonstration\n",
      "This demonstration was recorded by the following cameras: ['dev2']\n",
      "[-1.3333772  -0.13453625  0.11544248  0.08157025  0.21745595  0.19263117\n",
      " -0.1939899   0.38074875 -1.1284058  -0.10883851 -0.04566706  0.26518828\n",
      " -0.7553371   0.60693103  0.06194327 -0.27515033  0.8797972   0.27140316\n",
      " -2.0240388   0.12191691 -0.304985   -0.05190174 -0.08188991  0.20107561\n",
      "  0.14298907 -0.1386063  -2.1422384   0.16631186 -0.14223978 -0.16057381\n",
      "  0.18842216  0.6169895   0.41014445 -0.85994744 -0.18359515  0.8552574\n",
      " -0.09166812  0.29004693 -0.2457342  -0.7922906   0.9541924  -0.24640244\n",
      " -0.24664524 -1.8020042   0.04662093 -0.4877024  -0.6146694   0.40185812\n",
      "  0.7293241  -0.63863     0.0033437   0.26028037  0.2056734   0.0244971\n",
      "  0.3467614  -0.90679455  0.49632847  0.87716794  0.22315413 -1.2106816\n",
      " -0.01343979 -0.1351868  -0.06555691 -0.25496584  0.16421692  0.09040243\n",
      " -0.0895507   0.0656828  -0.42644554 -0.59592056 -0.1976696   0.00315235\n",
      " -0.12222238 -0.5683281  -1.4435802  -0.01608795 -0.7926371  -1.9423912\n",
      "  0.16408323  0.12983558  0.1771941  -0.22486556  0.5726104   0.4167321\n",
      "  0.10272427  0.08708018 -0.46996674 -0.30937994  0.68352133  0.4407323\n",
      " -0.60335505 -1.5214305  -0.12541378 -0.5262804   0.22277445  0.42526656\n",
      " -0.11975747  0.40983588  0.05141407 -0.03531161 -0.8905935   0.5126267\n",
      " -0.6564979  -0.342183    0.33784294  0.61615044 -0.15717986 -0.49708295\n",
      " -0.20845905  0.53045     0.44068292 -0.2731422   0.22062765 -0.6740713\n",
      " -0.10022105 -0.05716299 -0.88322574 -0.553756    0.2911749   0.01839457\n",
      "  0.2452879   0.11056544 -1.5102884  -0.1931169  -0.20499459  0.11121403\n",
      " -0.23804279 -0.52302635  0.1507065  -0.94292265  0.63151836 -0.48770753\n",
      "  0.26868868  0.38939148  0.9999723  -0.29159397  1.5029998  -0.03858867\n",
      "  0.3832067   0.14347292 -0.62553     0.47145882  0.42480618  0.6263969\n",
      "  0.23985344 -0.05392171  0.679693    0.4024984  -0.35359913  0.06380907\n",
      " -0.3933999  -0.17220785 -0.12176204 -0.07099053  1.4466138   0.20150946\n",
      "  1.4257394  -0.09128598  0.5065191   1.3745822  -0.04057377 -0.05823351\n",
      " -0.08830154 -0.08654167 -0.05919211  0.30939606  0.28465298  0.53663987\n",
      " -0.36372215 -0.2483638   0.20875397 -0.20514028 -0.48567232 -0.1310379\n",
      " -0.24014494 -0.00441687  0.3175166   0.728576   -1.64769    -0.15476373\n",
      " -0.1515285   0.9972711   0.27357388 -1.4414303   0.17152628  0.45729342\n",
      "  0.8839462   0.11348022  0.4068079  -0.36787936 -0.65005267 -0.5971103\n",
      " -0.15649503 -0.43611833  0.21488322  0.08040845  0.24836306 -0.04274644\n",
      " -0.43922287 -0.12745562 -0.96115136 -0.44180298 -0.38812712 -0.8040229\n",
      " -0.15535851  0.4671198  -0.13215552 -0.31851617 -1.3830466   0.19413885\n",
      "  0.65618247 -0.24377787  0.3236788   0.1880801   0.99081606  0.5943068\n",
      "  0.54326123 -1.2532446   0.46431518 -0.08223445  0.54004645 -0.45344028\n",
      " -0.23828447 -0.25675374 -0.0668868   0.03785034  0.20000114  0.3666697\n",
      " -0.21867682  0.4056854  -0.03802607  0.99559134 -0.19628549  0.14196208\n",
      " -0.14626575  0.35083845 -0.39315367  0.09700114  1.6255963   0.13117668\n",
      " -0.04620832  0.64405125 -0.36416757  0.05105274  0.46670204 -0.47791806\n",
      "  0.78475714  0.38248572  0.07144369 -0.52410454 -0.3399734  -0.1486318\n",
      "  0.30706197  0.1050735  -0.4103399  -0.6425725 ]\n",
      "(256,)\n"
     ]
    }
   ],
   "source": [
    "# Run the sensor processing inside the BCDemonstration\n",
    "task = exp[\"proprioception_testing_task\"]\n",
    "demos_dir = pathlib.Path(Config()[\"demos\"][\"directory\"])\n",
    "task_dir = pathlib.Path(demos_dir, \"demos\", task)\n",
    "with torch.no_grad():\n",
    "    for demo_dir in task_dir.iterdir():\n",
    "        if not demo_dir.is_dir():\n",
    "            pass\n",
    "        bcd = BCDemonstration(demo_dir, sensorprocessor=sp)\n",
    "        for i in range(bcd.trim_from, bcd.trim_to):\n",
    "            #sensor_readings, _ = bcd.get_image(i)\n",
    "            #sensor_readings = sensor_readings.to(device)\n",
    "            #z = sp.process(sensor_readings)\n",
    "            z = bcd.get_z(i)\n",
    "            break\n",
    "\n",
    "print(z)\n",
    "print(z.shape)"
   ]
  }
 ],
 "metadata": {
  "kernelspec": {
   "display_name": "Robot-venv",
   "language": "python",
   "name": "python3"
  },
  "language_info": {
   "codemirror_mode": {
    "name": "ipython",
    "version": 3
   },
   "file_extension": ".py",
   "mimetype": "text/x-python",
   "name": "python",
   "nbconvert_exporter": "python",
   "pygments_lexer": "ipython3",
   "version": "3.11.4"
  }
 },
 "nbformat": 4,
 "nbformat_minor": 2
}
