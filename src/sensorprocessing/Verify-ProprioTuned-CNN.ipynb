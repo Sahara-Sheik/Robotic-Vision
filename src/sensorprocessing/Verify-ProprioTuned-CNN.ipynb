{
 "cells": [
  {
   "cell_type": "markdown",
   "metadata": {},
   "source": [
    "# Verify the ProprioTunedCNN sensorprocessing\n",
    "\n",
    "Reload a pre-trained model specified by an experiment trained by the Train-ProprioTuned-CNN notebook.\n",
    "\n",
    "This notebook runs a number of experiments that illustrate the performance. "
   ]
  },
  {
   "cell_type": "code",
   "execution_count": null,
   "metadata": {},
   "outputs": [],
   "source": [
    "import sys\n",
    "sys.path.append(\"..\")\n",
    "from settings import Config\n",
    "\n",
    "import pathlib\n",
    "import matplotlib.pyplot as plt\n",
    "import torch\n",
    "import torch.nn as nn\n",
    "from torchvision import models, transforms\n",
    "import torch.optim as optim\n",
    "from torch.utils.data import DataLoader, TensorDataset\n",
    "from pprint import pprint\n",
    "\n",
    "from behavior_cloning.demo_to_trainingdata import BCDemonstration\n",
    "from sensorprocessing.sp_propriotuned_cnn import VGG19ProprioTunedRegression, VGG19ProprioTunedSensorProcessing, ResNetProprioTunedRegression, ResNetProprioTunedSensorProcessing\n",
    "from robot.al5d_position_controller import RobotPosition\n",
    "\n",
    "device = torch.device(\"cuda\" if torch.cuda.is_available() else \"cpu\")\n",
    "print(f\"Using device: {device}\")"
   ]
  },
  {
   "cell_type": "code",
   "execution_count": null,
   "metadata": {},
   "outputs": [],
   "source": [
    "# The experiment/run we are going to run: the specified model will be created\n",
    "experiment = \"sensorprocessing_propriotuned_cnn\"\n",
    "# run = \"vgg19_128\"\n",
    "# run = \"resnet50_128\"\n",
    "# run = \"vgg19_256\"\n",
    "run = \"resnet50_256\"\n",
    "\n",
    "exp = Config().get_experiment(experiment, run)"
   ]
  },
  {
   "cell_type": "markdown",
   "metadata": {},
   "source": [
    "### Check the model for an encoding mode\n",
    "\n",
    "Check whether we can load back the model. This loads back the model, not the sensor processing part. "
   ]
  },
  {
   "cell_type": "code",
   "execution_count": null,
   "metadata": {},
   "outputs": [],
   "source": [
    "if exp['model'] == 'VGG19ProprioTunedRegression':\n",
    "    model = VGG19ProprioTunedRegression(exp, device)\n",
    "elif exp['model'] == 'ResNetProprioTunedRegression':\n",
    "    model = ResNetProprioTunedRegression(exp, device)\n",
    "else:\n",
    "    raise Exception(f\"Unknown model {exp['model']}\")\n",
    "\n",
    "if exp['loss'] == 'MSELoss':        \n",
    "    criterion = nn.MSELoss()\n",
    "elif exp['loss'] == 'L1Loss':\n",
    "    criterion = nn.L1Loss()\n",
    "\n",
    "modelfile = pathlib.Path(exp[\"data_dir\"], \n",
    "                         exp[\"proprioception_mlp_model_file\"])\n",
    "print(modelfile)\n",
    "assert modelfile.exists()\n",
    "model.load_state_dict(torch.load(modelfile))"
   ]
  },
  {
   "cell_type": "code",
   "execution_count": null,
   "metadata": {},
   "outputs": [],
   "source": [
    "#\n",
    "#  FIXME: this does not work on the resnet maybe the image format is not good\n",
    "#\n",
    "\n",
    "# Run the loaded model on all the images in a specific demonstration\n",
    "task = exp[\"proprioception_testing_task\"]\n",
    "demos_dir = pathlib.Path(Config()[\"demos\"][\"directory\"])\n",
    "task_dir = pathlib.Path(demos_dir, \"demos\", task)\n",
    "# enc = model.to(device) # probably not need\n",
    "\n",
    "inputlist = []\n",
    "targetlist = []\n",
    "with torch.no_grad():\n",
    "    for demo_dir in task_dir.iterdir():\n",
    "        if not demo_dir.is_dir():\n",
    "            pass\n",
    "        bcd = BCDemonstration(demo_dir, sensorprocessor=None)\n",
    "        for i in range(bcd.trim_from, bcd.trim_to):\n",
    "            sensor_readings, _ = bcd.get_image(i)\n",
    "            z = model.encode(sensor_readings)\n",
    "            break\n",
    "\n",
    "print(f\"The shape of the output is: {z.shape}\")\n",
    "print(f\"One example z looks like this:\\n{z}\")\n"
   ]
  },
  {
   "cell_type": "markdown",
   "metadata": {},
   "source": [
    "### Show how to create and use a SensorProcessing object\n"
   ]
  },
  {
   "cell_type": "code",
   "execution_count": null,
   "metadata": {},
   "outputs": [],
   "source": [
    "pprint(exp)\n",
    "# Create the sensor processing object\n",
    "\n",
    "# exp = Config().get_experiment(\"sensorprocessing_propriotuned_cnn\", run)\n",
    "\n",
    "sp = None\n",
    "if exp[\"model\"] == \"VGG19ProprioTunedRegression\":\n",
    "    sp = VGG19ProprioTunedSensorProcessing(exp, device)\n",
    "if exp[\"model\"] == \"ResNetProprioTunedRegression\":\n",
    "    sp = ResNetProprioTunedSensorProcessing(exp, device)\n",
    "if sp is None:\n",
    "    raise Exception(f\"Could not instantiate sp for {exp['model']}\")"
   ]
  },
  {
   "cell_type": "code",
   "execution_count": null,
   "metadata": {},
   "outputs": [],
   "source": [
    "# Run the sensor processing package to process the images of a demonstration\n",
    "task = exp[\"proprioception_testing_task\"]\n",
    "demos_dir = pathlib.Path(Config()[\"demos\"][\"directory\"])\n",
    "task_dir = pathlib.Path(demos_dir, \"demos\", task)\n",
    "with torch.no_grad():\n",
    "    for demo_dir in task_dir.iterdir():\n",
    "        if not demo_dir.is_dir():\n",
    "            pass\n",
    "        bcd = BCDemonstration(demo_dir, sensorprocessor=None)\n",
    "        for i in range(bcd.trim_from, bcd.trim_to):\n",
    "            sensor_readings, _ = bcd.get_image(i)\n",
    "            sensor_readings = sensor_readings.to(device)\n",
    "            z = sp.process(sensor_readings)\n",
    "            break\n",
    "\n",
    "print(z)\n",
    "print(z.shape)"
   ]
  },
  {
   "cell_type": "code",
   "execution_count": null,
   "metadata": {},
   "outputs": [],
   "source": [
    "# Run the sensor processing inside the BCDemonstration\n",
    "task = exp[\"proprioception_testing_task\"]\n",
    "demos_dir = pathlib.Path(Config()[\"demos\"][\"directory\"])\n",
    "task_dir = pathlib.Path(demos_dir, \"demos\", task)\n",
    "with torch.no_grad():\n",
    "    for demo_dir in task_dir.iterdir():\n",
    "        if not demo_dir.is_dir():\n",
    "            pass\n",
    "        bcd = BCDemonstration(demo_dir, sensorprocessor=sp)\n",
    "        for i in range(bcd.trim_from, bcd.trim_to):\n",
    "            #sensor_readings, _ = bcd.get_image(i)\n",
    "            #sensor_readings = sensor_readings.to(device)\n",
    "            #z = sp.process(sensor_readings)\n",
    "            z = bcd.get_z(i)\n",
    "            break\n",
    "\n",
    "print(z)\n",
    "print(z.shape)"
   ]
  }
 ],
 "metadata": {
  "kernelspec": {
   "display_name": "Robot-venv",
   "language": "python",
   "name": "python3"
  },
  "language_info": {
   "codemirror_mode": {
    "name": "ipython",
    "version": 3
   },
   "file_extension": ".py",
   "mimetype": "text/x-python",
   "name": "python",
   "nbconvert_exporter": "python",
   "pygments_lexer": "ipython3",
   "version": "3.11.4"
  }
 },
 "nbformat": 4,
 "nbformat_minor": 2
}
