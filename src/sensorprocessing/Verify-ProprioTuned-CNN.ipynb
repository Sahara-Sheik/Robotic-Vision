{
 "cells": [
  {
   "cell_type": "markdown",
   "metadata": {},
   "source": [
    "# Verify the ProprioTunedCNN sensorprocessing\n",
    "\n",
    "Reload a pre-trained model specified by an experiment trained by the Train-ProprioTuned-CNN notebook.\n",
    "\n",
    "This notebook runs a number of experiments that illustrate the performance. "
   ]
  },
  {
   "cell_type": "code",
   "execution_count": 1,
   "metadata": {},
   "outputs": [],
   "source": [
    "import sys\n",
    "sys.path.append(\"..\")\n",
    "from settings import Config\n",
    "\n",
    "import pathlib\n",
    "import matplotlib.pyplot as plt\n",
    "import torch\n",
    "import torch.nn as nn\n",
    "from torchvision import models, transforms\n",
    "import torch.optim as optim\n",
    "from torch.utils.data import DataLoader, TensorDataset\n",
    "\n",
    "from behavior_cloning.demo_to_trainingdata import BCDemonstration\n",
    "from sensorprocessing.sp_propriotuned_cnn import VGG19ProprioTunedRegression, VGG19ProprioTunedSensorProcessing\n",
    "from robot.al5d_position_controller import RobotPosition\n",
    "\n",
    "# Move data to GPU (if available)\n",
    "device = torch.device(\"cuda\" if torch.cuda.is_available() else \"cpu\")"
   ]
  },
  {
   "cell_type": "code",
   "execution_count": null,
   "metadata": {},
   "outputs": [],
   "source": [
    "# The experiment/run we are going to run: the specified model will be created\n",
    "experiment = \"sensorprocessing_propriotuned_cnn\"\n",
    "run = \"vgg19_128\"\n",
    "exp = Config().get_experiment(experiment, run)"
   ]
  },
  {
   "cell_type": "markdown",
   "metadata": {},
   "source": [
    "### Check the model for an encoding mode\n",
    "\n",
    "Check whether we can load back the model"
   ]
  },
  {
   "cell_type": "code",
   "execution_count": 2,
   "metadata": {},
   "outputs": [
    {
     "name": "stdout",
     "output_type": "stream",
     "text": [
      "Loading pointer config file: C:\\Users\\lboloni\\.config\\BerryPicker\\mainsettings.yaml\n",
      "Loading machine-specific config file: G:\\My Drive\\LotziStudy\\Code\\PackageTracking\\BerryPicker\\settings\\settings-LotziYoga.yaml\n"
     ]
    },
    {
     "ename": "NameError",
     "evalue": "name 'experiment' is not defined",
     "output_type": "error",
     "traceback": [
      "\u001b[1;31m---------------------------------------------------------------------------\u001b[0m",
      "\u001b[1;31mNameError\u001b[0m                                 Traceback (most recent call last)",
      "Cell \u001b[1;32mIn[2], line 1\u001b[0m\n\u001b[1;32m----> 1\u001b[0m exp \u001b[38;5;241m=\u001b[39m Config()\u001b[38;5;241m.\u001b[39mget_experiment(\u001b[43mexperiment\u001b[49m, run)\n\u001b[0;32m      2\u001b[0m hidden_size \u001b[38;5;241m=\u001b[39m exp[\u001b[38;5;124m\"\u001b[39m\u001b[38;5;124mlatent_dims\u001b[39m\u001b[38;5;124m\"\u001b[39m]\n\u001b[0;32m      3\u001b[0m output_size \u001b[38;5;241m=\u001b[39m Config()[\u001b[38;5;124m\"\u001b[39m\u001b[38;5;124mrobot\u001b[39m\u001b[38;5;124m\"\u001b[39m][\u001b[38;5;124m\"\u001b[39m\u001b[38;5;124maction_space_size\u001b[39m\u001b[38;5;124m\"\u001b[39m]\n",
      "\u001b[1;31mNameError\u001b[0m: name 'experiment' is not defined"
     ]
    }
   ],
   "source": [
    "exp = Config().get_experiment(experiment, run)\n",
    "hidden_size = exp[\"latent_dims\"]\n",
    "output_size = Config()[\"robot\"][\"action_space_size\"]\n",
    "\n",
    "if exp['model'] == 'VGG19ProprioTunedRegression':\n",
    "    enc = VGG19ProprioTunedRegression(\n",
    "        hidden_size=hidden_size, output_size=output_size)\n",
    "else:\n",
    "    raise Exception(f\"Unknown model {exp['model']}\")\n",
    "\n",
    "modelfile = pathlib.Path(exp[\"data_dir\"], \n",
    "                         exp[\"proprioception_mlp_model_file\"])\n",
    "assert modelfile.exists()\n",
    "enc.load_state_dict(torch.load(modelfile))"
   ]
  },
  {
   "cell_type": "code",
   "execution_count": null,
   "metadata": {},
   "outputs": [],
   "source": [
    "task = exp[\"proprioception_testing_task\"]\n",
    "demos_dir = pathlib.Path(Config()[\"demos\"][\"directory\"])\n",
    "task_dir = pathlib.Path(demos_dir, \"demos\", task)\n",
    "enc = enc.to(device)\n",
    "\n",
    "inputlist = []\n",
    "targetlist = []\n",
    "with torch.no_grad():\n",
    "    for demo_dir in task_dir.iterdir():\n",
    "        if not demo_dir.is_dir():\n",
    "            pass\n",
    "        bcd = BCDemonstration(demo_dir, sensorprocessor=None)\n",
    "        for i in range(bcd.trim_from, bcd.trim_to):\n",
    "            sensor_readings, _ = bcd.get_image(i)\n",
    "            z = enc.encode(sensor_readings)\n",
    "            break\n",
    "\n",
    "print(z)\n",
    "print(z.shape)\n"
   ]
  },
  {
   "cell_type": "markdown",
   "metadata": {},
   "source": [
    "### Show how to use an SensorProcessing object"
   ]
  },
  {
   "cell_type": "code",
   "execution_count": null,
   "metadata": {},
   "outputs": [],
   "source": [
    "# Create the sensor processing package\n",
    "\n",
    "exp = Config().get_experiment(\"sensorprocessing_propriotuned_cnn\", run)\n",
    "sp = VGG19ProprioTunedSensorProcessing(exp, device=device)"
   ]
  },
  {
   "cell_type": "code",
   "execution_count": null,
   "metadata": {},
   "outputs": [],
   "source": [
    "# Run the sensor processing package to process the images of a demonstration\n",
    "task = exp[\"proprioception_testing_task\"]\n",
    "demos_dir = pathlib.Path(Config()[\"demos\"][\"directory\"])\n",
    "task_dir = pathlib.Path(demos_dir, \"demos\", task)\n",
    "with torch.no_grad():\n",
    "    for demo_dir in task_dir.iterdir():\n",
    "        if not demo_dir.is_dir():\n",
    "            pass\n",
    "        bcd = BCDemonstration(demo_dir, sensorprocessor=None)\n",
    "        for i in range(bcd.trim_from, bcd.trim_to):\n",
    "            sensor_readings, _ = bcd.get_image(i)\n",
    "            sensor_readings = sensor_readings.to(device)\n",
    "            z = sp.process(sensor_readings)\n",
    "            break\n",
    "\n",
    "print(z)\n",
    "print(z.shape)"
   ]
  },
  {
   "cell_type": "code",
   "execution_count": null,
   "metadata": {},
   "outputs": [],
   "source": [
    "# Run the sensor processing inside the BCDemonstration\n",
    "task = exp[\"proprioception_testing_task\"]\n",
    "demos_dir = pathlib.Path(Config()[\"demos\"][\"directory\"])\n",
    "task_dir = pathlib.Path(demos_dir, \"demos\", task)\n",
    "with torch.no_grad():\n",
    "    for demo_dir in task_dir.iterdir():\n",
    "        if not demo_dir.is_dir():\n",
    "            pass\n",
    "        bcd = BCDemonstration(demo_dir, sensorprocessor=sp)\n",
    "        for i in range(bcd.trim_from, bcd.trim_to):\n",
    "            #sensor_readings, _ = bcd.get_image(i)\n",
    "            #sensor_readings = sensor_readings.to(device)\n",
    "            #z = sp.process(sensor_readings)\n",
    "            z = bcd.get_z(i)\n",
    "            break\n",
    "\n",
    "print(z)\n",
    "print(z.shape)"
   ]
  }
 ],
 "metadata": {
  "kernelspec": {
   "display_name": "Robot-venv",
   "language": "python",
   "name": "python3"
  },
  "language_info": {
   "codemirror_mode": {
    "name": "ipython",
    "version": 3
   },
   "file_extension": ".py",
   "mimetype": "text/x-python",
   "name": "python",
   "nbconvert_exporter": "python",
   "pygments_lexer": "ipython3",
   "version": "3.11.4"
  }
 },
 "nbformat": 4,
 "nbformat_minor": 2
}
