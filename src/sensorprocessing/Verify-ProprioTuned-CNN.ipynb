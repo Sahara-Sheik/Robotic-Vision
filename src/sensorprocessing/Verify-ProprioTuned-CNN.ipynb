{
 "cells": [
  {
   "cell_type": "markdown",
   "metadata": {},
   "source": [
    "# Verify the ProprioTunedCNN sensorprocessing\n",
    "\n",
    "Reload a pre-trained model specified by an experiment trained by the Train-ProprioTuned-CNN notebook.\n",
    "\n",
    "This notebook runs a number of experiments that illustrate the performance. "
   ]
  },
  {
   "cell_type": "code",
   "execution_count": 1,
   "metadata": {},
   "outputs": [],
   "source": [
    "import sys\n",
    "sys.path.append(\"..\")\n",
    "from settings import Config\n",
    "\n",
    "import pathlib\n",
    "import matplotlib.pyplot as plt\n",
    "import torch\n",
    "import torch.nn as nn\n",
    "from torchvision import models, transforms\n",
    "import torch.optim as optim\n",
    "from torch.utils.data import DataLoader, TensorDataset\n",
    "\n",
    "from behavior_cloning.demo_to_trainingdata import BCDemonstration\n",
    "from sensorprocessing.sp_propriotuned_cnn import VGG19ProprioTunedRegression, VGG19ProprioTunedSensorProcessing\n",
    "from robot.al5d_position_controller import RobotPosition\n",
    "\n",
    "# Move data to GPU (if available)\n",
    "device = torch.device(\"cuda\" if torch.cuda.is_available() else \"cpu\")"
   ]
  },
  {
   "cell_type": "code",
   "execution_count": 2,
   "metadata": {},
   "outputs": [
    {
     "name": "stdout",
     "output_type": "stream",
     "text": [
      "Loading pointer config file: C:\\Users\\lboloni\\.config\\BerryPicker\\mainsettings.yaml\n",
      "Loading machine-specific config file: G:\\My Drive\\LotziStudy\\Code\\PackageTracking\\BerryPicker\\settings\\settings-LotziYoga.yaml\n",
      "Note: no system dependent config file G:\\My Drive\\LotziStudy\\Code\\PackageTracking\\BerryPicker\\settings\\experiment-config\\LotziYoga\\sensorprocessing_propriotuned_cnn\\vgg19_128_sysdep.yaml,\n",
      " that is ok, proceeding.\n",
      "Configuration for experiment: sensorprocessing_propriotuned_cnn/vgg19_128 successfully loaded\n"
     ]
    }
   ],
   "source": [
    "# The experiment/run we are going to run: the specified model will be created\n",
    "experiment = \"sensorprocessing_propriotuned_cnn\"\n",
    "run = \"vgg19_128\"\n",
    "exp = Config().get_experiment(experiment, run)"
   ]
  },
  {
   "cell_type": "markdown",
   "metadata": {},
   "source": [
    "### Check the model for an encoding mode\n",
    "\n",
    "Check whether we can load back the model"
   ]
  },
  {
   "cell_type": "code",
   "execution_count": 3,
   "metadata": {},
   "outputs": [
    {
     "name": "stdout",
     "output_type": "stream",
     "text": [
      "Note: no system dependent config file G:\\My Drive\\LotziStudy\\Code\\PackageTracking\\BerryPicker\\settings\\experiment-config\\LotziYoga\\sensorprocessing_propriotuned_cnn\\vgg19_128_sysdep.yaml,\n",
      " that is ok, proceeding.\n",
      "Configuration for experiment: sensorprocessing_propriotuned_cnn/vgg19_128 successfully loaded\n"
     ]
    },
    {
     "name": "stderr",
     "output_type": "stream",
     "text": [
      "c:\\Users\\lboloni\\Documents\\Code\\_VirtualEnvironments\\Robot\\Robot-venv\\Lib\\site-packages\\torchvision\\models\\_utils.py:208: UserWarning: The parameter 'pretrained' is deprecated since 0.13 and may be removed in the future, please use 'weights' instead.\n",
      "  warnings.warn(\n",
      "c:\\Users\\lboloni\\Documents\\Code\\_VirtualEnvironments\\Robot\\Robot-venv\\Lib\\site-packages\\torchvision\\models\\_utils.py:223: UserWarning: Arguments other than a weight enum or `None` for 'weights' are deprecated since 0.13 and may be removed in the future. The current behavior is equivalent to passing `weights=VGG19_Weights.IMAGENET1K_V1`. You can also use `weights=VGG19_Weights.DEFAULT` to get the most up-to-date weights.\n",
      "  warnings.warn(msg)\n",
      "C:\\Users\\lboloni\\AppData\\Local\\Temp\\ipykernel_159116\\1255638504.py:14: FutureWarning: You are using `torch.load` with `weights_only=False` (the current default value), which uses the default pickle module implicitly. It is possible to construct malicious pickle data which will execute arbitrary code during unpickling (See https://github.com/pytorch/pytorch/blob/main/SECURITY.md#untrusted-models for more details). In a future release, the default value for `weights_only` will be flipped to `True`. This limits the functions that could be executed during unpickling. Arbitrary objects will no longer be allowed to be loaded via this mode unless they are explicitly allowlisted by the user via `torch.serialization.add_safe_globals`. We recommend you start setting `weights_only=True` for any use case where you don't have full control of the loaded file. Please open an issue on GitHub for any issues related to this experimental feature.\n",
      "  enc.load_state_dict(torch.load(modelfile))\n"
     ]
    },
    {
     "data": {
      "text/plain": [
       "<All keys matched successfully>"
      ]
     },
     "execution_count": 3,
     "metadata": {},
     "output_type": "execute_result"
    }
   ],
   "source": [
    "exp = Config().get_experiment(experiment, run)\n",
    "hidden_size = exp[\"latent_dims\"]\n",
    "output_size = Config()[\"robot\"][\"action_space_size\"]\n",
    "\n",
    "if exp['model'] == 'VGG19ProprioTunedRegression':\n",
    "    enc = VGG19ProprioTunedRegression(\n",
    "        hidden_size=hidden_size, output_size=output_size)\n",
    "else:\n",
    "    raise Exception(f\"Unknown model {exp['model']}\")\n",
    "\n",
    "modelfile = pathlib.Path(exp[\"data_dir\"], \n",
    "                         exp[\"proprioception_mlp_model_file\"])\n",
    "assert modelfile.exists()\n",
    "enc.load_state_dict(torch.load(modelfile))"
   ]
  },
  {
   "cell_type": "code",
   "execution_count": 4,
   "metadata": {},
   "outputs": [
    {
     "name": "stdout",
     "output_type": "stream",
     "text": [
      "Cameras found: ['dev2']\n",
      "There are 388 steps in this demonstration\n",
      "This demonstration was recorded by the following cameras: ['dev2']\n",
      "tensor([[-4.5129e+00, -2.2058e+00, -3.2404e+00,  7.5834e-01,  3.0324e+00,\n",
      "          4.2052e+00, -1.1299e+00, -8.0757e+00, -6.0706e+00, -7.1044e+00,\n",
      "         -6.0594e+00, -3.7787e+00,  8.4719e+00, -1.0134e+00, -2.8241e+00,\n",
      "          2.4231e+00, -7.3312e+00, -4.4464e+00, -5.6492e+00,  3.2451e+00,\n",
      "          2.6959e-01, -4.2067e+00, -3.7391e+00, -5.5489e+00,  2.8673e+00,\n",
      "         -5.5216e+00, -1.9480e+00,  1.0107e+00,  1.2318e-01, -4.0668e+00,\n",
      "         -7.1592e+00,  9.1650e-01,  4.9050e+00,  4.7074e+00,  3.3768e+00,\n",
      "         -5.6155e+00, -3.7511e+00, -1.3502e+00,  1.9216e+00, -8.1680e+00,\n",
      "          1.4490e+00, -1.0846e+00,  5.5941e-01, -4.3811e+00, -2.8466e+00,\n",
      "          5.3295e+00,  1.9601e+00,  4.2959e-01, -1.9975e+00, -7.5016e+00,\n",
      "         -2.9689e-01, -1.2750e-01, -1.2100e+00,  3.5364e+00, -4.7736e+00,\n",
      "         -4.3391e+00,  2.8574e+00,  2.2698e+00, -3.6046e-01, -3.1834e+00,\n",
      "          3.6859e-03,  4.2281e+00,  4.0292e+00, -3.4828e+00, -3.9612e+00,\n",
      "          6.5667e-01, -1.5018e-01, -5.3995e+00, -2.6473e+00, -1.6247e+00,\n",
      "         -4.9074e+00, -6.5975e+00, -2.8969e+00,  3.5487e+00, -4.5185e+00,\n",
      "         -1.0028e+00,  3.4588e+00,  2.7381e+00, -1.9779e+00, -1.4418e+00,\n",
      "          6.0620e+00, -4.6250e+00,  3.6031e+00, -2.9516e+00, -1.7065e+00,\n",
      "         -2.7355e+00, -7.4942e+00,  5.9755e-01, -7.4981e+00, -2.6267e+00,\n",
      "         -4.2206e+00, -9.0188e+00,  2.6558e+00, -6.1796e-01,  3.3711e+00,\n",
      "          2.3735e+00,  1.9242e+00,  1.3574e+00,  1.6118e+00, -1.5333e+00,\n",
      "         -2.0194e+00, -3.0520e+00, -9.7121e+00,  2.2279e+00,  1.9942e+00,\n",
      "          1.2384e+00, -7.9161e+00,  6.0964e+00, -9.0251e+00,  1.3861e-01,\n",
      "         -4.0874e+00, -1.0325e+00, -1.5922e+00, -1.2172e+01, -1.1136e+01,\n",
      "         -4.5573e-01, -3.6965e+00,  6.1161e+00,  5.4294e+00, -2.8951e+00,\n",
      "         -1.1242e+00, -2.3320e+00,  2.8522e+00,  4.2013e+00,  3.2061e+00,\n",
      "          1.5620e+00, -7.8915e+00,  3.5313e-01]], device='cuda:0')\n",
      "torch.Size([1, 128])\n"
     ]
    }
   ],
   "source": [
    "task = exp[\"proprioception_testing_task\"]\n",
    "demos_dir = pathlib.Path(Config()[\"demos\"][\"directory\"])\n",
    "task_dir = pathlib.Path(demos_dir, \"demos\", task)\n",
    "enc = enc.to(device)\n",
    "\n",
    "inputlist = []\n",
    "targetlist = []\n",
    "with torch.no_grad():\n",
    "    for demo_dir in task_dir.iterdir():\n",
    "        if not demo_dir.is_dir():\n",
    "            pass\n",
    "        bcd = BCDemonstration(demo_dir, sensorprocessor=None)\n",
    "        for i in range(bcd.trim_from, bcd.trim_to):\n",
    "            sensor_readings, _ = bcd.get_image(i)\n",
    "            z = enc.encode(sensor_readings)\n",
    "            break\n",
    "\n",
    "print(z)\n",
    "print(z.shape)\n"
   ]
  },
  {
   "cell_type": "markdown",
   "metadata": {},
   "source": [
    "### Show how to use an SensorProcessing object"
   ]
  },
  {
   "cell_type": "code",
   "execution_count": 5,
   "metadata": {},
   "outputs": [
    {
     "name": "stdout",
     "output_type": "stream",
     "text": [
      "Note: no system dependent config file G:\\My Drive\\LotziStudy\\Code\\PackageTracking\\BerryPicker\\settings\\experiment-config\\LotziYoga\\sensorprocessing_propriotuned_cnn\\vgg19_128_sysdep.yaml,\n",
      " that is ok, proceeding.\n",
      "Configuration for experiment: sensorprocessing_propriotuned_cnn/vgg19_128 successfully loaded\n"
     ]
    },
    {
     "name": "stderr",
     "output_type": "stream",
     "text": [
      "c:\\Users\\lboloni\\Documents\\Code\\_Checkouts\\BerryPicker\\src\\sensorprocessing\\..\\sensorprocessing\\sp_propriotuned_cnn.py:84: FutureWarning: You are using `torch.load` with `weights_only=False` (the current default value), which uses the default pickle module implicitly. It is possible to construct malicious pickle data which will execute arbitrary code during unpickling (See https://github.com/pytorch/pytorch/blob/main/SECURITY.md#untrusted-models for more details). In a future release, the default value for `weights_only` will be flipped to `True`. This limits the functions that could be executed during unpickling. Arbitrary objects will no longer be allowed to be loaded via this mode unless they are explicitly allowlisted by the user via `torch.serialization.add_safe_globals`. We recommend you start setting `weights_only=True` for any use case where you don't have full control of the loaded file. Please open an issue on GitHub for any issues related to this experimental feature.\n",
      "  self.enc.load_state_dict(torch.load(modelfile))\n"
     ]
    }
   ],
   "source": [
    "# Create the sensor processing package\n",
    "\n",
    "exp = Config().get_experiment(\"sensorprocessing_propriotuned_cnn\", run)\n",
    "sp = VGG19ProprioTunedSensorProcessing(exp, device=device)"
   ]
  },
  {
   "cell_type": "code",
   "execution_count": 6,
   "metadata": {},
   "outputs": [
    {
     "name": "stdout",
     "output_type": "stream",
     "text": [
      "Cameras found: ['dev2']\n",
      "There are 388 steps in this demonstration\n",
      "This demonstration was recorded by the following cameras: ['dev2']\n",
      "sensor readings shape torch.Size([1, 3, 256, 256])\n",
      "[-4.5129495e+00 -2.2057865e+00 -3.2404022e+00  7.5834453e-01\n",
      "  3.0324214e+00  4.2052059e+00 -1.1298878e+00 -8.0757351e+00\n",
      " -6.0705962e+00 -7.1044106e+00 -6.0594215e+00 -3.7787216e+00\n",
      "  8.4719229e+00 -1.0133907e+00 -2.8240857e+00  2.4230831e+00\n",
      " -7.3312058e+00 -4.4464378e+00 -5.6491523e+00  3.2450981e+00\n",
      "  2.6958919e-01 -4.2066574e+00 -3.7390933e+00 -5.5489392e+00\n",
      "  2.8673432e+00 -5.5216498e+00 -1.9480151e+00  1.0106723e+00\n",
      "  1.2317884e-01 -4.0667801e+00 -7.1591649e+00  9.1649717e-01\n",
      "  4.9049687e+00  4.7073622e+00  3.3768213e+00 -5.6155210e+00\n",
      " -3.7511401e+00 -1.3501763e+00  1.9216290e+00 -8.1679592e+00\n",
      "  1.4490038e+00 -1.0846056e+00  5.5941057e-01 -4.3810587e+00\n",
      " -2.8465586e+00  5.3295422e+00  1.9601411e+00  4.2959088e-01\n",
      " -1.9975140e+00 -7.5015874e+00 -2.9688755e-01 -1.2750435e-01\n",
      " -1.2100486e+00  3.5363848e+00 -4.7735920e+00 -4.3390861e+00\n",
      "  2.8574331e+00  2.2697513e+00 -3.6045963e-01 -3.1834083e+00\n",
      "  3.6859214e-03  4.2281032e+00  4.0291548e+00 -3.4827788e+00\n",
      " -3.9611797e+00  6.5667355e-01 -1.5018320e-01 -5.3995423e+00\n",
      " -2.6472595e+00 -1.6247190e+00 -4.9073801e+00 -6.5975418e+00\n",
      " -2.8968823e+00  3.5486808e+00 -4.5185370e+00 -1.0027893e+00\n",
      "  3.4588470e+00  2.7380691e+00 -1.9778770e+00 -1.4417942e+00\n",
      "  6.0619693e+00 -4.6249685e+00  3.6030846e+00 -2.9516070e+00\n",
      " -1.7064999e+00 -2.7355421e+00 -7.4942384e+00  5.9755039e-01\n",
      " -7.4981408e+00 -2.6266978e+00 -4.2205534e+00 -9.0187826e+00\n",
      "  2.6558194e+00 -6.1796212e-01  3.3711021e+00  2.3734982e+00\n",
      "  1.9242096e+00  1.3573881e+00  1.6117584e+00 -1.5332692e+00\n",
      " -2.0194201e+00 -3.0519612e+00 -9.7121143e+00  2.2278810e+00\n",
      "  1.9942153e+00  1.2383505e+00 -7.9160767e+00  6.0964060e+00\n",
      " -9.0251045e+00  1.3861249e-01 -4.0873537e+00 -1.0324515e+00\n",
      " -1.5921550e+00 -1.2171792e+01 -1.1136297e+01 -4.5572785e-01\n",
      " -3.6964931e+00  6.1161094e+00  5.4294286e+00 -2.8950701e+00\n",
      " -1.1242253e+00 -2.3319862e+00  2.8522251e+00  4.2013268e+00\n",
      "  3.2060719e+00  1.5619562e+00 -7.8914638e+00  3.5313478e-01]\n",
      "(128,)\n"
     ]
    }
   ],
   "source": [
    "# Run the sensor processing package to process the images of a demonstration\n",
    "task = exp[\"proprioception_testing_task\"]\n",
    "demos_dir = pathlib.Path(Config()[\"demos\"][\"directory\"])\n",
    "task_dir = pathlib.Path(demos_dir, \"demos\", task)\n",
    "with torch.no_grad():\n",
    "    for demo_dir in task_dir.iterdir():\n",
    "        if not demo_dir.is_dir():\n",
    "            pass\n",
    "        bcd = BCDemonstration(demo_dir, sensorprocessor=None)\n",
    "        for i in range(bcd.trim_from, bcd.trim_to):\n",
    "            sensor_readings, _ = bcd.get_image(i)\n",
    "            sensor_readings = sensor_readings.to(device)\n",
    "            z = sp.process(sensor_readings)\n",
    "            break\n",
    "\n",
    "print(z)\n",
    "print(z.shape)"
   ]
  },
  {
   "cell_type": "code",
   "execution_count": 7,
   "metadata": {},
   "outputs": [
    {
     "name": "stdout",
     "output_type": "stream",
     "text": [
      "Cameras found: ['dev2']\n",
      "There are 388 steps in this demonstration\n",
      "This demonstration was recorded by the following cameras: ['dev2']\n",
      "sensor readings shape torch.Size([1, 3, 256, 256])\n",
      "[-4.5129495e+00 -2.2057865e+00 -3.2404022e+00  7.5834453e-01\n",
      "  3.0324214e+00  4.2052059e+00 -1.1298878e+00 -8.0757351e+00\n",
      " -6.0705962e+00 -7.1044106e+00 -6.0594215e+00 -3.7787216e+00\n",
      "  8.4719229e+00 -1.0133907e+00 -2.8240857e+00  2.4230831e+00\n",
      " -7.3312058e+00 -4.4464378e+00 -5.6491523e+00  3.2450981e+00\n",
      "  2.6958919e-01 -4.2066574e+00 -3.7390933e+00 -5.5489392e+00\n",
      "  2.8673432e+00 -5.5216498e+00 -1.9480151e+00  1.0106723e+00\n",
      "  1.2317884e-01 -4.0667801e+00 -7.1591649e+00  9.1649717e-01\n",
      "  4.9049687e+00  4.7073622e+00  3.3768213e+00 -5.6155210e+00\n",
      " -3.7511401e+00 -1.3501763e+00  1.9216290e+00 -8.1679592e+00\n",
      "  1.4490038e+00 -1.0846056e+00  5.5941057e-01 -4.3810587e+00\n",
      " -2.8465586e+00  5.3295422e+00  1.9601411e+00  4.2959088e-01\n",
      " -1.9975140e+00 -7.5015874e+00 -2.9688755e-01 -1.2750435e-01\n",
      " -1.2100486e+00  3.5363848e+00 -4.7735920e+00 -4.3390861e+00\n",
      "  2.8574331e+00  2.2697513e+00 -3.6045963e-01 -3.1834083e+00\n",
      "  3.6859214e-03  4.2281032e+00  4.0291548e+00 -3.4827788e+00\n",
      " -3.9611797e+00  6.5667355e-01 -1.5018320e-01 -5.3995423e+00\n",
      " -2.6472595e+00 -1.6247190e+00 -4.9073801e+00 -6.5975418e+00\n",
      " -2.8968823e+00  3.5486808e+00 -4.5185370e+00 -1.0027893e+00\n",
      "  3.4588470e+00  2.7380691e+00 -1.9778770e+00 -1.4417942e+00\n",
      "  6.0619693e+00 -4.6249685e+00  3.6030846e+00 -2.9516070e+00\n",
      " -1.7064999e+00 -2.7355421e+00 -7.4942384e+00  5.9755039e-01\n",
      " -7.4981408e+00 -2.6266978e+00 -4.2205534e+00 -9.0187826e+00\n",
      "  2.6558194e+00 -6.1796212e-01  3.3711021e+00  2.3734982e+00\n",
      "  1.9242096e+00  1.3573881e+00  1.6117584e+00 -1.5332692e+00\n",
      " -2.0194201e+00 -3.0519612e+00 -9.7121143e+00  2.2278810e+00\n",
      "  1.9942153e+00  1.2383505e+00 -7.9160767e+00  6.0964060e+00\n",
      " -9.0251045e+00  1.3861249e-01 -4.0873537e+00 -1.0324515e+00\n",
      " -1.5921550e+00 -1.2171792e+01 -1.1136297e+01 -4.5572785e-01\n",
      " -3.6964931e+00  6.1161094e+00  5.4294286e+00 -2.8950701e+00\n",
      " -1.1242253e+00 -2.3319862e+00  2.8522251e+00  4.2013268e+00\n",
      "  3.2060719e+00  1.5619562e+00 -7.8914638e+00  3.5313478e-01]\n",
      "(128,)\n"
     ]
    }
   ],
   "source": [
    "# Run the sensor processing inside the BCDemonstration\n",
    "task = exp[\"proprioception_testing_task\"]\n",
    "demos_dir = pathlib.Path(Config()[\"demos\"][\"directory\"])\n",
    "task_dir = pathlib.Path(demos_dir, \"demos\", task)\n",
    "with torch.no_grad():\n",
    "    for demo_dir in task_dir.iterdir():\n",
    "        if not demo_dir.is_dir():\n",
    "            pass\n",
    "        bcd = BCDemonstration(demo_dir, sensorprocessor=sp)\n",
    "        for i in range(bcd.trim_from, bcd.trim_to):\n",
    "            #sensor_readings, _ = bcd.get_image(i)\n",
    "            #sensor_readings = sensor_readings.to(device)\n",
    "            #z = sp.process(sensor_readings)\n",
    "            z = bcd.get_z(i)\n",
    "            break\n",
    "\n",
    "print(z)\n",
    "print(z.shape)"
   ]
  }
 ],
 "metadata": {
  "kernelspec": {
   "display_name": "Robot-venv",
   "language": "python",
   "name": "python3"
  },
  "language_info": {
   "codemirror_mode": {
    "name": "ipython",
    "version": 3
   },
   "file_extension": ".py",
   "mimetype": "text/x-python",
   "name": "python",
   "nbconvert_exporter": "python",
   "pygments_lexer": "ipython3",
   "version": "3.11.4"
  }
 },
 "nbformat": 4,
 "nbformat_minor": 2
}
