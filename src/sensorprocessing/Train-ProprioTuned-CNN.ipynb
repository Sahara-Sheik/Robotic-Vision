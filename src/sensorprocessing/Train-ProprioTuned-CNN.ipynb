{
 "cells": [
  {
   "cell_type": "markdown",
   "metadata": {},
   "source": [
    "# Train a proprioception-tuned CNN\n",
    "\n",
    "We create a sensor processing model using CNN-based visual encoding finetuned with proprioception.\n",
    "\n",
    "We create an encoding for the robot starting from a pretrained CNN model. As the feature vector of this is still large (eg 512 * 7 * 7), we reduce this to the encoding with an MLP. \n",
    "\n",
    "We finetune the encoding with information from proprioception.  \n",
    "\n",
    "The sensor processing object associated with the network trained like this is in sensorprocessing/sp_propriotuned_cnn.py"
   ]
  },
  {
   "cell_type": "code",
   "execution_count": 1,
   "metadata": {},
   "outputs": [
    {
     "name": "stdout",
     "output_type": "stream",
     "text": [
      "Using device: cuda\n"
     ]
    }
   ],
   "source": [
    "import sys\n",
    "sys.path.append(\"..\")\n",
    "from settings import Config\n",
    "\n",
    "import pathlib\n",
    "import torch\n",
    "import torch.nn as nn\n",
    "from torchvision import models, transforms\n",
    "import torch.optim as optim\n",
    "from torch.utils.data import DataLoader, TensorDataset\n",
    "\n",
    "from behavior_cloning.demo_to_trainingdata import BCDemonstration\n",
    "from sensorprocessing.sp_propriotuned_cnn import VGG19ProprioTunedRegression, ResNetProprioTunedRegression\n",
    "from robot.al5d_position_controller import RobotPosition\n",
    "\n",
    "device = torch.device(\"cuda\" if torch.cuda.is_available() else \"cpu\")\n",
    "print(f\"Using device: {device}\")"
   ]
  },
  {
   "cell_type": "code",
   "execution_count": 2,
   "metadata": {},
   "outputs": [
    {
     "name": "stdout",
     "output_type": "stream",
     "text": [
      "Loading pointer config file: C:\\Users\\lboloni\\.config\\BerryPicker\\mainsettings.yaml\n",
      "Loading machine-specific config file: G:\\My Drive\\LotziStudy\\Code\\PackageTracking\\BerryPicker\\settings\\settings-LotziYoga.yaml\n",
      "No system dependent experiment file\n",
      " G:\\My Drive\\LotziStudy\\Code\\PackageTracking\\BerryPicker\\settings\\experiment-config\\LotziYoga\\sensorprocessing_propriotuned_cnn\\resnet50_256_sysdep.yaml,\n",
      " that is ok, proceeding.\n",
      "Configuration for experiment: sensorprocessing_propriotuned_cnn/resnet50_256 successfully loaded\n"
     ]
    }
   ],
   "source": [
    "# The experiment/run we are going to run: the specified model will be created\n",
    "experiment = \"sensorprocessing_propriotuned_cnn\"\n",
    "# run = \"vgg19_128\"\n",
    "# run = \"resnet50_128\"\n",
    "# run = \"vgg19_256\"\n",
    "run = \"resnet50_256\"\n",
    "\n",
    "exp = Config().get_experiment(experiment, run)"
   ]
  },
  {
   "cell_type": "markdown",
   "metadata": {},
   "source": [
    "### Create regression training data (image to proprioception)\n",
    "The training data (X, Y) is all the pictures from a demonstration with the corresponding proprioception data. "
   ]
  },
  {
   "cell_type": "code",
   "execution_count": 3,
   "metadata": {},
   "outputs": [],
   "source": [
    "def load_images_as_proprioception_training(task, proprioception_input_file, proprioception_target_file):\n",
    "    \"\"\"Loads all the images of a task, and processes it as two tensors as input and target data for proprioception training. \n",
    "    Caches the processed results into the input and target file pointed in the config. Remove those files to recalculate\n",
    "    \"\"\"\n",
    "    retval = {}\n",
    "    if proprioception_input_file.exists():\n",
    "        retval[\"inputs\"] = torch.load(proprioception_input_file, weights_only=True)\n",
    "        retval[\"targets\"] = torch.load(proprioception_target_file, weights_only=True)\n",
    "    else:\n",
    "        demos_dir = pathlib.Path(Config()[\"demos\"][\"directory\"])\n",
    "        task_dir = pathlib.Path(demos_dir, \"demos\", task)\n",
    "        \n",
    "        inputlist = []\n",
    "        targetlist = []\n",
    "\n",
    "        for demo_dir in task_dir.iterdir():\n",
    "            if not demo_dir.is_dir():\n",
    "                pass\n",
    "            bcd = BCDemonstration(demo_dir, sensorprocessor=None)\n",
    "            for i in range(bcd.trim_from, bcd.trim_to):\n",
    "                sensor_readings, _ = bcd.get_image(i)\n",
    "                inputlist.append(sensor_readings[0])\n",
    "                a = bcd.get_a(i)\n",
    "                rp = RobotPosition.from_vector(a)\n",
    "                anorm = rp.to_normalized_vector()        \n",
    "                targetlist.append(torch.from_numpy(anorm))\n",
    "\n",
    "        retval[\"inputs\"] = torch.stack(inputlist)\n",
    "        retval[\"targets\"] = torch.stack(targetlist)\n",
    "        torch.save(retval[\"inputs\"], proprioception_input_file)\n",
    "        torch.save(retval[\"targets\"], proprioception_target_file)\n",
    "\n",
    "    # Separate the training and validation data. \n",
    "    # We will be shuffling the demonstrations \n",
    "    length = retval[\"inputs\"].size(0)\n",
    "    rows = torch.randperm(length) \n",
    "    shuffled_inputs = retval[\"inputs\"][rows]\n",
    "    shuffled_targets = retval[\"targets\"][rows]\n",
    "\n",
    "    training_size = int( length * 0.67 )\n",
    "    retval[\"inputs_training\"] = shuffled_inputs[1:training_size]\n",
    "    retval[\"targets_training\"] = shuffled_targets[1:training_size]\n",
    "\n",
    "    retval[\"inputs_validation\"] = shuffled_inputs[training_size:]\n",
    "    retval[\"targets_validation\"] = shuffled_targets[training_size:]\n",
    "\n",
    "    return retval"
   ]
  },
  {
   "cell_type": "code",
   "execution_count": 4,
   "metadata": {},
   "outputs": [
    {
     "name": "stdout",
     "output_type": "stream",
     "text": [
      "Cameras found: ['dev2']\n",
      "There are 605 steps in this demonstration\n",
      "This demonstration was recorded by the following cameras: ['dev2']\n",
      "Cameras found: ['dev2']\n",
      "There are 388 steps in this demonstration\n",
      "This demonstration was recorded by the following cameras: ['dev2']\n"
     ]
    }
   ],
   "source": [
    "task = exp[\"proprioception_training_task\"]\n",
    "proprioception_input_file = pathlib.Path(\n",
    "    exp[\"data_dir\"], exp[\"proprioception_input_file\"])\n",
    "proprioception_target_file = pathlib.Path(\n",
    "    exp[\"data_dir\"], exp[\"proprioception_target_file\"])\n",
    "\n",
    "tr = load_images_as_proprioception_training(\n",
    "    task, proprioception_input_file, proprioception_target_file)\n",
    "inputs_training = tr[\"inputs_training\"]\n",
    "targets_training = tr[\"targets_training\"]\n",
    "inputs_validation = tr[\"inputs_validation\"]\n",
    "targets_validation = tr[\"targets_validation\"]"
   ]
  },
  {
   "cell_type": "markdown",
   "metadata": {},
   "source": [
    "### Create a model that performs proprioception regression"
   ]
  },
  {
   "cell_type": "code",
   "execution_count": 5,
   "metadata": {},
   "outputs": [
    {
     "name": "stderr",
     "output_type": "stream",
     "text": [
      "c:\\Users\\lboloni\\Documents\\Code\\_VirtualEnvironments\\Robot\\Robot-venv\\Lib\\site-packages\\torchvision\\models\\_utils.py:208: UserWarning: The parameter 'pretrained' is deprecated since 0.13 and may be removed in the future, please use 'weights' instead.\n",
      "  warnings.warn(\n",
      "c:\\Users\\lboloni\\Documents\\Code\\_VirtualEnvironments\\Robot\\Robot-venv\\Lib\\site-packages\\torchvision\\models\\_utils.py:223: UserWarning: Arguments other than a weight enum or `None` for 'weights' are deprecated since 0.13 and may be removed in the future. The current behavior is equivalent to passing `weights=ResNet50_Weights.IMAGENET1K_V1`. You can also use `weights=ResNet50_Weights.DEFAULT` to get the most up-to-date weights.\n",
      "  warnings.warn(msg)\n"
     ]
    }
   ],
   "source": [
    "\n",
    "if exp['model'] == 'VGG19ProprioTunedRegression':\n",
    "    model = VGG19ProprioTunedRegression(exp, device)\n",
    "elif exp['model'] == 'ResNetProprioTunedRegression':\n",
    "    model = ResNetProprioTunedRegression(exp, device)\n",
    "else:\n",
    "    raise Exception(f\"Unknown model {exp['model']}\")\n",
    "\n",
    "if exp['loss'] == 'MSELoss':        \n",
    "    criterion = nn.MSELoss()\n",
    "elif exp['loss'] == 'L1Loss':\n",
    "    criterion = nn.L1Loss()\n",
    "\n",
    "optimizer = optim.Adam(model.parameters(), lr=exp['learning_rate'])"
   ]
  },
  {
   "cell_type": "code",
   "execution_count": 6,
   "metadata": {},
   "outputs": [],
   "source": [
    "# Create DataLoaders for batching\n",
    "batch_size = exp['batch_size']\n",
    "train_dataset = TensorDataset(inputs_training, targets_training)\n",
    "test_dataset = TensorDataset(inputs_validation, targets_validation)\n",
    "\n",
    "train_loader = DataLoader(train_dataset, batch_size=batch_size, shuffle=True)\n",
    "test_loader = DataLoader(test_dataset, batch_size=batch_size, shuffle=False)"
   ]
  },
  {
   "cell_type": "code",
   "execution_count": 7,
   "metadata": {},
   "outputs": [],
   "source": [
    "def train_and_save_proprioception_model(model, criterion, optimizer, modelfile, device=\"cpu\", epochs=20):\n",
    "    \"\"\"Trains and saves the proprioception model\n",
    "    FIXME: must have parameters etc to investigate alternative models. \n",
    "    \"\"\"\n",
    "\n",
    "    model = model.to(device)\n",
    "    criterion = criterion.to(device)\n",
    "    # Training loop\n",
    "    num_epochs = epochs\n",
    "    for epoch in range(num_epochs):\n",
    "        model.train()\n",
    "        total_loss = 0\n",
    "        for batch_X, batch_y in train_loader:\n",
    "            batch_X = batch_X.to(device)\n",
    "            batch_y = batch_y.to(device)\n",
    "            # Forward pass\n",
    "            # print(\"batchX immediately after for loobatch_X.device\" )\n",
    "            # predictions = model(batch_X)\n",
    "            predictions = model.forward(batch_X)\n",
    "            #print(batch_y.device)\n",
    "            # I don't understand this  \n",
    "            # print(batch_X.device)\n",
    "            loss = criterion(predictions, batch_y)\n",
    "            \n",
    "            # Backward pass and optimization\n",
    "            optimizer.zero_grad()\n",
    "            loss.backward()\n",
    "            optimizer.step()\n",
    "            \n",
    "            total_loss += loss.item()\n",
    "        \n",
    "        if (epoch + 1) % 1 == 0:\n",
    "            print(f'Epoch [{epoch+1}/{num_epochs}], Loss: {total_loss / len(train_loader):.4f}')\n",
    "\n",
    "    # Evaluate the model\n",
    "    model.eval()\n",
    "    test_loss = 0\n",
    "    with torch.no_grad():\n",
    "        for batch_X, batch_y in test_loader:\n",
    "            batch_X = batch_X.to(device)\n",
    "            batch_y = batch_y.to(device)\n",
    "            predictions = model(batch_X)\n",
    "            loss = criterion(predictions, batch_y)\n",
    "            test_loss += loss.item()\n",
    "\n",
    "    test_loss /= len(test_loader)\n",
    "    print(f'Test Loss: {test_loss:.4f}')\n",
    "    torch.save(model.state_dict(), modelfile)"
   ]
  },
  {
   "cell_type": "code",
   "execution_count": 8,
   "metadata": {},
   "outputs": [
    {
     "name": "stdout",
     "output_type": "stream",
     "text": [
      "Epoch [1/100], Loss: 0.1066\n",
      "Epoch [2/100], Loss: 0.0554\n",
      "Epoch [3/100], Loss: 0.0469\n",
      "Epoch [4/100], Loss: 0.0390\n",
      "Epoch [5/100], Loss: 0.0321\n",
      "Epoch [6/100], Loss: 0.0302\n",
      "Epoch [7/100], Loss: 0.0294\n",
      "Epoch [8/100], Loss: 0.0323\n",
      "Epoch [9/100], Loss: 0.0263\n",
      "Epoch [10/100], Loss: 0.0271\n",
      "Epoch [11/100], Loss: 0.0247\n",
      "Epoch [12/100], Loss: 0.0277\n",
      "Epoch [13/100], Loss: 0.0281\n",
      "Epoch [14/100], Loss: 0.0238\n",
      "Epoch [15/100], Loss: 0.0218\n",
      "Epoch [16/100], Loss: 0.0213\n",
      "Epoch [17/100], Loss: 0.0208\n",
      "Epoch [18/100], Loss: 0.0201\n",
      "Epoch [19/100], Loss: 0.0208\n",
      "Epoch [20/100], Loss: 0.0215\n",
      "Epoch [21/100], Loss: 0.0223\n",
      "Epoch [22/100], Loss: 0.0195\n",
      "Epoch [23/100], Loss: 0.0180\n",
      "Epoch [24/100], Loss: 0.0225\n",
      "Epoch [25/100], Loss: 0.0207\n",
      "Epoch [26/100], Loss: 0.0206\n",
      "Epoch [27/100], Loss: 0.0168\n",
      "Epoch [28/100], Loss: 0.0155\n",
      "Epoch [29/100], Loss: 0.0162\n",
      "Epoch [30/100], Loss: 0.0166\n",
      "Epoch [31/100], Loss: 0.0159\n",
      "Epoch [32/100], Loss: 0.0153\n",
      "Epoch [33/100], Loss: 0.0139\n",
      "Epoch [34/100], Loss: 0.0149\n",
      "Epoch [35/100], Loss: 0.0156\n",
      "Epoch [36/100], Loss: 0.0143\n",
      "Epoch [37/100], Loss: 0.0139\n",
      "Epoch [38/100], Loss: 0.0112\n",
      "Epoch [39/100], Loss: 0.0107\n",
      "Epoch [40/100], Loss: 0.0102\n",
      "Epoch [41/100], Loss: 0.0123\n",
      "Epoch [42/100], Loss: 0.0097\n",
      "Epoch [43/100], Loss: 0.0094\n",
      "Epoch [44/100], Loss: 0.0111\n",
      "Epoch [45/100], Loss: 0.0099\n",
      "Epoch [46/100], Loss: 0.0101\n",
      "Epoch [47/100], Loss: 0.0100\n",
      "Epoch [48/100], Loss: 0.0093\n",
      "Epoch [49/100], Loss: 0.0094\n",
      "Epoch [50/100], Loss: 0.0075\n",
      "Epoch [51/100], Loss: 0.0074\n",
      "Epoch [52/100], Loss: 0.0096\n",
      "Epoch [53/100], Loss: 0.0087\n",
      "Epoch [54/100], Loss: 0.0086\n",
      "Epoch [55/100], Loss: 0.0104\n",
      "Epoch [56/100], Loss: 0.0100\n",
      "Epoch [57/100], Loss: 0.0086\n",
      "Epoch [58/100], Loss: 0.0078\n",
      "Epoch [59/100], Loss: 0.0072\n",
      "Epoch [60/100], Loss: 0.0088\n",
      "Epoch [61/100], Loss: 0.0075\n",
      "Epoch [62/100], Loss: 0.0077\n",
      "Epoch [63/100], Loss: 0.0056\n",
      "Epoch [64/100], Loss: 0.0056\n",
      "Epoch [65/100], Loss: 0.0057\n",
      "Epoch [66/100], Loss: 0.0067\n",
      "Epoch [67/100], Loss: 0.0061\n",
      "Epoch [68/100], Loss: 0.0083\n",
      "Epoch [69/100], Loss: 0.0074\n",
      "Epoch [70/100], Loss: 0.0055\n",
      "Epoch [71/100], Loss: 0.0043\n",
      "Epoch [72/100], Loss: 0.0049\n",
      "Epoch [73/100], Loss: 0.0043\n",
      "Epoch [74/100], Loss: 0.0043\n",
      "Epoch [75/100], Loss: 0.0043\n",
      "Epoch [76/100], Loss: 0.0063\n",
      "Epoch [77/100], Loss: 0.0041\n",
      "Epoch [78/100], Loss: 0.0041\n",
      "Epoch [79/100], Loss: 0.0045\n",
      "Epoch [80/100], Loss: 0.0035\n",
      "Epoch [81/100], Loss: 0.0045\n",
      "Epoch [82/100], Loss: 0.0043\n",
      "Epoch [83/100], Loss: 0.0040\n",
      "Epoch [84/100], Loss: 0.0047\n",
      "Epoch [85/100], Loss: 0.0057\n",
      "Epoch [86/100], Loss: 0.0049\n",
      "Epoch [87/100], Loss: 0.0042\n",
      "Epoch [88/100], Loss: 0.0063\n",
      "Epoch [89/100], Loss: 0.0048\n",
      "Epoch [90/100], Loss: 0.0042\n",
      "Epoch [91/100], Loss: 0.0033\n",
      "Epoch [92/100], Loss: 0.0036\n",
      "Epoch [93/100], Loss: 0.0040\n",
      "Epoch [94/100], Loss: 0.0040\n",
      "Epoch [95/100], Loss: 0.0051\n",
      "Epoch [96/100], Loss: 0.0032\n",
      "Epoch [97/100], Loss: 0.0030\n",
      "Epoch [98/100], Loss: 0.0038\n",
      "Epoch [99/100], Loss: 0.0035\n",
      "Epoch [100/100], Loss: 0.0029\n",
      "Test Loss: 0.0065\n"
     ]
    }
   ],
   "source": [
    "modelfile = pathlib.Path(\n",
    "    exp[\"data_dir\"], exp[\"proprioception_mlp_model_file\"])\n",
    "epochs = exp[\"epochs\"]\n",
    "if modelfile.exists():\n",
    "    model.load_state_dict(torch.load(modelfile))\n",
    "else:\n",
    "    train_and_save_proprioception_model(model, criterion, optimizer, modelfile, device=device, epochs=epochs)"
   ]
  },
  {
   "cell_type": "code",
   "execution_count": 9,
   "metadata": {},
   "outputs": [],
   "source": [
    "# print(model.resnet.fc.in_features)"
   ]
  },
  {
   "cell_type": "code",
   "execution_count": null,
   "metadata": {},
   "outputs": [],
   "source": []
  }
 ],
 "metadata": {
  "kernelspec": {
   "display_name": "Robot-venv",
   "language": "python",
   "name": "python3"
  },
  "language_info": {
   "codemirror_mode": {
    "name": "ipython",
    "version": 3
   },
   "file_extension": ".py",
   "mimetype": "text/x-python",
   "name": "python",
   "nbconvert_exporter": "python",
   "pygments_lexer": "ipython3",
   "version": "3.11.4"
  }
 },
 "nbformat": 4,
 "nbformat_minor": 2
}
