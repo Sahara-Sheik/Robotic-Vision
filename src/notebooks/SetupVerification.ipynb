{
 "cells": [
  {
   "cell_type": "markdown",
   "metadata": {},
   "source": [
    "# Setup verification\n",
    "Brief code snippets to check that the various components of the robot setup are working correctly, are connected and so on. "
   ]
  },
  {
   "cell_type": "code",
   "execution_count": 3,
   "metadata": {},
   "outputs": [
    {
     "name": "stdout",
     "output_type": "stream",
     "text": [
      "The name of the current machine is:tredy2\n"
     ]
    }
   ],
   "source": [
    "import sys\n",
    "sys.path.append(\"..\")\n",
    "import settings"
   ]
  },
  {
   "cell_type": "markdown",
   "metadata": {},
   "source": [
    "## AL5D robot\n",
    "\n",
    "### In Linux\n",
    "\n",
    "* The power source should be plugged in and robot turned on\n",
    "* This should create a serial device: /dev/ttyUSB0 (or sometimes USB1)\n",
    "\n",
    "```sudo chown <your-account> /dev/ttyUSB0``` \n",
    "\n",
    "### In Windows\n",
    "\n",
    "\n",
    "### In the end:\n",
    "\n",
    "If everything is successful, this should wake up the robot, perform a short move, than turn it out"
   ]
  },
  {
   "cell_type": "code",
   "execution_count": 5,
   "metadata": {},
   "outputs": [],
   "source": [
    "from robot.al5d_position_controller import PositionController\n",
    "# Linux\n",
    "# rob = PositionController(\"/dev/ttyUSB0\") # USB1 or USB0 \n",
    "rob = PositionController(settings.ROBOT_USB_PORT) # USB1 or USB0 \n",
    "\n",
    "# Windows (can be other COM#)\n",
    "# rob = AL5D_PositionController(\"COM4\")\n"
   ]
  },
  {
   "cell_type": "code",
   "execution_count": 6,
   "metadata": {},
   "outputs": [],
   "source": [
    "pos = rob.get_position()\n",
    "pos.height = pos.height + 1\n",
    "rob.move(pos)"
   ]
  },
  {
   "cell_type": "markdown",
   "metadata": {},
   "source": [
    "Shut down the robot: can be also used to terminate if other code dies."
   ]
  },
  {
   "cell_type": "code",
   "execution_count": 7,
   "metadata": {},
   "outputs": [],
   "source": [
    "rob.stop_robot()"
   ]
  },
  {
   "cell_type": "markdown",
   "metadata": {},
   "source": [
    "# The camera\n",
    "\n",
    "```\n",
    "pip install opencv-python\n",
    "pip install opencv-contrib-python\n",
    "```\n",
    "\n",
    "Capture device 0 is usually the webcam, the other ones seem to be 2... \n",
    "\n",
    "On Linux, one can check the devices as \n",
    "\n",
    "```\n",
    "/dev/video*\n",
    "```"
   ]
  },
  {
   "cell_type": "code",
   "execution_count": 8,
   "metadata": {},
   "outputs": [],
   "source": [
    "import numpy as np\n",
    "import cv2"
   ]
  },
  {
   "cell_type": "markdown",
   "metadata": {},
   "source": [
    "## Testing one single camera\n",
    "\n",
    "Specify the camera as camera_number. Values should be one of those that show up in Linux as /dev/video*. \n",
    "\n",
    "If the camera with the camera_number works well, it will show up in a window. Exit the window by pressing \"q\" while the window being the currently active. "
   ]
  },
  {
   "cell_type": "code",
   "execution_count": 9,
   "metadata": {},
   "outputs": [],
   "source": [
    "camera_number = 2\n",
    "cap = cv2.VideoCapture(camera_number)\n",
    "while(True):\n",
    "    ret, frame = cap.read()\n",
    "    if not ret:\n",
    "        print(\"Capture frame returned False, exiting the loop\")\n",
    "        break\n",
    "    # imgresized = cv2.resize(frame, (640, 480))\n",
    "    imgresized = frame\n",
    "    cv2.imshow('Press q to exit', frame)\n",
    "    ret = cv2.waitKey(1)\n",
    "    if ret != -1:\n",
    "        ret2 = ret & 0xFF\n",
    "        if ret2 == ord('q'):\n",
    "            break\n",
    "# When everything done, release the capture\n",
    "cap.release()\n",
    "cv2.destroyAllWindows()"
   ]
  },
  {
   "cell_type": "markdown",
   "metadata": {},
   "source": [
    "## Testing multiple cameras\n",
    "\n",
    "In all the setups tried until now (May 2024), simultaneously reading from more than 2 camera slows things down to be unusable. Apparently, some USB related problem. "
   ]
  },
  {
   "cell_type": "code",
   "execution_count": 12,
   "metadata": {},
   "outputs": [
    {
     "name": "stdout",
     "output_type": "stream",
     "text": [
      "cap0 works\n",
      "cap2 works\n",
      "Exiting the acquisition loop as a result of a q key\n"
     ]
    }
   ],
   "source": [
    "DIM = (256, 256)\n",
    "\n",
    "\n",
    "# create the capture devices\n",
    "capture_devs = {}\n",
    "# camera0 - webcam on the computer\n",
    "# camera2 - right mounted\n",
    "# camera3 - the free floating one\n",
    "# camera4 - the center mounted one \n",
    "# cameras = [0, 2, 3, 4]\n",
    "cameras = [0, 2]\n",
    "# cameras = [2]\n",
    "for i in cameras:\n",
    "    cap = cv2.VideoCapture(i) \n",
    "    if cap is None or not cap.isOpened():\n",
    "        print(f\"Warning: unable to open video source: {i}\")\n",
    "    else:\n",
    "        capture_devs[f\"dev{i}\"] = cap\n",
    "        print(f\"cap{i} works\")\n",
    "\n",
    "while True:\n",
    "    images = []\n",
    "    for index in capture_devs.keys():\n",
    "        cap = capture_devs[index]\n",
    "        ret, frame = cap.read()\n",
    "        if ret:\n",
    "            # FIXME: probably we want to crop as well??? \n",
    "            imgresized = cv2.resize(frame, DIM)\n",
    "            images.append(imgresized)\n",
    "    concatenated_image = cv2.hconcat(images)\n",
    "    cv2.imshow('Press q to exit these', concatenated_image)\n",
    "    if cv2.waitKey(1) & 0xFF == ord('q'):\n",
    "        print(\"Exiting the acquisition loop as a result of a q key\")\n",
    "        break\n",
    "\n",
    "# When everything done, release the capture\n",
    "cap.release()\n",
    "cv2.destroyAllWindows()"
   ]
  },
  {
   "cell_type": "markdown",
   "metadata": {},
   "source": [
    "# The game controller\n",
    "* Making sure that the game controller is working\n",
    "* The version which is working with the Voyee 360 is the approxeng.input 2.5\n",
    "* There was some kind of version interaction problem with version 2.6, it is unclear whether this is specific to my combinations in the hf workspace\n",
    "\n",
    "* https://approxeng.github.io/approxeng.input/commandline.html \n",
    "\n",
    "```\n",
    "pip install approxeng.input-2.5\n",
    "```\n",
    "\n",
    "Also note the approxeng.input-2.5 only works with Python 3.10, not higher. "
   ]
  },
  {
   "cell_type": "markdown",
   "metadata": {},
   "source": [
    "# These are the buttons that we can read out\n",
    "['square']\n",
    "['triangle']\n",
    "['circle']\n",
    "['cross']\n",
    "['l1']\n",
    "['r1']\n",
    "['ls']\n",
    "['rs']\n",
    "['ls']\n",
    "['rs']\n",
    "['dleft']\n",
    "['dright']\n",
    "['dup']\n",
    "['ddown']"
   ]
  },
  {
   "cell_type": "code",
   "execution_count": 10,
   "metadata": {},
   "outputs": [
    {
     "name": "stdout",
     "output_type": "stream",
     "text": [
      "Found a joystick and connected. Press select / back to exit loop\n",
      "{'axes': ['l', 'lt', 'lx', 'ly', 'r', 'rt', 'rx', 'ry'], 'buttons': ['circle', 'cross', 'ddown', 'dleft', 'dright', 'dup', 'home', 'l1', 'ls', 'r1', 'rs', 'select', 'square', 'start', 'triangle']}\n",
      "['l1']\n",
      "SteamController, axes=['Left Horizontal=0', 'Left Vertical=0', 'Right Horizontal=0', 'Right Vertical=0', 'Left Trigger=0', 'Right Trigger=0', 'D-pad Horizontal=0', 'D-pad Vertical=0'], buttons=<approxeng.input.Buttons object at 0x75a13ba0bbe0>\n",
      "None\n",
      "['l1']\n",
      "SteamController, axes=['Left Horizontal=0', 'Left Vertical=0', 'Right Horizontal=0', 'Right Vertical=0', 'Left Trigger=0', 'Right Trigger=0', 'D-pad Horizontal=0', 'D-pad Vertical=0'], buttons=<approxeng.input.Buttons object at 0x75a13ba0bbe0>\n",
      "None\n",
      "['l1']\n",
      "SteamController, axes=['Left Horizontal=0', 'Left Vertical=0', 'Right Horizontal=0', 'Right Vertical=0', 'Left Trigger=0', 'Right Trigger=0', 'D-pad Horizontal=0', 'D-pad Vertical=0'], buttons=<approxeng.input.Buttons object at 0x75a13ba0bbe0>\n",
      "None\n",
      "['l1']\n",
      "SteamController, axes=['Left Horizontal=0', 'Left Vertical=0', 'Right Horizontal=0', 'Right Vertical=0', 'Left Trigger=0', 'Right Trigger=0', 'D-pad Horizontal=0', 'D-pad Vertical=0'], buttons=<approxeng.input.Buttons object at 0x75a13ba0bbe0>\n",
      "None\n",
      "['start']\n",
      "SteamController, axes=['Left Horizontal=0', 'Left Vertical=0', 'Right Horizontal=0', 'Right Vertical=0', 'Left Trigger=0', 'Right Trigger=0', 'D-pad Horizontal=0', 'D-pad Vertical=0'], buttons=<approxeng.input.Buttons object at 0x75a13ba0bbe0>\n",
      "None\n",
      "['select']\n",
      "SteamController, axes=['Left Horizontal=0', 'Left Vertical=0', 'Right Horizontal=0', 'Right Vertical=0', 'Left Trigger=0', 'Right Trigger=0', 'D-pad Horizontal=0', 'D-pad Vertical=0'], buttons=<approxeng.input.Buttons object at 0x75a13ba0bbe0>\n",
      "None\n",
      "Bye\n"
     ]
    }
   ],
   "source": [
    "from approxeng.input.selectbinder import ControllerResource, ControllerNotFoundError\n",
    "import time\n",
    "\n",
    "try:\n",
    "    with ControllerResource() as joystick:\n",
    "        print('Found a joystick and connected. Press select / back to exit loop')\n",
    "        print(joystick.controls)\n",
    "        while joystick.connected:\n",
    "            presses = joystick.check_presses()\n",
    "            if len(presses.buttons) > 0:\n",
    "                print(presses.names)\n",
    "                print(joystick)\n",
    "                print(joystick[\"dleft\"]) # if held, returns the seconds since held\n",
    "            if \"select\" in presses.names:\n",
    "                break\n",
    "except ControllerNotFoundError as e:\n",
    "    print(\"Controller not found\")\n",
    "    print(e)\n",
    "print(\"Bye\")"
   ]
  },
  {
   "cell_type": "markdown",
   "metadata": {},
   "source": []
  }
 ],
 "metadata": {
  "kernelspec": {
   "display_name": "hf",
   "language": "python",
   "name": "python3"
  },
  "language_info": {
   "codemirror_mode": {
    "name": "ipython",
    "version": 3
   },
   "file_extension": ".py",
   "mimetype": "text/x-python",
   "name": "python",
   "nbconvert_exporter": "python",
   "pygments_lexer": "ipython3",
   "version": "3.10.12"
  }
 },
 "nbformat": 4,
 "nbformat_minor": 2
}
