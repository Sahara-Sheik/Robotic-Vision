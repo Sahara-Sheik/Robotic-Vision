{
 "cells": [
  {
   "cell_type": "markdown",
   "id": "three-detail",
   "metadata": {},
   "source": [
    "# LSTM controller\n",
    "\n",
    "An LSTM (or multilayer LSTM with skip connections) implementation of the robot controller\n",
    "\n",
    "The example I am using here is this:\n",
    "https://keras.io/examples/timeseries/timeseries_weather_forecasting/"
   ]
  },
  {
   "cell_type": "code",
   "execution_count": 2,
   "id": "thirty-facility",
   "metadata": {},
   "outputs": [],
   "source": [
    "import numpy as np\n",
    "import matplotlib.pyplot as plt\n",
    "import tensorflow as tf\n",
    "import pathlib\n",
    "from tensorflow.keras.models import Sequential\n",
    "from tensorflow.keras.layers import Dense, Input\n",
    "from tensorflow.keras.preprocessing.image import ImageDataGenerator\n",
    "from IPython import display\n",
    "import pickle\n",
    "import logging\n",
    "import platform\n",
    "# the finished version of this code\n",
    "from CVAE_VisualModule import CVAE_VisualModule\n",
    "from Datasets import Datasets\n",
    "import paths"
   ]
  },
  {
   "cell_type": "code",
   "execution_count": 3,
   "id": "diagnostic-strain",
   "metadata": {},
   "outputs": [],
   "source": [
    "class LSTM_Controller(tf.keras.Model):\n",
    "    \"\"\"An LSTM based implementation of the robot controller. It takes the input as a time series\"\"\"\n",
    "    \n",
    "    def __init__(self, config):\n",
    "        \"\"\"Create a controller, with the specified latent dimensions, control dimensions\n",
    "        FIXME: will also do the number of LSTM layers\"\"\"\n",
    "        super().__init__()\n",
    "                \n",
    "        self.latent_dim = config[\"latent_dim\"]\n",
    "        self.control_dim = config[\"control_dim\"]\n",
    "        \n",
    "        # units - dimensionality of the output space, I assume also the internal state\n",
    "        # should this be something else??\n",
    "        self.lstm_1 = keras.layers.LSTM(units=self.control_dim)\n",
    "        \n",
    "        \n",
    "        \n",
    "        # this is the creation of the system using the functional API of the Keras model\n",
    "        \n",
    "        ## BUT THIS IS not what we are supposed to be doing here\n",
    "        inputs = keras.layers.Input(shape=(inputs.shape[1], inputs.shape[2]))\n",
    "        lstm_out = keras.layers.LSTM(32)(inputs)\n",
    "        outputs = keras.layers.Dense(1)(lstm_out)\n",
    "\n",
    "        model = keras.Model(inputs=inputs, outputs=outputs)\n",
    "        model.compile(optimizer=keras.optimizers.Adam(learning_rate=learning_rate), loss=\"mse\")\n",
    "        model.summary()    \n",
    "        \n",
    "    def call(self, inputs):\n",
    "        \n",
    "    "
   ]
  },
  {
   "cell_type": "code",
   "execution_count": null,
   "id": "legal-cotton",
   "metadata": {},
   "outputs": [],
   "source": [
    "def generate_sequence(dim = 7, timesteps = 100):\n",
    "    \"\"\"Generates a sequence of dim timesteps of correlated data based on sine values etc.\"\"\"\n",
    "    scale = [0.5, 0.2, 0.1, 0.1, 0.05, 0.05, 0.02] # the \"length\" of the arm\n",
    "    omega = [0.01, 0.02, 0.03, 0.04, 0.05, 0.1, 0.1] # angular velocity radian / second\n",
    "    phase = [0.5, 0.5, -0.5, 0.5, 1, 1.25, -1.0] # initial phase radian\n",
    "    retval = []\n",
    "    for t in range(timesteps):\n",
    "        val = []\n",
    "        acc = 0\n",
    "        for j in range(dim):\n",
    "            acc += scale[j] * math.sin(phase[j] + omega[j]*t)\n",
    "            val.append(a)\n",
    "            \n",
    "            "
   ]
  }
 ],
 "metadata": {
  "kernelspec": {
   "display_name": "Python 3",
   "language": "python",
   "name": "python3"
  },
  "language_info": {
   "codemirror_mode": {
    "name": "ipython",
    "version": 3
   },
   "file_extension": ".py",
   "mimetype": "text/x-python",
   "name": "python",
   "nbconvert_exporter": "python",
   "pygments_lexer": "ipython3",
   "version": "3.8.10"
  }
 },
 "nbformat": 4,
 "nbformat_minor": 5
}
