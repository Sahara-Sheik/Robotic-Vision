{
 "cells": [
  {
   "cell_type": "markdown",
   "id": "correct-archive",
   "metadata": {},
   "source": [
    "# Datasets for robot imitation learning\n",
    "\n",
    "A class containing processing code for all the datasets needed for the robot imitation learning project, as well as debugging code. The class here is the development version, the active version is in Datasets.py"
   ]
  },
  {
   "cell_type": "code",
   "execution_count": 5,
   "id": "smooth-parker",
   "metadata": {},
   "outputs": [],
   "source": [
    "import numpy as np\n",
    "import matplotlib.pyplot as plt\n",
    "import tensorflow as tf\n",
    "import pathlib\n",
    "from tensorflow.keras.models import Sequential\n",
    "from tensorflow.keras.layers import Dense, Conv2D, Flatten, Dropout, MaxPooling2D, Softmax\n",
    "from tensorflow.keras.preprocessing.image import ImageDataGenerator\n",
    "from IPython import display\n",
    "import pickle\n",
    "import logging\n",
    "import platform\n",
    "import time\n",
    "%matplotlib inline\n",
    "\n",
    "from CVAE_VisualModule import CVAE_VisualModule\n",
    "import paths\n",
    "\n",
    "# logging.getLogger().setLevel(logging.DEBUG)"
   ]
  },
  {
   "cell_type": "code",
   "execution_count": 6,
   "id": "activated-engagement",
   "metadata": {},
   "outputs": [],
   "source": [
    "class Datasets:\n",
    "                \n",
    "    @staticmethod\n",
    "    def create_unsupervised_dataset(image_dir, batch = 16, img_height = 32, img_width = 32, do_resize = False):\n",
    "        \"\"\"Create a dataset for training an autoencoder (unsupervised data) from all the image files in the top level of\n",
    "        the image_dir directory.\n",
    "        The image files are loaded first in the memory, resized and put in an array. Then we create the dataset from those\n",
    "        tensor slices.\n",
    "        FIXME: this might be somewhat expensive, and one needs to keep it in the memory\n",
    "        \"\"\"\n",
    "        logging.info(f\"Started creating unsupervised dataset from {image_dir}\")\n",
    "        pic_list = []\n",
    "        count = 0\n",
    "        for image_filename in pathlib.Path(image_dir).iterdir():\n",
    "            # print(image_filename)\n",
    "            img = tf.io.read_file(str(image_filename))\n",
    "            img = tf.image.decode_jpeg(img, channels=3)\n",
    "            img = tf.image.convert_image_dtype(img, tf.float32)\n",
    "            if do_resize:\n",
    "                img = tf.image.resize(img, [img_width, img_height])\n",
    "            pic_list.append(img)\n",
    "            count = count + 1\n",
    "            if count % 5000 == 0:\n",
    "                logging.info(f\"At image: {count}\")\n",
    "\n",
    "        logging.info(\"About to create dataset from tensor slices\")\n",
    "        dataset = tf.data.Dataset.from_tensor_slices(pic_list)\n",
    "        logging.info(\"About to shuffle\")\n",
    "        dataset = dataset.shuffle(1000) # buffer size 1000\n",
    "        logging.info(\"About to batch\")\n",
    "        dataset = dataset.batch(batch, drop_remainder = True)\n",
    "        logging.info(f\"Done creating unsupervised dataset from {image_dir} with {count} images\")\n",
    "        return dataset\n",
    "\n",
    "    @staticmethod\n",
    "    def create_image_control_demonstration_dataset(control_path, pictures_dir, maxcnt=999):\n",
    "        \"\"\"Creates a demonstration dataset of (image, control) pairs. \n",
    "        The input is the format chosen by Rouhollah. For the given task, at the top of the directory there is a\n",
    "        text cvs file with the columns:\n",
    "\n",
    "        time,task,user,robot,reward,gripper,joint1,joint2,joint3,joint4,joint5,joint6\n",
    "\n",
    "        There is a picture directory where there is a collection of jpg pictures 0.jpg... \n",
    "\n",
    "        There is one-to-one mapping between the lines in the text file and the pictures. \n",
    "        The dataset generated is created as 2 columns \"image\" and \"control\". \n",
    "        The control is only the gripper and joint values. \n",
    "        \"\"\"\n",
    "        # Load the file and read it line by line\n",
    "        logging.info(f\"Started creating image control demonstration dataset from {control_path}\")\n",
    "        f = control_path.open()\n",
    "        controls = []\n",
    "        images = []\n",
    "        for line, text in enumerate(f):\n",
    "            if line < 3:\n",
    "                continue\n",
    "            count = line - 3\n",
    "            if count == maxcnt:\n",
    "                break\n",
    "            control = np.fromstring(text, sep=\",\")\n",
    "            # get the gripper value and the 6 joint values\n",
    "            control = control[4:11]\n",
    "            # print(control)\n",
    "            image_filename = pathlib.Path(pictures_dir, f\"{count}.jpg\")\n",
    "            if image_filename.exists():\n",
    "                img = tf.io.read_file(str(image_filename))\n",
    "                img = tf.image.decode_jpeg(img, channels=3)\n",
    "                img = tf.image.convert_image_dtype(img, tf.float32)\n",
    "                count = count + 1\n",
    "            else:\n",
    "                raise Exception(f\"Could not find image {image_filename}\")\n",
    "                # logging.warning(f\"Could not find image {image_filename} - skipping\")\n",
    "                continue\n",
    "            # create the pairs\n",
    "            controls.append(control)\n",
    "            images.append(img)\n",
    "            if line % 5000 == 0:\n",
    "                logging.info(f\"At line: {line}\")\n",
    "        df_tensor = {\"image\" : images, \"control\": controls}\n",
    "        dataset = tf.data.Dataset.from_tensor_slices(df_tensor)\n",
    "        logging.info(f\"Done creating image control demonstration dataset, total size {len(controls)}\")\n",
    "        return dataset"
   ]
  },
  {
   "cell_type": "markdown",
   "id": "reverse-armor",
   "metadata": {},
   "source": [
    "## Dataset inspection functions"
   ]
  },
  {
   "cell_type": "code",
   "execution_count": 7,
   "id": "collect-headset",
   "metadata": {},
   "outputs": [],
   "source": [
    "def inspect_demonstration_dataset(ds, from_image, to_image, wait_time = 1):\n",
    "    \"\"\"Inspect some points in a demonstration dataset by printing the image and the controls\"\"\"\n",
    "    for i, element in enumerate(ds):\n",
    "        if i < from_image:\n",
    "            continue\n",
    "        if i > to_image:\n",
    "            break\n",
    "        print(f\"Control and image at timestep {i}\")\n",
    "        print(list(element['control'].numpy()))\n",
    "        plt.imshow(element['image'], extent=[0, 32, 0, 32])\n",
    "        display.display(plt.gcf())\n",
    "        #display.clear_output(wait=False)\n",
    "        display.clear_output(wait=True)\n",
    "        time.sleep(wait_time)"
   ]
  },
  {
   "cell_type": "code",
   "execution_count": 8,
   "id": "dynamic-alert",
   "metadata": {},
   "outputs": [],
   "source": [
    "def inspect_unsupervised_dataset(ds, from_image, to_image, wait_time = 1):\n",
    "    \"\"\"Inspect some points in an unsupervised dataset. Here probably we to go by batch\"\"\"\n",
    "    count = 0\n",
    "    for element in ds:\n",
    "        batchsize = len(element)\n",
    "        for i in range(0, batchsize):\n",
    "            if count+i < from_image:\n",
    "                continue\n",
    "            if count+i > to_image:\n",
    "                break\n",
    "            print(f\"Image number timestep {i}\")\n",
    "            plt.imshow(element[i], extent=[0, 32, 0, 32])\n",
    "            display.display(plt.gcf())\n",
    "            #display.clear_output(wait=False)\n",
    "            display.clear_output(wait=True)\n",
    "            time.sleep(wait_time)\n",
    "        count = count + batchsize\n",
    "        if count > to_image:\n",
    "            break"
   ]
  },
  {
   "cell_type": "markdown",
   "id": "through-fisher",
   "metadata": {},
   "source": [
    "## Validate whether we are reading in the right way the unsupervised datasets"
   ]
  },
  {
   "cell_type": "code",
   "execution_count": 9,
   "id": "activated-photograph",
   "metadata": {},
   "outputs": [
    {
     "name": "stderr",
     "output_type": "stream",
     "text": [
      "INFO:root:Started creating unsupervised dataset from /home/lboloni/Documents/HackingWork/2021-05-01-RobotImitationLearning/data/images-32-task-3001-10090\n",
      "INFO:root:About to create dataset from tensor slices\n",
      "INFO:root:About to shuffle\n",
      "INFO:root:About to batch\n",
      "INFO:root:Done creating unsupervised dataset from /home/lboloni/Documents/HackingWork/2021-05-01-RobotImitationLearning/data/images-32-task-3001-10090 with 111 images\n"
     ]
    }
   ],
   "source": [
    "ds = Datasets.create_unsupervised_dataset(paths.unsupervised_dir)"
   ]
  },
  {
   "cell_type": "code",
   "execution_count": 62,
   "id": "tender-courtesy",
   "metadata": {},
   "outputs": [
    {
     "data": {
      "image/png": "[encoded data removed]",
      "text/plain": [
       "<Figure size 432x288 with 1 Axes>"
      ]
     },
     "metadata": {
      "needs_background": "light"
     },
     "output_type": "display_data"
    }
   ],
   "source": [
    "element = inspect_unsupervised_dataset(ds, 0, 10)"
   ]
  },
  {
   "cell_type": "code",
   "execution_count": 67,
   "id": "interesting-swiss",
   "metadata": {},
   "outputs": [
    {
     "name": "stderr",
     "output_type": "stream",
     "text": [
      "INFO:root:At image: 5000\n",
      "INFO:root:At image: 10000\n",
      "INFO:root:At image: 15000\n",
      "INFO:root:At image: 20000\n",
      "INFO:root:At image: 25000\n",
      "INFO:root:At image: 30000\n",
      "INFO:root:At image: 35000\n",
      "INFO:root:At image: 40000\n",
      "INFO:root:At image: 45000\n",
      "INFO:root:At image: 50000\n",
      "INFO:root:At image: 55000\n"
     ]
    }
   ],
   "source": [
    "pictures_dir = pathlib.Path(paths.demonstrations_rouhi_dir, \"task-3001\", \"10090\", \"camera-1\")\n",
    "ds = Datasets.create_unsupervised_dataset(pictures_dir)"
   ]
  },
  {
   "cell_type": "markdown",
   "id": "treated-history",
   "metadata": {},
   "source": [
    "## Validate whether we are reading in the right way the demonstrations"
   ]
  },
  {
   "cell_type": "code",
   "execution_count": 36,
   "id": "criminal-restriction",
   "metadata": {},
   "outputs": [
    {
     "name": "stderr",
     "output_type": "stream",
     "text": [
      "INFO:root:Started creating image control demonstration dataset from /home/lboloni/Documents/HackingWork/2021-05-01-RobotImitationLearning/data/demonstration-32-task-3001-10090/10090.txt\n",
      "INFO:root:Done creating image control demonstration dataset, total size 1000\n"
     ]
    }
   ],
   "source": [
    "# the small demonstration data that had been packaged with the source\n",
    "control_path = pathlib.Path(paths.demonstration_dir, \"10090.txt\")\n",
    "pictures_dir = pathlib.Path(paths.demonstration_dir, \"pictures\")\n",
    "\n",
    "ds = Datasets.create_image_control_demonstration_dataset(control_path, pictures_dir, maxcnt=-1)"
   ]
  },
  {
   "cell_type": "code",
   "execution_count": 37,
   "id": "metallic-rabbit",
   "metadata": {},
   "outputs": [
    {
     "data": {
      "image/png": "[encoded data removed]",
      "text/plain": [
       "<Figure size 432x288 with 1 Axes>"
      ]
     },
     "metadata": {
      "needs_background": "light"
     },
     "output_type": "display_data"
    }
   ],
   "source": [
    "inspect_demonstration_dataset(ds, 1, 5, 5)"
   ]
  },
  {
   "cell_type": "code",
   "execution_count": 32,
   "id": "loaded-isolation",
   "metadata": {},
   "outputs": [
    {
     "name": "stderr",
     "output_type": "stream",
     "text": [
      "INFO:root:Started creating image control demonstration dataset from /home/lboloni/Documents/HackingWork/2021-05-01-Rouhollah-Code-and-Data/trajectories/al5d-32/task-3001/10090.txt\n",
      "INFO:root:At line: 5000\n",
      "INFO:root:At line: 10000\n",
      "INFO:root:At line: 15000\n",
      "INFO:root:At line: 20000\n",
      "INFO:root:At line: 25000\n",
      "INFO:root:At line: 30000\n",
      "INFO:root:At line: 35000\n",
      "INFO:root:At line: 40000\n",
      "INFO:root:At line: 45000\n",
      "INFO:root:At line: 50000\n",
      "INFO:root:At line: 55000\n",
      "INFO:root:Done creating image control demonstration dataset, total size 55163\n"
     ]
    }
   ],
   "source": [
    "# an example demonstration data from Rouhollah's code \n",
    "control_path = pathlib.Path(paths.demonstrations_rouhi_dir, \"task-3001\", \"10090.txt\")\n",
    "pictures_dir = pathlib.Path(paths.demonstrations_rouhi_dir, \"task-3001\", \"10090\", \"camera-1\")\n",
    "ds = Datasets.create_image_control_demonstration_dataset(control_path, pictures_dir, maxcnt=-1)"
   ]
  },
  {
   "cell_type": "code",
   "execution_count": null,
   "id": "olive-peoples",
   "metadata": {},
   "outputs": [],
   "source": []
  }
 ],
 "metadata": {
  "kernelspec": {
   "display_name": "Python 3",
   "language": "python",
   "name": "python3"
  },
  "language_info": {
   "codemirror_mode": {
    "name": "ipython",
    "version": 3
   },
   "file_extension": ".py",
   "mimetype": "text/x-python",
   "name": "python",
   "nbconvert_exporter": "python",
   "pygments_lexer": "ipython3",
   "version": "3.8.5"
  }
 },
 "nbformat": 4,
 "nbformat_minor": 5
}
