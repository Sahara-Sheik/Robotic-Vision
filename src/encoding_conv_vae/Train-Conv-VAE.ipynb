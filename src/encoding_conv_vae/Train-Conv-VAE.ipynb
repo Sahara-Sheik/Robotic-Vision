{
 "cells": [
  {
   "cell_type": "markdown",
   "metadata": {},
   "source": [
    "# Train a Convolutional Variational Autoencoder \n",
    "\n",
    "Using the Conv-VAE package to train a convolutional variational autoencoder on training data collected from the robot. This is put into a notebook, as it needs to be run only once.\n",
    "\n",
    "The result of running this code is the creation of a \"final model\". \n",
    "\n",
    "The encoder portion of this model is the component that can be used for the encoder of the robot. "
   ]
  },
  {
   "cell_type": "code",
   "execution_count": 1,
   "metadata": {},
   "outputs": [
    {
     "name": "stdout",
     "output_type": "stream",
     "text": [
      "Loading pointer config file: /home/lboloni/.config/BerryPicker/mainsettings.yaml\n",
      "Loading machine-specific config file: /home/lboloni/Insync/lotzi.boloni@gmail.com/Google Drive/LotziStudy/Code/PackageTracking/BerryPicker/settings/settings-tredy2.yaml\n"
     ]
    }
   ],
   "source": [
    "import sys\n",
    "sys.path.append(\"..\")\n",
    "from settings import Config\n",
    "# adding the Julian-8897-Conv-VAE-PyTorch into the path\n",
    "sys.path.append(Config()[\"conv_vae\"][\"code_dir\"])\n",
    "# print(Config().values)\n",
    "\n",
    "# import argparse\n",
    "import numpy as np\n",
    "# import torch\n",
    "# import json\n",
    "\n",
    "# from torch.nn import functional as F\n",
    "# import torchvision.utils as vutils\n",
    "# from torchvision import transforms\n",
    "# from torch.autograd import Variable\n",
    "# import os\n",
    "import matplotlib.pyplot as plt\n",
    "# import argparse\n",
    "# import socket\n",
    "\n",
    "from mpl_toolkits.axes_grid1 import ImageGrid\n",
    "#Fixes PosixPath Error\n",
    "import pathlib\n",
    "\n",
    "# Oh, this hack was fixing something, but for me it is the other way around\n",
    "#temp = pathlib.PosixPath\n",
    "#pathlib.PosixPath = pathlib.WindowsPath\n",
    "\n",
    "from conv_vae import get_config, create_configured_vae_json, train, latest_model, latest_training_run"
   ]
  },
  {
   "cell_type": "markdown",
   "metadata": {},
   "source": [
    "## Training.\n",
    "\n",
    "The parameters of the training process are set up in the config file.\n",
    "\n",
    "This will give an error about the pandas, which is due to certain adressing mode in the Conv-Vae util.py, which probably will stop working in pandas 3.0"
   ]
  },
  {
   "cell_type": "code",
   "execution_count": 2,
   "metadata": {},
   "outputs": [
    {
     "name": "stdout",
     "output_type": "stream",
     "text": [
      "/home/lboloni/Documents/Hackingwork/_Checkouts/BerryPicker/BerryPicker/src/encoding_conv_vae/conv-vae-config-default.json\n",
      "{'name': 'VAE_Robot', 'n_gpu': 1, 'arch': {'type': 'VanillaVAE', 'args': {'in_channels': 3, 'latent_dims': 128, 'flow': False}}, 'data_loader': {'type': 'CelebDataLoader', 'args': {'data_dir': '/home/lboloni/Documents/Hackingwork/__Temporary/BerryPicker-training-data/vae-training-data', 'batch_size': 64, 'shuffle': True, 'validation_split': 0.2, 'num_workers': 2}}, 'optimizer': {'type': 'Adam', 'args': {'lr': 0.005, 'weight_decay': 0.0, 'amsgrad': True}}, 'loss': 'elbo_loss', 'metrics': [], 'lr_scheduler': {'type': 'StepLR', 'args': {'step_size': 50, 'gamma': 0.1}}, 'trainer': {'epochs': 3, 'save_dir': '/home/lboloni/Documents/Hackingwork/__Temporary/BerryPicker-models/Conv-VAE/', 'save_period': 1, 'verbosity': 2, 'monitor': 'min val_loss', 'early_stop': 10, 'tensorboard': True}}\n",
      "Warning: logging configuration file is not found in logger/logger_config.json.\n",
      "<parse_config.ConfigParser object at 0x7f94532c3fa0>\n"
     ]
    }
   ],
   "source": [
    "file = create_configured_vae_json()\n",
    "config = get_config(file)\n",
    "# pretty printing the dict behind the config\n",
    "# print(json.dumps(config.config, indent=4)) "
   ]
  },
  {
   "cell_type": "code",
   "execution_count": 3,
   "metadata": {},
   "outputs": [],
   "source": [
    "# this is one way to specify the epochs here, but probably not the best\n",
    "# idea: it should go to the yaml file. \n",
    "# 2024-10-16\n",
    "# I have experienced a mode collapse with the xray training data at 50\n",
    "config[\"trainer\"][\"epochs\"] = 10 # was 100\n",
    "config[\"trainer\"][\"save_period\"] = 5"
   ]
  },
  {
   "cell_type": "code",
   "execution_count": 4,
   "metadata": {},
   "outputs": [
    {
     "name": "stdout",
     "output_type": "stream",
     "text": [
      "Running the trainer from scratch for 10\n"
     ]
    },
    {
     "name": "stderr",
     "output_type": "stream",
     "text": [
      "WARNING:trainer:Warning: visualization (Tensorboard) is configured to use, but currently not installed on this machine. Please install TensorboardX with 'pip install tensorboardx', upgrade PyTorch to version >= 1.1 to use 'torch.utils.tensorboard' or turn off the option in the 'config.json' file.\n",
      "/home/lboloni/Documents/Hackingwork/_Checkouts/Julian-8897-Conv-VAE-PyTorch/Conv-VAE-PyTorch/utils/util.py:59: FutureWarning: ChainedAssignmentError: behaviour will change in pandas 3.0!\n",
      "You are setting values through chained assignment. Currently this works in certain cases, but when using Copy-on-Write (which will become the default behaviour in pandas 3.0) this will never work to update the original DataFrame or Series, because the intermediate object on which we are setting values will behave as a copy.\n",
      "A typical example is when you are setting values in a column of a DataFrame, like:\n",
      "\n",
      "df[\"col\"][row_indexer] = value\n",
      "\n",
      "Use `df.loc[row_indexer, \"col\"] = values` instead, to perform the assignment in a single step and ensure this keeps updating the original `df`.\n",
      "\n",
      "See the caveats in the documentation: https://pandas.pydata.org/pandas-docs/stable/user_guide/indexing.html#returning-a-view-versus-a-copy\n",
      "\n",
      "  self._data.total[key] += value * n\n",
      "/home/lboloni/Documents/Hackingwork/_Checkouts/Julian-8897-Conv-VAE-PyTorch/Conv-VAE-PyTorch/utils/util.py:60: FutureWarning: ChainedAssignmentError: behaviour will change in pandas 3.0!\n",
      "You are setting values through chained assignment. Currently this works in certain cases, but when using Copy-on-Write (which will become the default behaviour in pandas 3.0) this will never work to update the original DataFrame or Series, because the intermediate object on which we are setting values will behave as a copy.\n",
      "A typical example is when you are setting values in a column of a DataFrame, like:\n",
      "\n",
      "df[\"col\"][row_indexer] = value\n",
      "\n",
      "Use `df.loc[row_indexer, \"col\"] = values` instead, to perform the assignment in a single step and ensure this keeps updating the original `df`.\n",
      "\n",
      "See the caveats in the documentation: https://pandas.pydata.org/pandas-docs/stable/user_guide/indexing.html#returning-a-view-versus-a-copy\n",
      "\n",
      "  self._data.counts[key] += n\n",
      "/home/lboloni/Documents/Hackingwork/_Checkouts/Julian-8897-Conv-VAE-PyTorch/Conv-VAE-PyTorch/utils/util.py:61: FutureWarning: ChainedAssignmentError: behaviour will change in pandas 3.0!\n",
      "You are setting values through chained assignment. Currently this works in certain cases, but when using Copy-on-Write (which will become the default behaviour in pandas 3.0) this will never work to update the original DataFrame or Series, because the intermediate object on which we are setting values will behave as a copy.\n",
      "A typical example is when you are setting values in a column of a DataFrame, like:\n",
      "\n",
      "df[\"col\"][row_indexer] = value\n",
      "\n",
      "Use `df.loc[row_indexer, \"col\"] = values` instead, to perform the assignment in a single step and ensure this keeps updating the original `df`.\n",
      "\n",
      "See the caveats in the documentation: https://pandas.pydata.org/pandas-docs/stable/user_guide/indexing.html#returning-a-view-versus-a-copy\n",
      "\n",
      "  self._data.average[key] = self._data.total[key] / self._data.counts[key]\n",
      "DEBUG:trainer:Train Epoch: 1 [0/1572 (0%)] Loss: 424239.468750\n",
      "DEBUG:trainer:Train Epoch: 1 [512/1572 (33%)] Loss: 68619.101562\n",
      "DEBUG:trainer:Train Epoch: 1 [1024/1572 (65%)] Loss: 56427.300781\n",
      "DEBUG:trainer:Train Epoch: 1 [1536/1572 (98%)] Loss: 30955.884766\n",
      "INFO:trainer:    epoch          : 1\n",
      "INFO:trainer:    loss           : 82446.679296875\n",
      "WARNING:trainer:Warning: Metric 'val_loss' is not found. Model performance monitoring is disabled.\n",
      "DEBUG:trainer:Train Epoch: 2 [0/1572 (0%)] Loss: 61260.898438\n",
      "DEBUG:trainer:Train Epoch: 2 [512/1572 (33%)] Loss: 42063.367188\n",
      "DEBUG:trainer:Train Epoch: 2 [1024/1572 (65%)] Loss: 65702.335938\n",
      "DEBUG:trainer:Train Epoch: 2 [1536/1572 (98%)] Loss: 26268.642578\n",
      "INFO:trainer:    epoch          : 2\n",
      "INFO:trainer:    loss           : 52160.388984375\n",
      "DEBUG:trainer:Train Epoch: 3 [0/1572 (0%)] Loss: 44269.140625\n",
      "DEBUG:trainer:Train Epoch: 3 [512/1572 (33%)] Loss: 40829.308594\n",
      "DEBUG:trainer:Train Epoch: 3 [1024/1572 (65%)] Loss: 50379.734375\n",
      "DEBUG:trainer:Train Epoch: 3 [1536/1572 (98%)] Loss: 23462.867188\n",
      "INFO:trainer:    epoch          : 3\n",
      "INFO:trainer:    loss           : 42632.960625\n",
      "DEBUG:trainer:Train Epoch: 4 [0/1572 (0%)] Loss: 41123.402344\n",
      "DEBUG:trainer:Train Epoch: 4 [512/1572 (33%)] Loss: 40986.398438\n",
      "DEBUG:trainer:Train Epoch: 4 [1024/1572 (65%)] Loss: 36271.917969\n",
      "DEBUG:trainer:Train Epoch: 4 [1536/1572 (98%)] Loss: 20576.972656\n",
      "INFO:trainer:    epoch          : 4\n",
      "INFO:trainer:    loss           : 37993.5040625\n",
      "DEBUG:trainer:Train Epoch: 5 [0/1572 (0%)] Loss: 38227.667969\n",
      "DEBUG:trainer:Train Epoch: 5 [512/1572 (33%)] Loss: 30250.861328\n",
      "DEBUG:trainer:Train Epoch: 5 [1024/1572 (65%)] Loss: 25501.746094\n",
      "DEBUG:trainer:Train Epoch: 5 [1536/1572 (98%)] Loss: 12693.303711\n",
      "INFO:trainer:    epoch          : 5\n",
      "INFO:trainer:    loss           : 28448.0307421875\n",
      "INFO:trainer:Saving checkpoint: /home/lboloni/Documents/Hackingwork/__Temporary/BerryPicker-models/Conv-VAE/models/VAE_Robot/1208_105556/checkpoint-epoch5.pth ...\n",
      "DEBUG:trainer:Train Epoch: 6 [0/1572 (0%)] Loss: 22701.537109\n",
      "DEBUG:trainer:Train Epoch: 6 [512/1572 (33%)] Loss: 17397.537109\n",
      "DEBUG:trainer:Train Epoch: 6 [1024/1572 (65%)] Loss: 15867.491211\n",
      "DEBUG:trainer:Train Epoch: 6 [1536/1572 (98%)] Loss: 8462.410156\n",
      "INFO:trainer:    epoch          : 6\n",
      "INFO:trainer:    loss           : 17064.00140625\n",
      "DEBUG:trainer:Train Epoch: 7 [0/1572 (0%)] Loss: 15342.038086\n",
      "DEBUG:trainer:Train Epoch: 7 [512/1572 (33%)] Loss: 14790.400391\n",
      "DEBUG:trainer:Train Epoch: 7 [1024/1572 (65%)] Loss: 14760.967773\n",
      "DEBUG:trainer:Train Epoch: 7 [1536/1572 (98%)] Loss: 8438.275391\n",
      "INFO:trainer:    epoch          : 7\n",
      "INFO:trainer:    loss           : 14770.1905859375\n",
      "DEBUG:trainer:Train Epoch: 8 [0/1572 (0%)] Loss: 13822.773438\n",
      "DEBUG:trainer:Train Epoch: 8 [512/1572 (33%)] Loss: 13616.952148\n",
      "DEBUG:trainer:Train Epoch: 8 [1024/1572 (65%)] Loss: 12865.377930\n",
      "DEBUG:trainer:Train Epoch: 8 [1536/1572 (98%)] Loss: 6614.835938\n",
      "INFO:trainer:    epoch          : 8\n",
      "INFO:trainer:    loss           : 13070.3168359375\n",
      "DEBUG:trainer:Train Epoch: 9 [0/1572 (0%)] Loss: 12295.741211\n",
      "DEBUG:trainer:Train Epoch: 9 [512/1572 (33%)] Loss: 12478.577148\n",
      "DEBUG:trainer:Train Epoch: 9 [1024/1572 (65%)] Loss: 12153.099609\n",
      "DEBUG:trainer:Train Epoch: 9 [1536/1572 (98%)] Loss: 6948.647461\n",
      "INFO:trainer:    epoch          : 9\n",
      "INFO:trainer:    loss           : 12012.0534375\n",
      "DEBUG:trainer:Train Epoch: 10 [0/1572 (0%)] Loss: 12224.443359\n",
      "DEBUG:trainer:Train Epoch: 10 [512/1572 (33%)] Loss: 11596.357422\n",
      "DEBUG:trainer:Train Epoch: 10 [1024/1572 (65%)] Loss: 11233.601562\n",
      "DEBUG:trainer:Train Epoch: 10 [1536/1572 (98%)] Loss: 6495.474121\n",
      "INFO:trainer:    epoch          : 10\n",
      "INFO:trainer:    loss           : 11296.30513671875\n",
      "INFO:trainer:Saving checkpoint: /home/lboloni/Documents/Hackingwork/__Temporary/BerryPicker-models/Conv-VAE/models/VAE_Robot/1208_105556/checkpoint-epoch10.pth ...\n"
     ]
    }
   ],
   "source": [
    "# actually run the training\n",
    "print(f'Running the trainer from scratch for {config[\"trainer\"][\"epochs\"]}')\n",
    "trainer = train(config)"
   ]
  },
  {
   "cell_type": "code",
   "execution_count": null,
   "metadata": {},
   "outputs": [],
   "source": [
    "# These are the metrics recorded\n",
    "# they are of utils/util.py / MetricTracker which has a pandas dataframe as data\n",
    "print(trainer.train_metrics)\n",
    "print(trainer.valid_metrics)\n",
    "\n",
    "# \n",
    "trainer.train_metrics._data\n",
    "# trainer.valid_metrics._data"
   ]
  },
  {
   "cell_type": "code",
   "execution_count": 5,
   "metadata": {},
   "outputs": [
    {
     "name": "stdout",
     "output_type": "stream",
     "text": [
      "/home/lboloni/Documents/Hackingwork/_VirtualEnv/venvBerryPicker/venv/bin/python\n"
     ]
    }
   ],
   "source": [
    "trainer.train_metrics._data.shape\n",
    "!which python"
   ]
  },
  {
   "cell_type": "code",
   "execution_count": null,
   "metadata": {},
   "outputs": [],
   "source": [
    "# FIXME: this one returns models, but it should return what was under it.\n",
    "\n",
    "model_path = pathlib.Path(config[\"trainer\"][\"save_dir\"], \"models\", config[\"name\"])\n",
    "\n",
    "training_run = latest_training_run(model_path)\n",
    "print(f'The latest training run is {training_run} in directory\\n{config[\"trainer\"][\"save_dir\"]}')\n",
    "\n",
    "print = latest_model"
   ]
  }
 ],
 "metadata": {
  "kernelspec": {
   "display_name": "venv",
   "language": "python",
   "name": "python3"
  },
  "language_info": {
   "codemirror_mode": {
    "name": "ipython",
    "version": 3
   },
   "file_extension": ".py",
   "mimetype": "text/x-python",
   "name": "python",
   "nbconvert_exporter": "python",
   "pygments_lexer": "ipython3",
   "version": "3.10.12"
  }
 },
 "nbformat": 4,
 "nbformat_minor": 2
}
