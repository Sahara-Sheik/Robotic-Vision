{
 "cells": [
  {
   "cell_type": "markdown",
   "metadata": {},
   "source": [
    "# Train a Convolutional Variational Autoencoder \n",
    "\n",
    "Using the Conv-VAE package to train a convolutional variational autoencoder. The parameters of the training are describe by an experiment run of type \"conv_vae\". \n",
    "\n",
    "The result of runing the code in this notebook is the model files that are stored in the experiment directory. As the model files \n",
    "\n",
    "__Note:__ The result of running this code is the creation of a \"final model\". The encoder portion of this model is the component that can be used for the encoder of the robot. Once the training had been done, the subdir of this experiment and the checkpoint we want to use will need to updated into the experiment run-specific file in the model_subdir and model_checkpoint fields.\n"
   ]
  },
  {
   "cell_type": "code",
   "execution_count": 1,
   "metadata": {},
   "outputs": [
    {
     "name": "stdout",
     "output_type": "stream",
     "text": [
      "Loading pointer config file: C:\\Users\\lboloni\\.config\\BerryPicker\\mainsettings.yaml\n",
      "Loading machine-specific config file: G:\\My Drive\\LotziStudy\\Code\\PackageTracking\\BerryPicker\\settings\\settings-LotziYoga.yaml\n"
     ]
    }
   ],
   "source": [
    "import sys\n",
    "sys.path.append(\"..\")\n",
    "from settings import Config\n",
    "import pathlib\n",
    "from pprint import pprint\n",
    "import shutil\n",
    "\n",
    "# adding the Julian-8897-Conv-VAE-PyTorch into the path\n",
    "sys.path.append(Config()[\"conv_vae\"][\"code_dir\"])\n",
    "\n",
    "# Oh, this hack was fixing something, but for me it is the other way around\n",
    "#temp = pathlib.PosixPath\n",
    "#pathlib.PosixPath = pathlib.WindowsPath\n",
    "\n",
    "from conv_vae import get_conv_vae_config, create_configured_vae_json, train,  latest_training_run"
   ]
  },
  {
   "cell_type": "code",
   "execution_count": 3,
   "metadata": {},
   "outputs": [
    {
     "name": "stdout",
     "output_type": "stream",
     "text": [
      "Missing experiment system dependent config file G:\\My Drive\\LotziStudy\\Code\\PackageTracking\\BerryPicker\\settings\\experiment-config\\LotziYoga\\conv_vae\\vae_01_sysdep.yaml, that is ok, proceeding.\n",
      "Configuration for experiment: conv_vae/vae_01 successfully loaded\n",
      "{'data_dir': WindowsPath('c:/Users/lboloni/Documents/Code/_TempData/BerryPicker-experiments/conv_vae/vae_01'),\n",
      " 'epochs': 100,\n",
      " 'group_name': 'conv_vae',\n",
      " 'json_template_name': 'conv-vae-config-default.json',\n",
      " 'latent_dims': 256,\n",
      " 'model_checkpoint': 'checkpoint-epoch100.pth',\n",
      " 'model_dir': 'models',\n",
      " 'model_name': 'VAE_Robot',\n",
      " 'model_subdir': '1222_150723',\n",
      " 'run_name': 'vae_01',\n",
      " 'save_period': 5,\n",
      " 'training_data_dir': 'vae-training-data'}\n"
     ]
    }
   ],
   "source": [
    "# If it is set to true, no actual copying will be done\n",
    "dry_run = False\n",
    "\n",
    "# Specify and load the experiment\n",
    "run = \"vae_01\"\n",
    "exp = Config().get_experiment(\"conv_vae\", run)\n",
    "pprint(exp)"
   ]
  },
  {
   "cell_type": "code",
   "execution_count": 3,
   "metadata": {},
   "outputs": [],
   "source": [
    "# update the vae_config based on parameters from the experiment\n",
    "# vae_config[\"trainer\"][\"epochs\"] = exp[\"epochs\"] # was 100\n",
    "# vae_config[\"trainer\"][\"save_period\"] = exp[\"save_period\"] # 5\n",
    "# vae_config[\"arch\"][\"args\"][\"latent_dims\"] = exp[\"latent_dims\"]\n",
    "\n",
    "# FIXME: among other things, the problem is that this is not being written back into the config file \n",
    "\n",
    "# print(exp[\"latent_dims\"])"
   ]
  },
  {
   "cell_type": "markdown",
   "metadata": {},
   "source": [
    "# Create the training data\n",
    "\n",
    "The training data is pictures from the demos (possibly selected in a certain way). The code in this notebook performs the selection and transfers them."
   ]
  },
  {
   "cell_type": "markdown",
   "metadata": {},
   "source": [
    "### Check the training data directory"
   ]
  },
  {
   "cell_type": "code",
   "execution_count": null,
   "metadata": {},
   "outputs": [],
   "source": [
    "demos_top = pathlib.Path(Config()[\"demos\"][\"directory\"])\n",
    "demos_dir = pathlib.Path(demos_top, \"demos\")\n",
    "\n",
    "subdir_count = sum(1 for item in demos_dir.iterdir() if item.is_dir())\n",
    "print(f\"Number of demo directories: {subdir_count}\")\n",
    "\n",
    "# Deciding on the location of the training data\n",
    "training_data_dir = pathlib.Path(exp[\"data_dir\"], exp[\"training_data_dir\"])\n",
    "# training_data_dir = pathlib.Path(Config()[\"conv_vae\"][\"training_data_dir\"])\n",
    "training_image_dir = pathlib.Path(training_data_dir, \"Images\")\n",
    "training_image_dir.mkdir(exist_ok = False, parents=True)\n",
    "\n",
    "print(f\"Training data dir={training_image_dir}\")\n",
    "\n",
    "# Define a set of common image file extensions\n",
    "image_extensions = {\".jpg\", \".jpeg\", \".png\", \".gif\", \".bmp\", \".tiff\", \".webp\"}\n",
    "# Count the image files\n",
    "image_count = sum(1 for item in training_image_dir.iterdir() if item.suffix.lower() in image_extensions and item.is_file())\n",
    "\n",
    "print(f\"Number of image files in training dir: {image_count}\")"
   ]
  },
  {
   "cell_type": "markdown",
   "metadata": {},
   "source": [
    "## Copy files to the training dataset\n",
    "Create the training data by copying all the files from the specific data to the training directory.\n",
    "\n",
    "FIXME: maybe do this for a collection of different demos"
   ]
  },
  {
   "cell_type": "code",
   "execution_count": null,
   "metadata": {},
   "outputs": [],
   "source": [
    "task_dir = pathlib.Path(demos_dir, \"proprioception-cluttered\")\n",
    "# _, task_dir = ui_choose_task(offer_task_creation=True)\n",
    "\n",
    "\n",
    "for demo in task_dir.iterdir():\n",
    "    if not demo.is_dir(): continue\n",
    "    for item in demo.iterdir():\n",
    "        if item.suffix != \".jpg\": continue\n",
    "        name = f\"{demo.name}_{item.stem}.jpg\"\n",
    "        destination = pathlib.Path(training_image_dir, name)\n",
    "        print(f\"copy {item} to \\n{destination}\")\n",
    "        if not dry_run:\n",
    "            shutil.copyfile(item, destination)\n",
    "        "
   ]
  },
  {
   "cell_type": "markdown",
   "metadata": {},
   "source": [
    "# Train a ConvVAE on the training data"
   ]
  },
  {
   "cell_type": "code",
   "execution_count": null,
   "metadata": {},
   "outputs": [],
   "source": [
    "# Create the vae configuration, based on the experiment\n",
    "file = create_configured_vae_json(exp)\n",
    "print(file)\n",
    "vae_config = get_conv_vae_config(file)\n",
    "\n",
    "# actually run the training\n",
    "print(f'Running the trainer from scratch for {vae_config[\"trainer\"][\"epochs\"]}')\n",
    "trainer = train(vae_config)"
   ]
  },
  {
   "cell_type": "code",
   "execution_count": null,
   "metadata": {},
   "outputs": [],
   "source": [
    "# These are the metrics recorded\n",
    "# they are of utils/util.py / MetricTracker which has a pandas dataframe as data\n",
    "print(trainer.train_metrics)\n",
    "print(trainer.valid_metrics)\n",
    "# \n",
    "trainer.train_metrics._data\n",
    "# trainer.valid_metrics._data"
   ]
  },
  {
   "cell_type": "code",
   "execution_count": null,
   "metadata": {},
   "outputs": [],
   "source": []
  }
 ],
 "metadata": {
  "kernelspec": {
   "display_name": "Robot-venv",
   "language": "python",
   "name": "python3"
  },
  "language_info": {
   "codemirror_mode": {
    "name": "ipython",
    "version": 3
   },
   "file_extension": ".py",
   "mimetype": "text/x-python",
   "name": "python",
   "nbconvert_exporter": "python",
   "pygments_lexer": "ipython3",
   "version": "3.11.4"
  }
 },
 "nbformat": 4,
 "nbformat_minor": 2
}
