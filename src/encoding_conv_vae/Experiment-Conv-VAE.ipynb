{
 "cells": [
  {
   "cell_type": "markdown",
   "metadata": {},
   "source": [
    "# Interactively validate a Convolutional Variational Autoencoder\n",
    "\n",
    "The code in this nodebook is loading a pre-trained model and experiment with the encoder and decoder. "
   ]
  },
  {
   "cell_type": "code",
   "execution_count": 3,
   "metadata": {},
   "outputs": [],
   "source": [
    "import sys\n",
    "sys.path.append(\"..\")\n",
    "# adding the Julian-8897-Conv-VAE-PyTorch into the path\n",
    "from settings import Config\n",
    "sys.path.append(Config().values[\"conv_vae\"][\"code_dir\"])\n",
    "\n",
    "\n",
    "from sensorprocessing import sp_conv_vae\n",
    "from sensorprocessing import sp_helper\n",
    "\n",
    "from helper import ui_choose_task, ui_choose_demo\n",
    "\n",
    "\n",
    "#import torch\n",
    "#import torchvision.transforms as transforms\n",
    "#from torchvision import transforms\n",
    "import os\n",
    "import matplotlib.pyplot as plt\n",
    "import pathlib\n",
    "import random\n",
    "\n",
    "# Oh, this hack was fixing something, but for me it is the other way around\n",
    "#temp = pathlib.PosixPath\n",
    "#pathlib.PosixPath = pathlib.WindowsPath"
   ]
  },
  {
   "cell_type": "code",
   "execution_count": 4,
   "metadata": {},
   "outputs": [
    {
     "name": "stdout",
     "output_type": "stream",
     "text": [
      "resume_model and jsonfile are:\n",
      "\tresume_model=/home/lboloni/Documents/Hackingwork/__Temporary/BerryPicker-models/Conv-VAE/models/VAE_Robot/1207_163129/checkpoint-epoch100.pth\n",
      "\tjsonfile=/home/lboloni/Documents/Hackingwork/__Temporary/BerryPicker-models/Conv-VAE/models/VAE_Robot/1207_163129/config.json\n",
      "Warning: logging configuration file is not found in logger/logger_config.json.\n",
      "{\n",
      "    \"name\": \"VAE_Robot\",\n",
      "    \"n_gpu\": 1,\n",
      "    \"arch\": {\n",
      "        \"type\": \"VanillaVAE\",\n",
      "        \"args\": {\n",
      "            \"in_channels\": 3,\n",
      "            \"latent_dims\": 128,\n",
      "            \"flow\": false\n",
      "        }\n",
      "    },\n",
      "    \"data_loader\": {\n",
      "        \"type\": \"CelebDataLoader\",\n",
      "        \"args\": {\n",
      "            \"data_dir\": \"/home/lboloni/Documents/Hackingwork/__Temporary/BerryPicker-training-data/vae-training-data\",\n",
      "            \"batch_size\": 64,\n",
      "            \"shuffle\": true,\n",
      "            \"validation_split\": 0.2,\n",
      "            \"num_workers\": 2\n",
      "        }\n",
      "    },\n",
      "    \"optimizer\": {\n",
      "        \"type\": \"Adam\",\n",
      "        \"args\": {\n",
      "            \"lr\": 0.005,\n",
      "            \"weight_decay\": 0.0,\n",
      "            \"amsgrad\": true\n",
      "        }\n",
      "    },\n",
      "    \"loss\": \"elbo_loss\",\n",
      "    \"metrics\": [],\n",
      "    \"lr_scheduler\": {\n",
      "        \"type\": \"StepLR\",\n",
      "        \"args\": {\n",
      "            \"step_size\": 50,\n",
      "            \"gamma\": 0.1\n",
      "        }\n",
      "    },\n",
      "    \"trainer\": {\n",
      "        \"epochs\": 3,\n",
      "        \"save_dir\": \"/home/lboloni/Documents/Hackingwork/__Temporary/BerryPicker-models/Conv-VAE/\",\n",
      "        \"save_period\": 1,\n",
      "        \"verbosity\": 2,\n",
      "        \"monitor\": \"min val_loss\",\n",
      "        \"early_stop\": 10,\n",
      "        \"tensorboard\": true\n",
      "    }\n",
      "}\n",
      "Loading the checkpoint\n",
      "Checkpoint loaded\n"
     ]
    },
    {
     "name": "stderr",
     "output_type": "stream",
     "text": [
      "/home/lboloni/Documents/Hackingwork/_Checkouts/BerryPicker/BerryPicker/src/encoding_conv_vae/../sensorprocessing/sp_conv_vae.py:61: FutureWarning: You are using `torch.load` with `weights_only=False` (the current default value), which uses the default pickle module implicitly. It is possible to construct malicious pickle data which will execute arbitrary code during unpickling (See https://github.com/pytorch/pytorch/blob/main/SECURITY.md#untrusted-models for more details). In a future release, the default value for `weights_only` will be flipped to `True`. This limits the functions that could be executed during unpickling. Arbitrary objects will no longer be allowed to be loaded via this mode unless they are explicitly allowlisted by the user via `torch.serialization.add_safe_globals`. We recommend you start setting `weights_only=True` for any use case where you don't have full control of the loaded file. Please open an issue on GitHub for any issues related to this experimental feature.\n",
      "  self.checkpoint = torch.load(self.config.resume, map_location=torch.device('cpu'))\n"
     ]
    },
    {
     "name": "stdout",
     "output_type": "stream",
     "text": [
      "VanillaVAE(\n",
      "  (encoder): Sequential(\n",
      "    (0): Sequential(\n",
      "      (0): Conv2d(3, 32, kernel_size=(3, 3), stride=(2, 2), padding=(1, 1))\n",
      "      (1): BatchNorm2d(32, eps=1e-05, momentum=0.1, affine=True, track_running_stats=True)\n",
      "      (2): LeakyReLU(negative_slope=0.01)\n",
      "    )\n",
      "    (1): Sequential(\n",
      "      (0): Conv2d(32, 64, kernel_size=(3, 3), stride=(2, 2), padding=(1, 1))\n",
      "      (1): BatchNorm2d(64, eps=1e-05, momentum=0.1, affine=True, track_running_stats=True)\n",
      "      (2): LeakyReLU(negative_slope=0.01)\n",
      "    )\n",
      "    (2): Sequential(\n",
      "      (0): Conv2d(64, 128, kernel_size=(3, 3), stride=(2, 2), padding=(1, 1))\n",
      "      (1): BatchNorm2d(128, eps=1e-05, momentum=0.1, affine=True, track_running_stats=True)\n",
      "      (2): LeakyReLU(negative_slope=0.01)\n",
      "    )\n",
      "    (3): Sequential(\n",
      "      (0): Conv2d(128, 256, kernel_size=(3, 3), stride=(2, 2), padding=(1, 1))\n",
      "      (1): BatchNorm2d(256, eps=1e-05, momentum=0.1, affine=True, track_running_stats=True)\n",
      "      (2): LeakyReLU(negative_slope=0.01)\n",
      "    )\n",
      "    (4): Sequential(\n",
      "      (0): Conv2d(256, 512, kernel_size=(3, 3), stride=(2, 2), padding=(1, 1))\n",
      "      (1): BatchNorm2d(512, eps=1e-05, momentum=0.1, affine=True, track_running_stats=True)\n",
      "      (2): LeakyReLU(negative_slope=0.01)\n",
      "    )\n",
      "  )\n",
      "  (fc_mu): Linear(in_features=2048, out_features=128, bias=True)\n",
      "  (fc_var): Linear(in_features=2048, out_features=128, bias=True)\n",
      "  (decoder_input): Linear(in_features=128, out_features=2048, bias=True)\n",
      "  (decoder): Sequential(\n",
      "    (0): Sequential(\n",
      "      (0): ConvTranspose2d(512, 256, kernel_size=(3, 3), stride=(2, 2), padding=(1, 1), output_padding=(1, 1))\n",
      "      (1): BatchNorm2d(256, eps=1e-05, momentum=0.1, affine=True, track_running_stats=True)\n",
      "      (2): LeakyReLU(negative_slope=0.01)\n",
      "    )\n",
      "    (1): Sequential(\n",
      "      (0): ConvTranspose2d(256, 128, kernel_size=(3, 3), stride=(2, 2), padding=(1, 1), output_padding=(1, 1))\n",
      "      (1): BatchNorm2d(128, eps=1e-05, momentum=0.1, affine=True, track_running_stats=True)\n",
      "      (2): LeakyReLU(negative_slope=0.01)\n",
      "    )\n",
      "    (2): Sequential(\n",
      "      (0): ConvTranspose2d(128, 64, kernel_size=(3, 3), stride=(2, 2), padding=(1, 1), output_padding=(1, 1))\n",
      "      (1): BatchNorm2d(64, eps=1e-05, momentum=0.1, affine=True, track_running_stats=True)\n",
      "      (2): LeakyReLU(negative_slope=0.01)\n",
      "    )\n",
      "    (3): Sequential(\n",
      "      (0): ConvTranspose2d(64, 32, kernel_size=(3, 3), stride=(2, 2), padding=(1, 1), output_padding=(1, 1))\n",
      "      (1): BatchNorm2d(32, eps=1e-05, momentum=0.1, affine=True, track_running_stats=True)\n",
      "      (2): LeakyReLU(negative_slope=0.01)\n",
      "    )\n",
      "  )\n",
      "  (final_layer): Sequential(\n",
      "    (0): ConvTranspose2d(32, 32, kernel_size=(3, 3), stride=(2, 2), padding=(1, 1), output_padding=(1, 1))\n",
      "    (1): BatchNorm2d(32, eps=1e-05, momentum=0.1, affine=True, track_running_stats=True)\n",
      "    (2): LeakyReLU(negative_slope=0.01)\n",
      "    (3): Conv2d(32, 3, kernel_size=(3, 3), stride=(1, 1), padding=(1, 1))\n",
      "    (4): Tanh()\n",
      "  )\n",
      ")\n",
      "Trainable parameters: 3937635\n",
      "Sequential(\n",
      "  (0): Sequential(\n",
      "    (0): Conv2d(3, 32, kernel_size=(3, 3), stride=(2, 2), padding=(1, 1))\n",
      "    (1): BatchNorm2d(32, eps=1e-05, momentum=0.1, affine=True, track_running_stats=True)\n",
      "    (2): LeakyReLU(negative_slope=0.01)\n",
      "  )\n",
      "  (1): Sequential(\n",
      "    (0): Conv2d(32, 64, kernel_size=(3, 3), stride=(2, 2), padding=(1, 1))\n",
      "    (1): BatchNorm2d(64, eps=1e-05, momentum=0.1, affine=True, track_running_stats=True)\n",
      "    (2): LeakyReLU(negative_slope=0.01)\n",
      "  )\n",
      "  (2): Sequential(\n",
      "    (0): Conv2d(64, 128, kernel_size=(3, 3), stride=(2, 2), padding=(1, 1))\n",
      "    (1): BatchNorm2d(128, eps=1e-05, momentum=0.1, affine=True, track_running_stats=True)\n",
      "    (2): LeakyReLU(negative_slope=0.01)\n",
      "  )\n",
      "  (3): Sequential(\n",
      "    (0): Conv2d(128, 256, kernel_size=(3, 3), stride=(2, 2), padding=(1, 1))\n",
      "    (1): BatchNorm2d(256, eps=1e-05, momentum=0.1, affine=True, track_running_stats=True)\n",
      "    (2): LeakyReLU(negative_slope=0.01)\n",
      "  )\n",
      "  (4): Sequential(\n",
      "    (0): Conv2d(256, 512, kernel_size=(3, 3), stride=(2, 2), padding=(1, 1))\n",
      "    (1): BatchNorm2d(512, eps=1e-05, momentum=0.1, affine=True, track_running_stats=True)\n",
      "    (2): LeakyReLU(negative_slope=0.01)\n",
      "  )\n",
      ")\n",
      "latent_dim 128\n"
     ]
    }
   ],
   "source": [
    "sp = sp_conv_vae.ConvVaeSensorProcessing()\n",
    "print(sp.model)\n",
    "print(sp.model.encoder)\n",
    "print(f\"latent_dim {sp.model.latent_dim}\")\n",
    "# print(model.hidden_dims)"
   ]
  },
  {
   "cell_type": "markdown",
   "metadata": {},
   "source": [
    "## Pass one picture through the complete autoencoder\n",
    "\n",
    "Pass one specific picture through the complete autoencoder. Compare the input and the output. This is basically trying out whether the VAE had captured the picture sufficiently.\n",
    "\n",
    "This code also is intended as a sample of how to use the pre-trained model, how to feed it new data without the training code. "
   ]
  },
  {
   "cell_type": "code",
   "execution_count": 5,
   "metadata": {},
   "outputs": [
    {
     "name": "stdout",
     "output_type": "stream",
     "text": [
      "/home/lboloni/Documents/Hackingwork/__Temporary/BerryPicker-training-data/vae-training-data/Images\n"
     ]
    }
   ],
   "source": [
    "# picture_name = '../../localdata/img/Rafael.jpg'\n",
    "# picture_name = '../../localdata/img/indian-man.jpeg'\n",
    "# picture_name = '../../localdata/img/00029_dev2.jpg'\n",
    "\n",
    "# Choose a random image from the training data. \n",
    "\n",
    "directory = pathlib.Path(Config().values[\"conv_vae\"][\"training_data_dir\"], \"Images\")\n",
    "print(directory)\n",
    "files = list(directory.glob('*.jpg'))\n",
    "picture_name = pathlib.Path(directory, files[11])\n"
   ]
  },
  {
   "cell_type": "code",
   "execution_count": null,
   "metadata": {},
   "outputs": [],
   "source": []
  },
  {
   "cell_type": "markdown",
   "metadata": {},
   "source": [
    "Check if the sensor processing object works"
   ]
  },
  {
   "cell_type": "raw",
   "metadata": {
    "vscode": {
     "languageId": "raw"
    }
   },
   "source": [
    "val = sp.process_file(picture_name)\n",
    "print(val)"
   ]
  },
  {
   "cell_type": "code",
   "execution_count": 6,
   "metadata": {},
   "outputs": [],
   "source": [
    "def visualize_VAE(sp, picture_name, axoriginal, axreconstr):\n",
    "    \"\"\"Visualize the performance of the reconstruction of a VAE sensorprocessing object. Show the original and the reconstruction in fields of a picture.\"\"\"\n",
    "    transform = sp_helper.get_transform_to_robot()\n",
    "    input, image = sp_helper.load_picturefile_to_tensor(picture_name, transform)\n",
    "    # Running the input on the output\n",
    "    output, mu, logvar = sp.model(input)\n",
    "    # Output: the visual reconstruction\n",
    "    output_for_pic = output[0].cpu().permute(1, 2, 0).detach().numpy()\n",
    "    # Showing the input and the reconstruction    \n",
    "    axoriginal.imshow(image)\n",
    "    axreconstr.imshow(output_for_pic)\n"
   ]
  },
  {
   "cell_type": "code",
   "execution_count": 7,
   "metadata": {},
   "outputs": [
    {
     "name": "stdout",
     "output_type": "stream",
     "text": [
      "Demo directory /home/lboloni/Documents/Hackingwork/__Temporary/BerryPicker-demos/demos found with tasks [PosixPath('/home/lboloni/Documents/Hackingwork/__Temporary/BerryPicker-demos/demos/boxmove'), PosixPath('/home/lboloni/Documents/Hackingwork/__Temporary/BerryPicker-demos/demos/marker_solo'), PosixPath('/home/lboloni/Documents/Hackingwork/__Temporary/BerryPicker-demos/demos/proprioception-cluttered'), PosixPath('/home/lboloni/Documents/Hackingwork/__Temporary/BerryPicker-demos/demos/proprioception-uncluttered'), PosixPath('/home/lboloni/Documents/Hackingwork/__Temporary/BerryPicker-demos/demos/tomatopicking'), PosixPath('/home/lboloni/Documents/Hackingwork/__Temporary/BerryPicker-demos/demos/touch-brown'), PosixPath('/home/lboloni/Documents/Hackingwork/__Temporary/BerryPicker-demos/demos/touch-spoon'), PosixPath('/home/lboloni/Documents/Hackingwork/__Temporary/BerryPicker-demos/demos/touch-white'), PosixPath('/home/lboloni/Documents/Hackingwork/__Temporary/BerryPicker-demos/demos/towelwipe'), PosixPath('/home/lboloni/Documents/Hackingwork/__Temporary/BerryPicker-demos/demos/turn-over-solo-cup')]\n",
      "\t0: boxmove\n",
      "\t1: marker_solo\n",
      "\t2: proprioception-cluttered\n",
      "\t3: proprioception-uncluttered\n",
      "\t4: tomatopicking\n",
      "\t5: touch-brown\n",
      "\t6: touch-spoon\n",
      "\t7: touch-white\n",
      "\t8: towelwipe\n",
      "\t9: turn-over-solo-cup\n"
     ]
    },
    {
     "ename": "ValueError",
     "evalue": "invalid literal for int() with base 10: ''",
     "output_type": "error",
     "traceback": [
      "\u001b[0;31m---------------------------------------------------------------------------\u001b[0m",
      "\u001b[0;31mValueError\u001b[0m                                Traceback (most recent call last)",
      "Cell \u001b[0;32mIn[7], line 3\u001b[0m\n\u001b[1;32m      1\u001b[0m \u001b[38;5;66;03m# Implement me: choose a random set of images from a task\u001b[39;00m\n\u001b[0;32m----> 3\u001b[0m _, task_dir \u001b[38;5;241m=\u001b[39m \u001b[43mui_choose_task\u001b[49m\u001b[43m(\u001b[49m\u001b[43moffer_task_creation\u001b[49m\u001b[38;5;241;43m=\u001b[39;49m\u001b[38;5;28;43;01mTrue\u001b[39;49;00m\u001b[43m)\u001b[49m\n\u001b[1;32m      4\u001b[0m \u001b[38;5;28mprint\u001b[39m(task_dir)\n\u001b[1;32m      5\u001b[0m demo_dir \u001b[38;5;241m=\u001b[39m ui_choose_demo(task_dir)\n",
      "File \u001b[0;32m~/Documents/Hackingwork/_Checkouts/BerryPicker/BerryPicker/src/encoding_conv_vae/../helper.py:34\u001b[0m, in \u001b[0;36mui_choose_task\u001b[0;34m(offer_task_creation)\u001b[0m\n\u001b[1;32m     32\u001b[0m     \u001b[38;5;28mprint\u001b[39m(\u001b[38;5;124mf\u001b[39m\u001b[38;5;124m\"\u001b[39m\u001b[38;5;130;01m\\t\u001b[39;00m\u001b[38;5;132;01m{\u001b[39;00mkey\u001b[38;5;132;01m}\u001b[39;00m\u001b[38;5;124m: \u001b[39m\u001b[38;5;132;01m{\u001b[39;00mtasks_dict[key]\u001b[38;5;241m.\u001b[39mname\u001b[38;5;132;01m}\u001b[39;00m\u001b[38;5;124m\"\u001b[39m)\n\u001b[1;32m     33\u001b[0m sys\u001b[38;5;241m.\u001b[39mstdout\u001b[38;5;241m.\u001b[39mflush()\n\u001b[0;32m---> 34\u001b[0m task_id \u001b[38;5;241m=\u001b[39m \u001b[38;5;28;43mint\u001b[39;49m\u001b[43m(\u001b[49m\u001b[38;5;28;43minput\u001b[39;49m\u001b[43m(\u001b[49m\u001b[38;5;124;43m\"\u001b[39;49m\u001b[38;5;124;43mChoose the task: \u001b[39;49m\u001b[38;5;124;43m\"\u001b[39;49m\u001b[43m)\u001b[49m\u001b[43m)\u001b[49m\n\u001b[1;32m     35\u001b[0m task_dir \u001b[38;5;241m=\u001b[39m tasks_dict[task_id]\n\u001b[1;32m     36\u001b[0m \u001b[38;5;28mprint\u001b[39m(\u001b[38;5;124mf\u001b[39m\u001b[38;5;124m\"\u001b[39m\u001b[38;5;124mYou chose task: \u001b[39m\u001b[38;5;132;01m{\u001b[39;00mtask_dir\u001b[38;5;241m.\u001b[39mname\u001b[38;5;132;01m}\u001b[39;00m\u001b[38;5;124m\"\u001b[39m)\n",
      "\u001b[0;31mValueError\u001b[0m: invalid literal for int() with base 10: ''"
     ]
    }
   ],
   "source": [
    "# Implement me: choose a random set of images from a task\n",
    "\n",
    "_, task_dir = ui_choose_task(offer_task_creation=True)\n",
    "print(task_dir)\n",
    "demo_dir = ui_choose_demo(task_dir)\n",
    "# FIXME: need to choose the demonstration\n",
    "jpg_files = list(demo_dir.glob(\"*.jpg\"))\n",
    "n = 6\n",
    "randomjpg = random.sample(jpg_files, n)\n",
    "fig, axs = plt.subplots(2, n, figsize=(10, 5))\n",
    "for i in range(n):\n",
    "    visualize_VAE(sp, randomjpg[i], axs[0,i], axs[1,i])"
   ]
  },
  {
   "cell_type": "code",
   "execution_count": null,
   "metadata": {},
   "outputs": [],
   "source": []
  },
  {
   "cell_type": "code",
   "execution_count": null,
   "metadata": {},
   "outputs": [],
   "source": [
    "\n",
    "# Try to do a decoding from the same mu\n",
    "z2 = sp.model.reparameterize(mu, logvar)\n",
    "\n",
    "for i in range(Config().values[\"robot\"][\"latent_encoding_size\"]):\n",
    "    z2[0][i] = z2[0][i] + 0.1\n",
    "\n",
    "#z2[0][1] = 2.0\n",
    "#z2[0][3] = 2.0\n",
    "output2 = sp.model.decode(z2)\n",
    "output_for_pic2 = output2[0].cpu().permute(1, 2, 0).detach().numpy()\n",
    "\n",
    "# initial and new\n",
    "fig, axs = plt.subplots(1, 2, figsize=(10, 5))\n",
    "\n",
    "axs[0].imshow(output_for_pic)\n",
    "axs[1].imshow(output_for_pic2)\n"
   ]
  },
  {
   "cell_type": "markdown",
   "metadata": {},
   "source": [
    "# Generating random samples from the model"
   ]
  },
  {
   "cell_type": "code",
   "execution_count": null,
   "metadata": {},
   "outputs": [],
   "source": [
    "import random\n",
    "\n",
    "# z2 = model.reparameterize(mu, logvar)\n",
    "# initial and new\n",
    "fig, axs = plt.subplots(5, 5, figsize=(10, 10))\n",
    "for x in range(0, 5):\n",
    "    for y in range(0, 5):\n",
    "            z2 = sp.model.reparameterize(mu, logvar)\n",
    "            for i in range(Config().values[\"robot\"][\"latent_encoding_size\"]):\n",
    "                z2[0][i] += random.uniform(-0.5, 0.5)\n",
    "            output2 = sp.model.decode(z2)\n",
    "            output_for_pic2 = output2[0].cpu().permute(1, 2, 0).detach().numpy()\n",
    "            axs[x][y].imshow(output_for_pic2)\n",
    "#axs[0].imshow(output_for_pic)\n",
    "#axs[1].imshow(output_for_pic2)"
   ]
  },
  {
   "cell_type": "code",
   "execution_count": null,
   "metadata": {},
   "outputs": [],
   "source": []
  }
 ],
 "metadata": {
  "kernelspec": {
   "display_name": "venv",
   "language": "python",
   "name": "python3"
  },
  "language_info": {
   "codemirror_mode": {
    "name": "ipython",
    "version": 3
   },
   "file_extension": ".py",
   "mimetype": "text/x-python",
   "name": "python",
   "nbconvert_exporter": "python",
   "pygments_lexer": "ipython3",
   "version": "3.10.12"
  }
 },
 "nbformat": 4,
 "nbformat_minor": 2
}
