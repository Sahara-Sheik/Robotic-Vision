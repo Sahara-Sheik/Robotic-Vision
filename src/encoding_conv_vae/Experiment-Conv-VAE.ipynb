{
 "cells": [
  {
   "cell_type": "markdown",
   "metadata": {},
   "source": [
    "# Interactively validate a Convolutional Variational Autoencoder\n",
    "\n",
    "The code in this nodebook is loading a pre-trained model and experiment with the encoder and decoder. "
   ]
  },
  {
   "cell_type": "code",
   "execution_count": null,
   "metadata": {},
   "outputs": [],
   "source": [
    "import sys\n",
    "sys.path.append(\"..\")\n",
    "\n",
    "from settings import Config\n",
    "sys.path.append(Config().values[\"conv_vae\"][\"code_dir\"])\n",
    "\n",
    "from sensorprocessing import sp_conv_vae\n",
    "\n",
    "# print(Config().values)\n",
    "\n",
    "# import argparse\n",
    "# import json\n",
    "# import re\n",
    "# import numpy as np\n",
    "from PIL import Image\n",
    "import torch\n",
    "import torchvision.transforms as transforms\n",
    "# from tqdm import tqdm\n",
    "\n",
    "# these imports are from the Conv-VAE package\n",
    "# import data_loader.data_loaders as module_data\n",
    "# import model.loss as module_loss\n",
    "# import model.metric as module_metric\n",
    "# import model.model as module_arch\n",
    "# from parse_config import ConfigParser\n",
    "# from torch.nn import functional as F\n",
    "# import torchvision.utils as vutils\n",
    "from torchvision import transforms\n",
    "# from torch.autograd import Variable\n",
    "import os\n",
    "import matplotlib.pyplot as plt\n",
    "# import argparse\n",
    "# import socket\n",
    "\n",
    "# from mpl_toolkits.axes_grid1 import ImageGrid\n",
    "#Fixes PosixPath Error\n",
    "import pathlib\n",
    "\n",
    "# Oh, this hack was fixing something, but for me it is the other way around\n",
    "#temp = pathlib.PosixPath\n",
    "#pathlib.PosixPath = pathlib.WindowsPath"
   ]
  },
  {
   "cell_type": "code",
   "execution_count": 2,
   "metadata": {},
   "outputs": [],
   "source": [
    "from conv_vae import get_config, create_configured_vae_json, latest_model, latest_training_run"
   ]
  },
  {
   "cell_type": "code",
   "execution_count": null,
   "metadata": {},
   "outputs": [],
   "source": [
    "sp = sp_conv_vae.ConvVaeSensorProcessing()\n",
    "print(sp.model)\n",
    "print(sp.model.encoder)\n",
    "print(f\"latent_dim {sp.model.latent_dim}\")\n",
    "# print(model.hidden_dims)"
   ]
  },
  {
   "cell_type": "markdown",
   "metadata": {},
   "source": [
    "## Pass one picture through the complete autoencoder\n",
    "\n",
    "Pass one specific picture through the complete autoencoder. Compare the input and the output. This is basically trying out whether the VAE had captured the picture sufficiently.\n",
    "\n",
    "This code also is intended as a sample of how to use the pre-trained model, how to feed it new data without the training code. "
   ]
  },
  {
   "cell_type": "code",
   "execution_count": null,
   "metadata": {},
   "outputs": [],
   "source": [
    "\n",
    "\n",
    "\n",
    "# picture_name = '../../localdata/img/Rafael.jpg'\n",
    "# picture_name = '../../localdata/img/indian-man.jpeg'\n",
    "# picture_name = '../../localdata/img/00029_dev2.jpg'\n",
    "\n",
    "# This is just a randomly chosen image from the training data. \n",
    "\n",
    "directory = pathlib.Path(Config().values[\"conv_vae\"][\"training_data_dir\"], \"Class-Folder\")\n",
    "print(directory)\n",
    "files = list(directory.glob('*.jpg'))\n",
    "picture_name = pathlib.Path(directory, files[11])\n"
   ]
  },
  {
   "cell_type": "code",
   "execution_count": 22,
   "metadata": {},
   "outputs": [],
   "source": [
    "# Define a transform pipeline (e.g., converting to tensor)\n",
    "# transform = transforms.ToTensor()\n",
    "# image_size = 64\n",
    "image_size = Config().values[\"robot\"][\"image_size\"][0]\n",
    "\n",
    "transform = transforms.Compose([\n",
    "    transforms.Resize(image_size),\n",
    "    transforms.CenterCrop(image_size),\n",
    "    transforms.ToTensor(),\n",
    "])\n",
    "\n",
    "\n",
    "def load_image_to_tensor(picture_file, transform):\n",
    "    \"\"\"Loads an image from a file and transforms it into a single \n",
    "    element batch. Returns the batch and the image in a displayable format\n",
    "    \"\"\"\n",
    "    # Load an image using PIL\n",
    "    image = Image.open(picture_name)\n",
    "    # print(image.mode)\n",
    "    # FIXME: if this is already RGB, this is not needed\n",
    "    # at least for the medical image, this is in 16 bit unsigned integer\n",
    "    image_rgb = image.convert(\"RGB\")\n",
    "    # transform, scale, convert to tensor\n",
    "    image_tensor = transform(image_rgb)\n",
    "    # Display some information about the image tensor\n",
    "    print(image_tensor.shape)  # e.g., torch.Size([3, H, W])\n",
    "    # Convert the tensor to a format suitable for matplotlib (from [C, H, W] to [H, W, C])\n",
    "    image_tensor_for_pic = image_tensor.permute(1, 2, 0)\n",
    "    #plt.imshow(image_tensor_for_pic)\n",
    "    # Add a batch dimension: shape becomes [1, 3, 224, 224]\n",
    "    image_batch = image_tensor.unsqueeze(0)\n",
    "\n",
    "    # Move tensor to GPU if available\n",
    "    device = torch.device(\"cuda\" if torch.cuda.is_available() else \"cpu\")\n",
    "    image_batch_device = image_batch.to(device)\n",
    "    return image_batch_device, image_tensor_for_pic\n"
   ]
  },
  {
   "cell_type": "code",
   "execution_count": 23,
   "metadata": {},
   "outputs": [
    {
     "name": "stdout",
     "output_type": "stream",
     "text": [
      "torch.Size([3, 64, 64])\n",
      "mu = tensor([[-7.4926e-02,  1.1155e-01, -4.0424e-03, -2.6681e-01, -1.2714e-01,\n",
      "          1.2389e+00, -1.2234e-01, -1.0425e-01, -2.3427e-01,  3.7719e-02,\n",
      "         -9.1283e-03, -7.9103e-05,  6.8243e-02,  7.3793e-02,  1.2010e-01,\n",
      "          7.8402e-02, -1.1418e-01,  1.5793e-01,  9.2162e-02,  1.3380e-01,\n",
      "          2.5881e-01,  1.4024e-01, -4.8752e-02,  1.2938e-01,  8.1706e-01,\n",
      "          1.4132e-02, -1.1986e-01, -8.7338e-02,  1.9995e-01, -5.5602e-02,\n",
      "          5.9629e-02,  3.7405e-02,  4.5861e-01, -1.2054e-01,  1.0696e-01,\n",
      "          3.8680e-01, -1.6452e-01, -5.2396e-02,  3.1002e-01, -4.7982e-01,\n",
      "          1.3912e-01,  2.7758e-02, -1.8240e-02, -5.3050e-02, -1.2642e-01,\n",
      "         -8.8088e-02, -4.9545e-01, -3.7993e-02, -1.7834e-01,  5.9628e-02,\n",
      "          4.7551e-02, -6.7754e-01, -1.2370e-01,  8.1565e-01, -7.1953e-01,\n",
      "          1.8360e-01, -3.8529e-01, -2.6165e-02,  1.5244e-01,  7.4256e-01,\n",
      "         -3.3318e-02, -1.1226e-01,  1.2189e-02, -4.7470e-02, -3.2575e-01,\n",
      "          5.3321e-02,  1.7745e-01, -1.4346e-01,  8.9364e-02,  1.7146e-02,\n",
      "         -8.5260e-01, -4.3254e-01, -1.0759e+00,  2.7339e-01,  8.7161e-04,\n",
      "          2.1447e-02,  1.3586e-01, -3.8332e-02,  1.6223e-01,  1.5174e-01,\n",
      "          2.4160e-01, -4.0080e-01,  2.8704e-01, -1.8171e-01,  9.4347e-02,\n",
      "         -1.7978e-01,  7.9661e-01,  1.1052e-01,  1.4130e-01, -8.9604e-01,\n",
      "          2.3818e-01,  9.2208e-01, -4.3531e-02, -2.4626e-01, -1.1241e+00,\n",
      "         -8.8188e-02, -1.0015e-01,  3.2919e-01,  7.4468e-01, -1.6896e-01,\n",
      "          2.6462e-02,  2.6897e-01, -9.4848e-01, -3.1924e-01, -4.8680e-01,\n",
      "          1.4498e-01,  2.8538e-01,  1.7976e-01, -2.3442e-01, -9.5571e-01,\n",
      "         -1.8895e-01,  1.6542e-01,  5.0384e-02, -1.1931e-01,  1.6759e-01,\n",
      "         -3.7734e-03, -5.1584e-01,  2.7484e-01, -4.5806e-02, -1.4605e-01,\n",
      "         -3.4705e-01,  8.2601e-02, -5.5678e-02, -8.2360e-01, -6.3233e-01,\n",
      "         -5.2397e-02, -5.2486e-02,  4.5064e-02]], device='cuda:0',\n",
      "       grad_fn=<AddmmBackward0>)\n",
      "logvar = tensor([[-1.8267e-01, -8.1708e-02,  6.6105e-02, -1.2797e-01,  1.5700e-02,\n",
      "         -8.5370e-02,  4.8626e-02, -3.8610e-02,  2.4175e-01,  7.0466e-02,\n",
      "          5.4929e-02,  6.9013e-02,  2.2511e-02,  3.4844e-02,  1.6916e-01,\n",
      "          2.7479e-02,  2.1514e-02,  1.4656e-01, -7.6607e-02,  1.1071e-03,\n",
      "         -2.6391e-02, -8.1614e-02,  9.3125e-02,  1.2185e-01,  1.2297e-01,\n",
      "          1.8970e-02,  9.7707e-02, -2.3215e-02, -1.0580e-02, -1.5348e-02,\n",
      "          8.8223e-02,  4.2054e-02,  6.5093e-02,  1.1327e-02, -3.8063e-02,\n",
      "          2.5546e-02,  2.0058e-02,  8.9762e-02, -1.1850e-01, -2.4009e-02,\n",
      "          8.3016e-02,  1.0085e-01, -1.8848e-02,  1.6361e-03,  1.2182e-01,\n",
      "          1.1429e-01, -1.8972e-01,  3.4611e-02,  1.6635e-01,  7.6152e-02,\n",
      "          1.7265e-02, -3.7184e-01, -1.6835e-02, -1.0255e+00, -1.1453e-01,\n",
      "          2.9240e-02, -6.6101e-01,  9.7071e-02, -3.2683e-02, -6.5932e-01,\n",
      "         -7.3872e-02,  7.3908e-02,  6.8655e-02,  3.3812e-02,  1.2704e-01,\n",
      "          4.2273e-02,  1.5703e-01,  6.6105e-03,  6.2877e-03,  9.1652e-03,\n",
      "         -6.5235e-01, -2.1450e-03, -6.9019e-01,  2.2788e-01,  8.1270e-02,\n",
      "          3.7153e-02, -3.2282e-02,  9.2552e-02, -1.2272e-01,  1.0185e-01,\n",
      "          9.3022e-02, -2.1475e-01, -1.2924e-01, -3.0979e-02, -6.8081e-04,\n",
      "          2.0340e-02, -4.5958e-01, -9.0279e-02,  1.2349e-01, -2.6049e-01,\n",
      "          1.1640e-01, -3.2532e-01,  8.7264e-02,  1.6004e-01, -1.3374e+00,\n",
      "          1.2397e-01,  1.0417e-02,  2.7160e-02,  2.2917e-01, -1.9497e-01,\n",
      "          3.9414e-02, -5.5774e-02,  2.2005e-01,  1.4622e-02,  1.1314e-01,\n",
      "          5.3377e-02,  3.3998e-02, -1.5293e-03,  1.2736e-01, -1.0898e+00,\n",
      "          1.8281e-01,  4.8868e-03,  2.9534e-02, -7.2949e-03,  1.0132e-01,\n",
      "          1.4782e-02, -8.3891e-01, -1.6241e-01,  2.1605e-02, -4.0880e-02,\n",
      "          1.1055e-01,  5.8074e-02,  1.4848e-01, -1.2955e+00,  1.8626e-01,\n",
      "          1.0011e-01,  2.2247e-02,  4.1286e-02]], device='cuda:0',\n",
      "       grad_fn=<AddmmBackward0>)\n"
     ]
    },
    {
     "data": {
      "text/plain": [
       "<matplotlib.image.AxesImage at 0x1f59c52b410>"
      ]
     },
     "execution_count": 23,
     "metadata": {},
     "output_type": "execute_result"
    },
    {
     "data": {
      "image/png": "[encoded data removed]",
      "text/plain": [
       "<Figure size 1000x500 with 2 Axes>"
      ]
     },
     "metadata": {},
     "output_type": "display_data"
    }
   ],
   "source": [
    "input, image = load_image_to_tensor(picture_name, transform)\n",
    "\n",
    "# Running the input on the output\n",
    "output, mu, logvar = sp.model(input)\n",
    "\n",
    "# Output: the visual reconstruction\n",
    "output_for_pic = output[0].cpu().permute(1, 2, 0).detach().numpy()\n",
    "\n",
    "# mu: the encoding,\n",
    "print(f\"mu = {mu}\")\n",
    "\n",
    "# log_var: the log-var values for this input \n",
    "print(f\"logvar = {logvar}\")\n",
    "\n",
    "# Showing the input and the reconstructed output side by side \n",
    "fig, axs = plt.subplots(1, 2, figsize=(10, 5))\n",
    "axs[0].imshow(image)\n",
    "axs[1].imshow(output_for_pic)\n"
   ]
  },
  {
   "cell_type": "code",
   "execution_count": null,
   "metadata": {},
   "outputs": [],
   "source": [
    "\n",
    "# Try to do a decoding from the same mu\n",
    "z2 = sp.model.reparameterize(mu, logvar)\n",
    "\n",
    "for i in range(Config().values[\"robot\"][\"latent_encoding_size\"]):\n",
    "    z2[0][i] = z2[0][i] + 0.1\n",
    "\n",
    "#z2[0][1] = 2.0\n",
    "#z2[0][3] = 2.0\n",
    "output2 = sp.model.decode(z2)\n",
    "output_for_pic2 = output2[0].cpu().permute(1, 2, 0).detach().numpy()\n",
    "\n",
    "# initial and new\n",
    "fig, axs = plt.subplots(1, 2, figsize=(10, 5))\n",
    "\n",
    "axs[0].imshow(output_for_pic)\n",
    "axs[1].imshow(output_for_pic2)\n"
   ]
  },
  {
   "cell_type": "markdown",
   "metadata": {},
   "source": [
    "# Generating random samples from the model"
   ]
  },
  {
   "cell_type": "code",
   "execution_count": null,
   "metadata": {},
   "outputs": [],
   "source": [
    "import random\n",
    "\n",
    "# z2 = model.reparameterize(mu, logvar)\n",
    "# initial and new\n",
    "fig, axs = plt.subplots(5, 5, figsize=(10, 5))\n",
    "for x in range(0, 5):\n",
    "    for y in range(0, 5):\n",
    "            z2 = sp.model.reparameterize(mu, logvar)\n",
    "            for i in range(Config().values[\"robot\"][\"latent_encoding_size\"]):\n",
    "                z2[0][i] += random.uniform(-0.5, 0.5)\n",
    "            output2 = sp.model.decode(z2)\n",
    "            output_for_pic2 = output2[0].cpu().permute(1, 2, 0).detach().numpy()\n",
    "            axs[x][y].imshow(output_for_pic2)\n",
    "#axs[0].imshow(output_for_pic)\n",
    "#axs[1].imshow(output_for_pic2)"
   ]
  }
 ],
 "metadata": {
  "kernelspec": {
   "display_name": "Robot-venv",
   "language": "python",
   "name": "python3"
  },
  "language_info": {
   "codemirror_mode": {
    "name": "ipython",
    "version": 3
   },
   "file_extension": ".py",
   "mimetype": "text/x-python",
   "name": "python",
   "nbconvert_exporter": "python",
   "pygments_lexer": "ipython3",
   "version": "3.11.4"
  }
 },
 "nbformat": 4,
 "nbformat_minor": 2
}
