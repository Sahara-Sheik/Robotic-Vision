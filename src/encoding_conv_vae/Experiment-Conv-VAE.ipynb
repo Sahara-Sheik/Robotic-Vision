{
 "cells": [
  {
   "cell_type": "markdown",
   "metadata": {},
   "source": [
    "# Interactively validate a Convolutional Variational Autoencoder\n",
    "\n",
    "The code in this nodebook is loading a pre-trained model and experiment with the encoder and decoder. "
   ]
  },
  {
   "cell_type": "code",
   "execution_count": null,
   "metadata": {},
   "outputs": [],
   "source": [
    "import sys\n",
    "sys.path.append(\"..\")\n",
    "\n",
    "from settings import Config\n",
    "sys.path.append(Config().values[\"conv_vae\"][\"code_dir\"])\n",
    "\n",
    "from sensorprocessing import sp_conv_vae\n",
    "from conv_vae import load_image_to_tensor, get_transform\n",
    "\n",
    "#import torch\n",
    "#import torchvision.transforms as transforms\n",
    "#from torchvision import transforms\n",
    "import os\n",
    "import matplotlib.pyplot as plt\n",
    "import pathlib\n",
    "\n",
    "# Oh, this hack was fixing something, but for me it is the other way around\n",
    "#temp = pathlib.PosixPath\n",
    "#pathlib.PosixPath = pathlib.WindowsPath"
   ]
  },
  {
   "cell_type": "code",
   "execution_count": null,
   "metadata": {},
   "outputs": [],
   "source": [
    "sp = sp_conv_vae.ConvVaeSensorProcessing()\n",
    "print(sp.model)\n",
    "print(sp.model.encoder)\n",
    "print(f\"latent_dim {sp.model.latent_dim}\")\n",
    "# print(model.hidden_dims)"
   ]
  },
  {
   "cell_type": "markdown",
   "metadata": {},
   "source": [
    "## Pass one picture through the complete autoencoder\n",
    "\n",
    "Pass one specific picture through the complete autoencoder. Compare the input and the output. This is basically trying out whether the VAE had captured the picture sufficiently.\n",
    "\n",
    "This code also is intended as a sample of how to use the pre-trained model, how to feed it new data without the training code. "
   ]
  },
  {
   "cell_type": "code",
   "execution_count": null,
   "metadata": {},
   "outputs": [],
   "source": [
    "# picture_name = '../../localdata/img/Rafael.jpg'\n",
    "# picture_name = '../../localdata/img/indian-man.jpeg'\n",
    "# picture_name = '../../localdata/img/00029_dev2.jpg'\n",
    "\n",
    "# Choose a random image from the training data. \n",
    "\n",
    "directory = pathlib.Path(Config().values[\"conv_vae\"][\"training_data_dir\"], \"Class-Folder\")\n",
    "print(directory)\n",
    "files = list(directory.glob('*.jpg'))\n",
    "picture_name = pathlib.Path(directory, files[11])\n"
   ]
  },
  {
   "cell_type": "code",
   "execution_count": 4,
   "metadata": {},
   "outputs": [],
   "source": [
    "\n"
   ]
  },
  {
   "cell_type": "code",
   "execution_count": null,
   "metadata": {},
   "outputs": [],
   "source": [
    "transform = get_transform()\n",
    "\n",
    "input, image = load_image_to_tensor(picture_name, transform)\n",
    "\n",
    "# Running the input on the output\n",
    "output, mu, logvar = sp.model(input)\n",
    "\n",
    "# Output: the visual reconstruction\n",
    "output_for_pic = output[0].cpu().permute(1, 2, 0).detach().numpy()\n",
    "\n",
    "# mu: the encoding,\n",
    "print(f\"mu = {mu}\")\n",
    "\n",
    "# log_var: the log-var values for this input \n",
    "print(f\"logvar = {logvar}\")\n",
    "\n",
    "# Showing the input and the reconstructed output side by side \n",
    "fig, axs = plt.subplots(1, 2, figsize=(10, 5))\n",
    "axs[0].imshow(image)\n",
    "axs[1].imshow(output_for_pic)\n"
   ]
  },
  {
   "cell_type": "code",
   "execution_count": null,
   "metadata": {},
   "outputs": [],
   "source": [
    "\n",
    "# Try to do a decoding from the same mu\n",
    "z2 = sp.model.reparameterize(mu, logvar)\n",
    "\n",
    "for i in range(Config().values[\"robot\"][\"latent_encoding_size\"]):\n",
    "    z2[0][i] = z2[0][i] + 0.1\n",
    "\n",
    "#z2[0][1] = 2.0\n",
    "#z2[0][3] = 2.0\n",
    "output2 = sp.model.decode(z2)\n",
    "output_for_pic2 = output2[0].cpu().permute(1, 2, 0).detach().numpy()\n",
    "\n",
    "# initial and new\n",
    "fig, axs = plt.subplots(1, 2, figsize=(10, 5))\n",
    "\n",
    "axs[0].imshow(output_for_pic)\n",
    "axs[1].imshow(output_for_pic2)\n"
   ]
  },
  {
   "cell_type": "markdown",
   "metadata": {},
   "source": [
    "# Generating random samples from the model"
   ]
  },
  {
   "cell_type": "code",
   "execution_count": null,
   "metadata": {},
   "outputs": [],
   "source": [
    "import random\n",
    "\n",
    "# z2 = model.reparameterize(mu, logvar)\n",
    "# initial and new\n",
    "fig, axs = plt.subplots(5, 5, figsize=(10, 10))\n",
    "for x in range(0, 5):\n",
    "    for y in range(0, 5):\n",
    "            z2 = sp.model.reparameterize(mu, logvar)\n",
    "            for i in range(Config().values[\"robot\"][\"latent_encoding_size\"]):\n",
    "                z2[0][i] += random.uniform(-0.5, 0.5)\n",
    "            output2 = sp.model.decode(z2)\n",
    "            output_for_pic2 = output2[0].cpu().permute(1, 2, 0).detach().numpy()\n",
    "            axs[x][y].imshow(output_for_pic2)\n",
    "#axs[0].imshow(output_for_pic)\n",
    "#axs[1].imshow(output_for_pic2)"
   ]
  },
  {
   "cell_type": "code",
   "execution_count": null,
   "metadata": {},
   "outputs": [],
   "source": []
  },
  {
   "cell_type": "code",
   "execution_count": null,
   "metadata": {},
   "outputs": [],
   "source": []
  }
 ],
 "metadata": {
  "kernelspec": {
   "display_name": "Robot-venv",
   "language": "python",
   "name": "python3"
  },
  "language_info": {
   "codemirror_mode": {
    "name": "ipython",
    "version": 3
   },
   "file_extension": ".py",
   "mimetype": "text/x-python",
   "name": "python",
   "nbconvert_exporter": "python",
   "pygments_lexer": "ipython3",
   "version": "3.11.4"
  }
 },
 "nbformat": 4,
 "nbformat_minor": 2
}
