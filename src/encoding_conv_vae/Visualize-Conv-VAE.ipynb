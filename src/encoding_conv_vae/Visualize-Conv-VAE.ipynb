{
 "cells": [
  {
   "cell_type": "markdown",
   "metadata": {},
   "source": [
    "# Visualize the performance of a Convolutional Variational Autoencoder\n",
    "\n",
    "Load a pre-trained model specified by an experiment/run, and runs a number of visualizations of the performance of the VAE. "
   ]
  },
  {
   "cell_type": "code",
   "execution_count": null,
   "metadata": {},
   "outputs": [],
   "source": [
    "import sys\n",
    "sys.path.append(\"..\")\n",
    "# adding the Julian-8897-Conv-VAE-PyTorch into the path\n",
    "from settings import Config\n",
    "sys.path.append(Config()[\"conv_vae\"][\"code_dir\"])\n",
    "# from encoding_conv_vae.conv_vae import latest_json_and_model\n",
    "\n",
    "from sensorprocessing import sp_conv_vae\n",
    "from sensorprocessing import sp_helper\n",
    "\n",
    "from helper import ui_choose_task, ui_choose_demo\n",
    "import os\n",
    "import matplotlib.pyplot as plt\n",
    "from pathlib import Path\n",
    "import random\n",
    "\n",
    "# Oh, this hack was fixing something, but for me it is the other way around\n",
    "#temp = pathlib.PosixPath\n",
    "#pathlib.PosixPath = pathlib.WindowsPath"
   ]
  },
  {
   "cell_type": "code",
   "execution_count": 2,
   "metadata": {},
   "outputs": [],
   "source": [
    "run = \"vae_01\"\n"
   ]
  },
  {
   "cell_type": "markdown",
   "metadata": {},
   "source": [
    "## Pass one picture through the complete autoencoder\n",
    "\n",
    "Pass one specific picture through the complete autoencoder. Compare the input and the output. This is basically trying out whether the VAE had captured the picture sufficiently.\n",
    "\n",
    "This code also is intended as a sample of how to use the pre-trained model, how to feed it new data without the training code. "
   ]
  },
  {
   "cell_type": "raw",
   "metadata": {
    "vscode": {
     "languageId": "raw"
    }
   },
   "source": [
    "# picture_name = '../../localdata/img/Rafael.jpg'\n",
    "# picture_name = '../../localdata/img/indian-man.jpeg'\n",
    "# picture_name = '../../localdata/img/00029_dev2.jpg'\n",
    "\n",
    "# Choose a random image from the training data. \n",
    "\n",
    "directory = Path(Config()[\"conv_vae\"][\"training_data_dir\"], \"Images\")\n",
    "print(directory)\n",
    "files = list(directory.glob('*.jpg'))\n",
    "picture_name = Path(directory, files[11])\n"
   ]
  },
  {
   "cell_type": "markdown",
   "metadata": {},
   "source": [
    "Check if the sensor processing object works"
   ]
  },
  {
   "cell_type": "code",
   "execution_count": 3,
   "metadata": {},
   "outputs": [],
   "source": [
    "def visualize_VAE(sp, picture_name, axoriginal, axreconstr):\n",
    "    \"\"\"Visualize the performance of the reconstruction of a VAE sensorprocessing object. Show the original and the reconstruction in fields of a picture.\"\"\"\n",
    "    transform = sp_helper.get_transform_to_robot()\n",
    "    input, image = sp_helper.load_picturefile_to_tensor(picture_name, transform)\n",
    "    # Running the input on the output\n",
    "    output, mu, logvar = sp.model(input)\n",
    "    # Output: the visual reconstruction\n",
    "    output_for_pic = output[0].cpu().permute(1, 2, 0).detach().numpy()\n",
    "    # Showing the input and the reconstruction    \n",
    "    axoriginal.imshow(image)\n",
    "    axoriginal.set_title(\"Original\")\n",
    "    axreconstr.imshow(output_for_pic)\n",
    "    axreconstr.set_title(\"Reconstruct\")\n"
   ]
  },
  {
   "cell_type": "markdown",
   "metadata": {},
   "source": [
    "# Visualize a random set of images from a task with an SP"
   ]
  },
  {
   "cell_type": "code",
   "execution_count": null,
   "metadata": {},
   "outputs": [],
   "source": [
    "# Choose a random set of images from a task\n",
    "\n",
    "# task_id = None; demo_id = None\n",
    "task_id = 5; demo_id = 1\n",
    "_, task_dir = ui_choose_task(offer_task_creation=True, task_id=task_id)\n",
    "print(task_dir)\n",
    "demo_dir = ui_choose_demo(task_dir, demo_id=demo_id)\n",
    "# FIXME: need to choose the demonstration\n",
    "jpg_files = list(demo_dir.glob(\"*.jpg\"))\n",
    "n = 6\n",
    "randomjpg = random.sample(jpg_files, n)\n"
   ]
  },
  {
   "cell_type": "code",
   "execution_count": null,
   "metadata": {},
   "outputs": [],
   "source": [
    "\n",
    "sp = sp_conv_vae.get_sp_of_conv_vae_experiment(run)\n",
    "fig, axs = plt.subplots(2, n, figsize=(10, 5))\n",
    "for i in range(n):\n",
    "    visualize_VAE(sp, randomjpg[i], axs[0,i], axs[1,i])"
   ]
  },
  {
   "cell_type": "code",
   "execution_count": null,
   "metadata": {},
   "outputs": [],
   "source": [
    "\n",
    "sp = sp_conv_vae.get_sp_of_conv_vae_experiment(\"vae_01\")\n",
    "fig, axs = plt.subplots(2, n, figsize=(10, 5))\n",
    "for i in range(n):\n",
    "    visualize_VAE(sp, randomjpg[i], axs[0,i], axs[1,i])"
   ]
  },
  {
   "cell_type": "code",
   "execution_count": null,
   "metadata": {},
   "outputs": [],
   "source": [
    "\n",
    "# Try to do a decoding from the same mu\n",
    "z2 = sp.model.reparameterize(mu, logvar)\n",
    "\n",
    "for i in range(Config().values[\"robot\"][\"latent_encoding_size\"]):\n",
    "    z2[0][i] = z2[0][i] + 0.1\n",
    "\n",
    "#z2[0][1] = 2.0\n",
    "#z2[0][3] = 2.0\n",
    "output2 = sp.model.decode(z2)\n",
    "output_for_pic2 = output2[0].cpu().permute(1, 2, 0).detach().numpy()\n",
    "\n",
    "# initial and new\n",
    "fig, axs = plt.subplots(1, 2, figsize=(10, 5))\n",
    "\n",
    "axs[0].imshow(output_for_pic)\n",
    "axs[1].imshow(output_for_pic2)\n"
   ]
  },
  {
   "cell_type": "markdown",
   "metadata": {},
   "source": [
    "# Generating random samples from the model"
   ]
  },
  {
   "cell_type": "code",
   "execution_count": null,
   "metadata": {},
   "outputs": [],
   "source": [
    "import random\n",
    "\n",
    "# z2 = model.reparameterize(mu, logvar)\n",
    "# initial and new\n",
    "fig, axs = plt.subplots(5, 5, figsize=(10, 10))\n",
    "for x in range(0, 5):\n",
    "    for y in range(0, 5):\n",
    "            z2 = sp.model.reparameterize(mu, logvar)\n",
    "            for i in range(Config().values[\"robot\"][\"latent_encoding_size\"]):\n",
    "                z2[0][i] += random.uniform(-0.5, 0.5)\n",
    "            output2 = sp.model.decode(z2)\n",
    "            output_for_pic2 = output2[0].cpu().permute(1, 2, 0).detach().numpy()\n",
    "            axs[x][y].imshow(output_for_pic2)\n",
    "#axs[0].imshow(output_for_pic)\n",
    "#axs[1].imshow(output_for_pic2)"
   ]
  },
  {
   "cell_type": "code",
   "execution_count": null,
   "metadata": {},
   "outputs": [],
   "source": []
  }
 ],
 "metadata": {
  "kernelspec": {
   "display_name": "Robot-venv",
   "language": "python",
   "name": "python3"
  },
  "language_info": {
   "codemirror_mode": {
    "name": "ipython",
    "version": 3
   },
   "file_extension": ".py",
   "mimetype": "text/x-python",
   "name": "python",
   "nbconvert_exporter": "python",
   "pygments_lexer": "ipython3",
   "version": "3.11.4"
  }
 },
 "nbformat": 4,
 "nbformat_minor": 2
}
