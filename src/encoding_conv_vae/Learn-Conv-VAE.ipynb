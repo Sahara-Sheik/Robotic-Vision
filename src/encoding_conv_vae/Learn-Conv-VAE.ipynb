{
 "cells": [
  {
   "cell_type": "markdown",
   "metadata": {},
   "source": [
    "# Train a Convolutional Variational Autoencoder \n",
    "\n",
    "The code in this notebook is using the Conv-VAE package to train a convolutional variational autoencoder on training data collected from the robot. This is put into a notebook, as it needs to be run only once.\n",
    "\n",
    "The result of running this code is the creation of a \"final model\". \n",
    "\n",
    "The encoder portion of this model is the component that can be used for the encoder of the robot. "
   ]
  },
  {
   "cell_type": "code",
   "execution_count": 6,
   "metadata": {},
   "outputs": [],
   "source": [
    "import sys\n",
    "sys.path.append(\"..\")\n",
    "from settings import Config\n",
    "sys.path.append(Config().values[\"conv_vae\"][\"code_dir\"])\n",
    "# print(Config().values)\n",
    "\n",
    "import argparse\n",
    "import numpy as np\n",
    "import torch\n",
    "from tqdm import tqdm\n",
    "\n",
    "# these imports are from the Conv-VAE-Torch package\n",
    "import data_loader.data_loaders as module_data\n",
    "import model.loss as module_loss\n",
    "import model.metric as module_metric\n",
    "import model.model as module_arch\n",
    "from parse_config import ConfigParser\n",
    "from trainer import Trainer\n",
    "from utils import prepare_device\n",
    "# end of Conv-VAE-Torch imports\n",
    "\n",
    "from torch.nn import functional as F\n",
    "import torchvision.utils as vutils\n",
    "from torchvision import transforms\n",
    "from torch.autograd import Variable\n",
    "import os\n",
    "import matplotlib.pyplot as plt\n",
    "import argparse\n",
    "import socket\n",
    "\n",
    "from mpl_toolkits.axes_grid1 import ImageGrid\n",
    "#Fixes PosixPath Error\n",
    "import pathlib\n",
    "\n",
    "# Oh, this hack was fixing something, but for me it is the other way around\n",
    "#temp = pathlib.PosixPath\n",
    "#pathlib.PosixPath = pathlib.WindowsPath"
   ]
  },
  {
   "cell_type": "code",
   "execution_count": 7,
   "metadata": {},
   "outputs": [],
   "source": [
    "from conv_vae import get_config, create_configured_vae_json, train"
   ]
  },
  {
   "cell_type": "markdown",
   "metadata": {},
   "source": [
    "## Training.\n",
    "\n",
    "The parameters of the training process are set up in the config file."
   ]
  },
  {
   "cell_type": "code",
   "execution_count": 8,
   "metadata": {},
   "outputs": [
    {
     "name": "stdout",
     "output_type": "stream",
     "text": [
      "c:\\Users\\lboloni\\Documents\\Code\\_Checkouts\\Robot\\VisionBasedRobotManipulator\\src\\encoding_conv_vae\\conv-vae-config-default.json\n",
      "{'name': 'VAE_Robot', 'n_gpu': 1, 'arch': {'type': 'VanillaVAE', 'args': {'in_channels': 3, 'latent_dims': 128, 'flow': False}}, 'data_loader': {'type': 'CelebDataLoader', 'args': {'data_dir': 'c:\\\\Users\\\\lboloni\\\\Documents\\\\Code\\\\_TempData\\\\VisionBasedRobotManipulator-training-data\\\\vae-training-data', 'batch_size': 64, 'shuffle': True, 'validation_split': 0.2, 'num_workers': 2}}, 'optimizer': {'type': 'Adam', 'args': {'lr': 0.005, 'weight_decay': 0.0, 'amsgrad': True}}, 'loss': 'elbo_loss', 'metrics': [], 'lr_scheduler': {'type': 'StepLR', 'args': {'step_size': 50, 'gamma': 0.1}}, 'trainer': {'epochs': 3, 'save_dir': 'c:\\\\Users\\\\lboloni\\\\Documents\\\\Code\\\\_TempData\\\\VisionBasedRobotManipulator-models\\\\Conv-VAE\\\\', 'save_period': 1, 'verbosity': 2, 'monitor': 'min val_loss', 'early_stop': 10, 'tensorboard': True}}\n",
      "Warning: logging configuration file is not found in logger\\logger_config.json.\n",
      "<parse_config.ConfigParser object at 0x00000275C521F610>\n"
     ]
    },
    {
     "name": "stderr",
     "output_type": "stream",
     "text": [
      "C:\\Users\\lboloni\\Documents\\Code\\_Checkouts\\Conv-VAE-PyTorch\\utils\\util.py:59: FutureWarning: ChainedAssignmentError: behaviour will change in pandas 3.0!\n",
      "You are setting values through chained assignment. Currently this works in certain cases, but when using Copy-on-Write (which will become the default behaviour in pandas 3.0) this will never work to update the original DataFrame or Series, because the intermediate object on which we are setting values will behave as a copy.\n",
      "A typical example is when you are setting values in a column of a DataFrame, like:\n",
      "\n",
      "df[\"col\"][row_indexer] = value\n",
      "\n",
      "Use `df.loc[row_indexer, \"col\"] = values` instead, to perform the assignment in a single step and ensure this keeps updating the original `df`.\n",
      "\n",
      "See the caveats in the documentation: https://pandas.pydata.org/pandas-docs/stable/user_guide/indexing.html#returning-a-view-versus-a-copy\n",
      "\n",
      "  self._data.total[key] += value * n\n",
      "C:\\Users\\lboloni\\Documents\\Code\\_Checkouts\\Conv-VAE-PyTorch\\utils\\util.py:60: FutureWarning: ChainedAssignmentError: behaviour will change in pandas 3.0!\n",
      "You are setting values through chained assignment. Currently this works in certain cases, but when using Copy-on-Write (which will become the default behaviour in pandas 3.0) this will never work to update the original DataFrame or Series, because the intermediate object on which we are setting values will behave as a copy.\n",
      "A typical example is when you are setting values in a column of a DataFrame, like:\n",
      "\n",
      "df[\"col\"][row_indexer] = value\n",
      "\n",
      "Use `df.loc[row_indexer, \"col\"] = values` instead, to perform the assignment in a single step and ensure this keeps updating the original `df`.\n",
      "\n",
      "See the caveats in the documentation: https://pandas.pydata.org/pandas-docs/stable/user_guide/indexing.html#returning-a-view-versus-a-copy\n",
      "\n",
      "  self._data.counts[key] += n\n",
      "C:\\Users\\lboloni\\Documents\\Code\\_Checkouts\\Conv-VAE-PyTorch\\utils\\util.py:61: FutureWarning: ChainedAssignmentError: behaviour will change in pandas 3.0!\n",
      "You are setting values through chained assignment. Currently this works in certain cases, but when using Copy-on-Write (which will become the default behaviour in pandas 3.0) this will never work to update the original DataFrame or Series, because the intermediate object on which we are setting values will behave as a copy.\n",
      "A typical example is when you are setting values in a column of a DataFrame, like:\n",
      "\n",
      "df[\"col\"][row_indexer] = value\n",
      "\n",
      "Use `df.loc[row_indexer, \"col\"] = values` instead, to perform the assignment in a single step and ensure this keeps updating the original `df`.\n",
      "\n",
      "See the caveats in the documentation: https://pandas.pydata.org/pandas-docs/stable/user_guide/indexing.html#returning-a-view-versus-a-copy\n",
      "\n",
      "  self._data.average[key] = self._data.total[key] / self._data.counts[key]\n",
      "DEBUG:trainer:Train Epoch: 1 [0/78 (0%)] Loss: 164717.515625\n",
      "INFO:trainer:    epoch          : 1\n",
      "INFO:trainer:    loss           : 101133.359375\n",
      "WARNING:trainer:Warning: Metric 'val_loss' is not found. Model performance monitoring is disabled.\n",
      "INFO:trainer:Saving checkpoint: c:\\Users\\lboloni\\Documents\\Code\\_TempData\\VisionBasedRobotManipulator-models\\Conv-VAE\\models\\VAE_Robot\\0911_175514\\checkpoint-epoch1.pth ...\n",
      "DEBUG:trainer:Train Epoch: 2 [0/78 (0%)] Loss: 121523.671875\n",
      "INFO:trainer:    epoch          : 2\n",
      "INFO:trainer:    loss           : 73466.5146484375\n",
      "INFO:trainer:Saving checkpoint: c:\\Users\\lboloni\\Documents\\Code\\_TempData\\VisionBasedRobotManipulator-models\\Conv-VAE\\models\\VAE_Robot\\0911_175514\\checkpoint-epoch2.pth ...\n",
      "DEBUG:trainer:Train Epoch: 3 [0/78 (0%)] Loss: 70428.312500\n",
      "INFO:trainer:    epoch          : 3\n",
      "INFO:trainer:    loss           : 40198.33740234375\n",
      "INFO:trainer:Saving checkpoint: c:\\Users\\lboloni\\Documents\\Code\\_TempData\\VisionBasedRobotManipulator-models\\Conv-VAE\\models\\VAE_Robot\\0911_175514\\checkpoint-epoch3.pth ...\n"
     ]
    }
   ],
   "source": [
    "file = create_configured_vae_json()\n",
    "config = get_config(file)\n",
    "train(config)"
   ]
  },
  {
   "cell_type": "code",
   "execution_count": null,
   "metadata": {},
   "outputs": [],
   "source": []
  }
 ],
 "metadata": {
  "kernelspec": {
   "display_name": "venv",
   "language": "python",
   "name": "python3"
  },
  "language_info": {
   "codemirror_mode": {
    "name": "ipython",
    "version": 3
   },
   "file_extension": ".py",
   "mimetype": "text/x-python",
   "name": "python",
   "nbconvert_exporter": "python",
   "pygments_lexer": "ipython3",
   "version": "3.11.4"
  }
 },
 "nbformat": 4,
 "nbformat_minor": 2
}
