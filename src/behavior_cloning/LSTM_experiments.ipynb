{
 "cells": [
  {
   "cell_type": "markdown",
   "metadata": {},
   "source": [
    "# Experiments with learning an LSTM component for behavior cloning\n",
    "\n",
    "* Generate some kind of input and output data (of the right size)\n",
    "* The output data has to be some kind of realistic encoding for the robot... generate training data from it\n",
    "* Train a simple LSTM component on it\n",
    "* Train a chained LSTM component, with residuals on it\n",
    "* Train a mixture density network on it. \n",
    "\n",
    "In the original architecture, the thing that worked was something with a mixture density network. Also some kind of autoregressive model was there. \n",
    "\n",
    "New models are training chunks, rather than individual actions (although with transformer). Investigate if this is necessary?"
   ]
  },
  {
   "cell_type": "markdown",
   "metadata": {},
   "source": []
  }
 ],
 "metadata": {
  "language_info": {
   "name": "python"
  }
 },
 "nbformat": 4,
 "nbformat_minor": 2
}
